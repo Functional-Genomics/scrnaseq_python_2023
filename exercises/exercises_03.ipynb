{
 "cells": [
  {
   "cell_type": "markdown",
   "id": "b2a03c2c",
   "metadata": {},
   "source": [
    "# Single-cell RNA-seqs analysis using Python  \n",
    "## Exercises 03: Batch correction and data integration"
   ]
  },
  {
   "cell_type": "markdown",
   "id": "7455f290",
   "metadata": {},
   "source": [
    "Adapted from:  \n",
    "Single-cell best practices  \n",
    "www.sc-best-practices.org"
   ]
  },
  {
   "cell_type": "markdown",
   "id": "5c2a4a19-1c29-4f3d-8fd1-749ffa8da451",
   "metadata": {},
   "source": [
    "This exercise uses the same input data with the practicals_03 of this course\n",
    "\n",
    "Work in groups, answer the questions and run the code"
   ]
  },
  {
   "cell_type": "markdown",
   "id": "ccc87cc5-517c-4410-acb0-fd04a96ec50c",
   "metadata": {},
   "source": [
    "## 1.  Load dependencies\n",
    "Activate the conda environment `sc_py_intg` to run this notebook.  \n",
    "```\n",
    "conda activate sc_py_intg\n",
    "```"
   ]
  },
  {
   "cell_type": "code",
   "execution_count": 1,
   "id": "88c836a4-90cf-4605-b410-9ab39c8fcbed",
   "metadata": {},
   "outputs": [],
   "source": [
    "# package dependencies and suppress unnecessary warning messages \n",
    "from numba.core.errors import NumbaDeprecationWarning, NumbaPendingDeprecationWarning, NumbaWarning\n",
    "import warnings\n",
    "\n",
    "warnings.simplefilter('ignore', category=NumbaDeprecationWarning)\n",
    "warnings.simplefilter('ignore', category=NumbaPendingDeprecationWarning)\n",
    "warnings.simplefilter('ignore', category=NumbaWarning)"
   ]
  },
  {
   "cell_type": "code",
   "execution_count": 2,
   "id": "ae165580-862a-4d3b-8805-2376f1561ee8",
   "metadata": {},
   "outputs": [],
   "source": [
    "import scanpy as sc\n",
    "import bbknn\n",
    "import numpy as np\n",
    "import pandas as pd\n",
    "import matplotlib.pyplot as plt\n",
    "import matplotlib"
   ]
  },
  {
   "cell_type": "code",
   "execution_count": 3,
   "id": "99f660d4-38c6-4b9e-9699-dfaa8005c67d",
   "metadata": {},
   "outputs": [],
   "source": [
    "pd.set_option('display.max_columns', 40)"
   ]
  },
  {
   "cell_type": "code",
   "execution_count": 4,
   "id": "9d77af0f-4542-4480-a1af-e0bee51cf3e2",
   "metadata": {},
   "outputs": [],
   "source": [
    "import harmonypy\n",
    "import mnnpy"
   ]
  },
  {
   "cell_type": "code",
   "execution_count": 6,
   "id": "ff6ba799-07f1-426f-b10f-fdb2c1795996",
   "metadata": {},
   "outputs": [],
   "source": [
    "# reproducibility\n",
    "seed = 10\n",
    "np.random.seed(seed)"
   ]
  },
  {
   "cell_type": "markdown",
   "id": "ec12c56e-41c5-4af7-9824-acc5a553db8a",
   "metadata": {},
   "source": [
    "## 2.  Load and prepare input data"
   ]
  },
  {
   "cell_type": "code",
   "execution_count": 7,
   "id": "6b7545ba-fa3c-4d17-b317-4504d976613a",
   "metadata": {},
   "outputs": [],
   "source": [
    "adata_raw = adata_raw = sc.read_h5ad(\n",
    "    \"/home/training/training_data/openproblems_bmmc_multiome_genes_filtered.h5ad\"\n",
    ")"
   ]
  },
  {
   "cell_type": "code",
   "execution_count": 8,
   "id": "3b7c4ea6-45db-4ea3-b2e6-3400c114400d",
   "metadata": {},
   "outputs": [
    {
     "data": {
      "text/plain": [
       "AnnData object with n_obs × n_vars = 69249 × 129921\n",
       "    obs: 'GEX_pct_counts_mt', 'GEX_n_counts', 'GEX_n_genes', 'GEX_size_factors', 'GEX_phase', 'ATAC_nCount_peaks', 'ATAC_atac_fragments', 'ATAC_reads_in_peaks_frac', 'ATAC_blacklist_fraction', 'ATAC_nucleosome_signal', 'cell_type', 'batch', 'ATAC_pseudotime_order', 'GEX_pseudotime_order', 'Samplename', 'Site', 'DonorNumber', 'Modality', 'VendorLot', 'DonorID', 'DonorAge', 'DonorBMI', 'DonorBloodType', 'DonorRace', 'Ethnicity', 'DonorGender', 'QCMeds', 'DonorSmoker'\n",
       "    var: 'feature_types', 'gene_id'\n",
       "    uns: 'ATAC_gene_activity_var_names', 'dataset_id', 'genome', 'organism'\n",
       "    obsm: 'ATAC_gene_activity', 'ATAC_lsi_full', 'ATAC_lsi_red', 'ATAC_umap', 'GEX_X_pca', 'GEX_X_umap'\n",
       "    layers: 'counts'"
      ]
     },
     "execution_count": 8,
     "metadata": {},
     "output_type": "execute_result"
    }
   ],
   "source": [
    "adata_raw"
   ]
  },
  {
   "cell_type": "code",
   "execution_count": 9,
   "id": "e2b581d6-ea05-487d-8ae4-cf33f2ef511f",
   "metadata": {},
   "outputs": [],
   "source": [
    "# set raw counts as the main matrix\n",
    "adata_raw.X = adata_raw.layers['counts']"
   ]
  },
  {
   "cell_type": "code",
   "execution_count": 10,
   "id": "18fafd55-45a5-45e9-9a10-982e3f3d6afb",
   "metadata": {},
   "outputs": [
    {
     "data": {
      "text/html": [
       "<div>\n",
       "<style scoped>\n",
       "    .dataframe tbody tr th:only-of-type {\n",
       "        vertical-align: middle;\n",
       "    }\n",
       "\n",
       "    .dataframe tbody tr th {\n",
       "        vertical-align: top;\n",
       "    }\n",
       "\n",
       "    .dataframe thead th {\n",
       "        text-align: right;\n",
       "    }\n",
       "</style>\n",
       "<table border=\"1\" class=\"dataframe\">\n",
       "  <thead>\n",
       "    <tr style=\"text-align: right;\">\n",
       "      <th></th>\n",
       "      <th>GEX_pct_counts_mt</th>\n",
       "      <th>GEX_n_counts</th>\n",
       "      <th>GEX_n_genes</th>\n",
       "      <th>GEX_size_factors</th>\n",
       "      <th>GEX_phase</th>\n",
       "      <th>ATAC_nCount_peaks</th>\n",
       "      <th>ATAC_atac_fragments</th>\n",
       "      <th>ATAC_reads_in_peaks_frac</th>\n",
       "      <th>ATAC_blacklist_fraction</th>\n",
       "      <th>ATAC_nucleosome_signal</th>\n",
       "      <th>cell_type</th>\n",
       "      <th>batch</th>\n",
       "      <th>ATAC_pseudotime_order</th>\n",
       "      <th>GEX_pseudotime_order</th>\n",
       "      <th>Samplename</th>\n",
       "      <th>Site</th>\n",
       "      <th>DonorNumber</th>\n",
       "      <th>Modality</th>\n",
       "      <th>VendorLot</th>\n",
       "      <th>DonorID</th>\n",
       "      <th>DonorAge</th>\n",
       "      <th>DonorBMI</th>\n",
       "      <th>DonorBloodType</th>\n",
       "      <th>DonorRace</th>\n",
       "      <th>Ethnicity</th>\n",
       "      <th>DonorGender</th>\n",
       "      <th>QCMeds</th>\n",
       "      <th>DonorSmoker</th>\n",
       "    </tr>\n",
       "  </thead>\n",
       "  <tbody>\n",
       "    <tr>\n",
       "      <th>TAGTTGTCACCCTCAC-1-s1d1</th>\n",
       "      <td>1.061008</td>\n",
       "      <td>1508.0</td>\n",
       "      <td>1022</td>\n",
       "      <td>0.453484</td>\n",
       "      <td>S</td>\n",
       "      <td>4031.0</td>\n",
       "      <td>5400</td>\n",
       "      <td>0.746481</td>\n",
       "      <td>0.003473</td>\n",
       "      <td>0.642468</td>\n",
       "      <td>Naive CD20+ B</td>\n",
       "      <td>s1d1</td>\n",
       "      <td>NaN</td>\n",
       "      <td>NaN</td>\n",
       "      <td>site1_donor1_multiome</td>\n",
       "      <td>site1</td>\n",
       "      <td>donor1</td>\n",
       "      <td>multiome</td>\n",
       "      <td>3054455</td>\n",
       "      <td>15078</td>\n",
       "      <td>34</td>\n",
       "      <td>24.8</td>\n",
       "      <td>B-</td>\n",
       "      <td>White</td>\n",
       "      <td>HISPANIC OR LATINO</td>\n",
       "      <td>Male</td>\n",
       "      <td>False</td>\n",
       "      <td>Nonsmoker</td>\n",
       "    </tr>\n",
       "    <tr>\n",
       "      <th>CTATGGCCATAACGGG-1-s1d1</th>\n",
       "      <td>0.604230</td>\n",
       "      <td>1655.0</td>\n",
       "      <td>1081</td>\n",
       "      <td>0.455631</td>\n",
       "      <td>G2M</td>\n",
       "      <td>8636.0</td>\n",
       "      <td>19266</td>\n",
       "      <td>0.448251</td>\n",
       "      <td>0.003126</td>\n",
       "      <td>1.220679</td>\n",
       "      <td>CD14+ Mono</td>\n",
       "      <td>s1d1</td>\n",
       "      <td>NaN</td>\n",
       "      <td>NaN</td>\n",
       "      <td>site1_donor1_multiome</td>\n",
       "      <td>site1</td>\n",
       "      <td>donor1</td>\n",
       "      <td>multiome</td>\n",
       "      <td>3054455</td>\n",
       "      <td>15078</td>\n",
       "      <td>34</td>\n",
       "      <td>24.8</td>\n",
       "      <td>B-</td>\n",
       "      <td>White</td>\n",
       "      <td>HISPANIC OR LATINO</td>\n",
       "      <td>Male</td>\n",
       "      <td>False</td>\n",
       "      <td>Nonsmoker</td>\n",
       "    </tr>\n",
       "  </tbody>\n",
       "</table>\n",
       "</div>"
      ],
      "text/plain": [
       "                         GEX_pct_counts_mt  GEX_n_counts  GEX_n_genes  \\\n",
       "TAGTTGTCACCCTCAC-1-s1d1           1.061008        1508.0         1022   \n",
       "CTATGGCCATAACGGG-1-s1d1           0.604230        1655.0         1081   \n",
       "\n",
       "                         GEX_size_factors GEX_phase  ATAC_nCount_peaks  \\\n",
       "TAGTTGTCACCCTCAC-1-s1d1          0.453484         S             4031.0   \n",
       "CTATGGCCATAACGGG-1-s1d1          0.455631       G2M             8636.0   \n",
       "\n",
       "                         ATAC_atac_fragments  ATAC_reads_in_peaks_frac  \\\n",
       "TAGTTGTCACCCTCAC-1-s1d1                 5400                  0.746481   \n",
       "CTATGGCCATAACGGG-1-s1d1                19266                  0.448251   \n",
       "\n",
       "                         ATAC_blacklist_fraction  ATAC_nucleosome_signal  \\\n",
       "TAGTTGTCACCCTCAC-1-s1d1                 0.003473                0.642468   \n",
       "CTATGGCCATAACGGG-1-s1d1                 0.003126                1.220679   \n",
       "\n",
       "                             cell_type batch  ATAC_pseudotime_order  \\\n",
       "TAGTTGTCACCCTCAC-1-s1d1  Naive CD20+ B  s1d1                    NaN   \n",
       "CTATGGCCATAACGGG-1-s1d1     CD14+ Mono  s1d1                    NaN   \n",
       "\n",
       "                         GEX_pseudotime_order             Samplename   Site  \\\n",
       "TAGTTGTCACCCTCAC-1-s1d1                   NaN  site1_donor1_multiome  site1   \n",
       "CTATGGCCATAACGGG-1-s1d1                   NaN  site1_donor1_multiome  site1   \n",
       "\n",
       "                        DonorNumber  Modality  VendorLot  DonorID  DonorAge  \\\n",
       "TAGTTGTCACCCTCAC-1-s1d1      donor1  multiome    3054455    15078        34   \n",
       "CTATGGCCATAACGGG-1-s1d1      donor1  multiome    3054455    15078        34   \n",
       "\n",
       "                         DonorBMI DonorBloodType DonorRace  \\\n",
       "TAGTTGTCACCCTCAC-1-s1d1      24.8             B-     White   \n",
       "CTATGGCCATAACGGG-1-s1d1      24.8             B-     White   \n",
       "\n",
       "                                  Ethnicity DonorGender QCMeds DonorSmoker  \n",
       "TAGTTGTCACCCTCAC-1-s1d1  HISPANIC OR LATINO        Male  False   Nonsmoker  \n",
       "CTATGGCCATAACGGG-1-s1d1  HISPANIC OR LATINO        Male  False   Nonsmoker  "
      ]
     },
     "execution_count": 10,
     "metadata": {},
     "output_type": "execute_result"
    }
   ],
   "source": [
    "adata_raw.obs.head(n=2)"
   ]
  },
  {
   "cell_type": "raw",
   "id": "20fc1347-b108-4e5f-9227-a7483bc6fff0",
   "metadata": {},
   "source": [
    "What is in the example data?\n",
    "\n",
    "There are 13 different batches in the dataset. During this experiment, multiple samples were taken from a set of donors and sequenced at different facilities so the names here are a combination of the sample number (eg. “s1”) and the donor (eg. “d2”). \n",
    "\n",
    "For simplicity, and to reduce computational time, we will select three samples to use."
   ]
  },
  {
   "cell_type": "markdown",
   "id": "1e6e94f0-8b06-4f9c-be4d-d6a4f7bd4244",
   "metadata": {},
   "source": [
    "#### let's take a look at all samples from donor 1"
   ]
  },
  {
   "cell_type": "code",
   "execution_count": 11,
   "id": "bff8e9e4-3987-4be0-b4f1-e777a388b758",
   "metadata": {},
   "outputs": [
    {
     "data": {
      "text/plain": [
       "site4    8023\n",
       "site1    6224\n",
       "site2    4220\n",
       "Name: Site, dtype: int64"
      ]
     },
     "execution_count": 11,
     "metadata": {},
     "output_type": "execute_result"
    }
   ],
   "source": [
    "adata_raw[adata_raw.obs.DonorNumber == 'donor1'].obs['Site'].value_counts()\n",
    "# we have 3 sites (samples) from donor 1"
   ]
  },
  {
   "cell_type": "code",
   "execution_count": 12,
   "id": "eadd5a8e-bbf0-426e-a072-2c051ca56f28",
   "metadata": {},
   "outputs": [
    {
     "data": {
      "text/plain": [
       "AnnData object with n_obs × n_vars = 18467 × 129921\n",
       "    obs: 'GEX_pct_counts_mt', 'GEX_n_counts', 'GEX_n_genes', 'GEX_size_factors', 'GEX_phase', 'ATAC_nCount_peaks', 'ATAC_atac_fragments', 'ATAC_reads_in_peaks_frac', 'ATAC_blacklist_fraction', 'ATAC_nucleosome_signal', 'cell_type', 'batch', 'ATAC_pseudotime_order', 'GEX_pseudotime_order', 'Samplename', 'Site', 'DonorNumber', 'Modality', 'VendorLot', 'DonorID', 'DonorAge', 'DonorBMI', 'DonorBloodType', 'DonorRace', 'Ethnicity', 'DonorGender', 'QCMeds', 'DonorSmoker'\n",
       "    var: 'feature_types', 'gene_id'\n",
       "    uns: 'ATAC_gene_activity_var_names', 'dataset_id', 'genome', 'organism'\n",
       "    obsm: 'ATAC_gene_activity', 'ATAC_lsi_full', 'ATAC_lsi_red', 'ATAC_umap', 'GEX_X_pca', 'GEX_X_umap'\n",
       "    layers: 'counts'"
      ]
     },
     "execution_count": 12,
     "metadata": {},
     "output_type": "execute_result"
    }
   ],
   "source": [
    "adata = adata_raw[adata_raw.obs.DonorNumber == 'donor1'].copy()\n",
    "adata"
   ]
  },
  {
   "cell_type": "code",
   "execution_count": 14,
   "id": "62155e53-8e8b-4339-8eb5-8254a19612c4",
   "metadata": {},
   "outputs": [
    {
     "data": {
      "text/plain": [
       "ATAC    116490\n",
       "GEX      13431\n",
       "Name: feature_types, dtype: int64"
      ]
     },
     "execution_count": 14,
     "metadata": {},
     "output_type": "execute_result"
    }
   ],
   "source": [
    "# Only keep gene expression features as the original data is a multiome dataset\n",
    "\n",
    "adata.var[\"feature_types\"].value_counts()"
   ]
  },
  {
   "cell_type": "code",
   "execution_count": 15,
   "id": "aefc3d18-e937-4cfa-91fc-aad5bb7b69e2",
   "metadata": {},
   "outputs": [
    {
     "data": {
      "text/plain": [
       "AnnData object with n_obs × n_vars = 18467 × 13431\n",
       "    obs: 'GEX_pct_counts_mt', 'GEX_n_counts', 'GEX_n_genes', 'GEX_size_factors', 'GEX_phase', 'ATAC_nCount_peaks', 'ATAC_atac_fragments', 'ATAC_reads_in_peaks_frac', 'ATAC_blacklist_fraction', 'ATAC_nucleosome_signal', 'cell_type', 'batch', 'ATAC_pseudotime_order', 'GEX_pseudotime_order', 'Samplename', 'Site', 'DonorNumber', 'Modality', 'VendorLot', 'DonorID', 'DonorAge', 'DonorBMI', 'DonorBloodType', 'DonorRace', 'Ethnicity', 'DonorGender', 'QCMeds', 'DonorSmoker'\n",
       "    var: 'feature_types', 'gene_id', 'n_cells'\n",
       "    uns: 'ATAC_gene_activity_var_names', 'dataset_id', 'genome', 'organism'\n",
       "    obsm: 'ATAC_gene_activity', 'ATAC_lsi_full', 'ATAC_lsi_red', 'ATAC_umap', 'GEX_X_pca', 'GEX_X_umap'\n",
       "    layers: 'counts'"
      ]
     },
     "execution_count": 15,
     "metadata": {},
     "output_type": "execute_result"
    }
   ],
   "source": [
    "adata = adata[:, adata.var[\"feature_types\"] == \"GEX\"].copy()\n",
    "sc.pp.filter_genes(adata, min_cells=1)\n",
    "adata"
   ]
  },
  {
   "cell_type": "markdown",
   "id": "f55c3c0c-99d8-4a35-9169-9dab4ed30d60",
   "metadata": {
    "tags": []
   },
   "source": [
    "---\n",
    "**Question 1: if we plan to integrate data from donor one, fill in the label_key and batch_key**\n"
   ]
  },
  {
   "cell_type": "code",
   "execution_count": null,
   "id": "994bb14d-1df3-4a56-a279-798a0eba42a1",
   "metadata": {},
   "outputs": [],
   "source": [
    "## Answer 1\n",
    "\n",
    "label_key = \n",
    "batch_key = "
   ]
  },
  {
   "cell_type": "markdown",
   "id": "bcbdc4f0-cd86-4a40-a617-6c9b76e0b228",
   "metadata": {},
   "source": [
    "## 3.  Data integration\n",
    "### 1. First check unintegrated data"
   ]
  },
  {
   "cell_type": "code",
   "execution_count": null,
   "id": "d949dbaf-e267-4f53-87a0-2466a17c685f",
   "metadata": {},
   "outputs": [],
   "source": [
    "# standard analysis without considering batch\n",
    "\n",
    "adata.X = adata.layers[\"counts\"].copy()\n",
    "sc.pp.normalize_total(adata)\n",
    "sc.pp.log1p(adata)\n",
    "adata.layers[\"logcounts\"] = adata.X.copy()"
   ]
  },
  {
   "cell_type": "code",
   "execution_count": null,
   "id": "8905afc9-5f53-4efc-894e-d9a5c9d330b6",
   "metadata": {},
   "outputs": [],
   "source": [
    "sc.pp.highly_variable_genes(adata)\n",
    "sc.tl.pca(adata)\n",
    "sc.pp.neighbors(adata)\n",
    "sc.tl.umap(adata)\n",
    "adata"
   ]
  },
  {
   "cell_type": "code",
   "execution_count": null,
   "id": "84060b8b-9407-42d2-be57-d349b52f8f20",
   "metadata": {},
   "outputs": [],
   "source": [
    "matplotlib.rcParams['figure.figsize'] = [3, 6]"
   ]
  },
  {
   "cell_type": "code",
   "execution_count": null,
   "id": "b879bfbb-340c-4c17-9d94-38886e927d7f",
   "metadata": {},
   "outputs": [],
   "source": [
    "sc.pl.umap(adata, color=[label_key, batch_key], wspace=1, ncols=1)"
   ]
  },
  {
   "cell_type": "markdown",
   "id": "cbb55851-6e60-40dd-92db-8e2429690672",
   "metadata": {},
   "source": [
    "---\n",
    "**Question 2: based on the unintegrated data, shall we perform batch correction? What are the reasons?**\n"
   ]
  },
  {
   "cell_type": "markdown",
   "id": "defe713e-c0a9-4aa5-a334-282e3d8da2e4",
   "metadata": {},
   "source": [
    "Answer 2:"
   ]
  },
  {
   "cell_type": "markdown",
   "id": "e298d87c-b4a9-4f25-af72-5b885476d93a",
   "metadata": {},
   "source": [
    "### 2. Batch-aware feature selection"
   ]
  },
  {
   "cell_type": "markdown",
   "id": "1cf8d1ed-e318-4605-96eb-be4f749db339",
   "metadata": {},
   "source": [
    "---\n",
    "**Question 3: write and run the line of code to perform batch-aware highly variable genes (HVGs) selection**\n"
   ]
  },
  {
   "cell_type": "code",
   "execution_count": null,
   "id": "de8612a3-096d-433a-875c-07cca5ce64c8",
   "metadata": {},
   "outputs": [],
   "source": [
    "# Answer 3\n"
   ]
  },
  {
   "cell_type": "code",
   "execution_count": null,
   "id": "d9d3ae0c-d969-47da-bca5-22bff0c4b2ea",
   "metadata": {},
   "outputs": [],
   "source": [
    "# see how many batches the gene is highly variable in\n",
    "\n",
    "n_batches = adata.var[\"highly_variable_nbatches\"].value_counts()\n",
    "ax = n_batches.plot(kind=\"bar\")\n",
    "n_batches"
   ]
  },
  {
   "cell_type": "code",
   "execution_count": null,
   "id": "dcfd5bab-034f-4f3b-a32b-a9f9968ddc61",
   "metadata": {},
   "outputs": [],
   "source": [
    "# move the unintegrated umap\n",
    "adata.obsm['X_umapraw'] = adata.obsm['X_umap']"
   ]
  },
  {
   "cell_type": "markdown",
   "id": "09c21124-bc21-4a49-859f-9da66299ba84",
   "metadata": {
    "tags": []
   },
   "source": [
    "### 3. Integration with harmony"
   ]
  },
  {
   "cell_type": "markdown",
   "id": "c00a299f-08c4-48f9-92b2-441515b2f680",
   "metadata": {},
   "source": [
    "---\n",
    "**Question 4: write and run the line of code to perform harmony integration based on PCA**\n"
   ]
  },
  {
   "cell_type": "code",
   "execution_count": null,
   "id": "6505361e-9d1e-41ed-acb4-067c3eea683f",
   "metadata": {},
   "outputs": [],
   "source": [
    "# Answer 4\n",
    "# run harmony via scanpy external API\n"
   ]
  },
  {
   "cell_type": "code",
   "execution_count": null,
   "id": "f9bf3927-f6dd-4d70-85d0-38770c372b61",
   "metadata": {},
   "outputs": [],
   "source": [
    "# recalculate neighbours and umap based on harmony corrected embedding\n",
    "\n",
    "sc.pp.neighbors(adata, use_rep='X_pca_harmony', key_added = 'harmony', n_neighbors=15, n_pcs=40)\n",
    "sc.tl.umap(adata, neighbors_key = 'harmony')"
   ]
  },
  {
   "cell_type": "code",
   "execution_count": null,
   "id": "b4a773ae-148e-424b-90b3-2e73f66f4b45",
   "metadata": {},
   "outputs": [],
   "source": [
    "matplotlib.rcParams['figure.figsize'] = [5, 6]"
   ]
  },
  {
   "cell_type": "code",
   "execution_count": null,
   "id": "fdf3ddda-83bc-420d-a0ee-06f4ab0b5181",
   "metadata": {},
   "outputs": [],
   "source": [
    "sc.pl.umap(adata, color=[label_key, batch_key], ncols=1)"
   ]
  },
  {
   "cell_type": "code",
   "execution_count": null,
   "id": "7b357343-30c7-458f-9728-e9dceaddc3b0",
   "metadata": {},
   "outputs": [],
   "source": [
    "# move harmony corrected umap\n",
    "adata.obsm['X_umapharmony'] = adata.obsm['X_umap']"
   ]
  },
  {
   "cell_type": "markdown",
   "id": "6e6c38bf-eaa0-47f8-8a46-c71c33da5452",
   "metadata": {},
   "source": [
    "---\n",
    "**Question 5: please answer if the following elements in the final anndata object is changed after data integration with harmony**\n",
    "1. Raw count matrix\n",
    "2. Log1p normalized count matrix\n",
    "3. Scaled count matrix\n",
    "4. Highly variable genes list\n",
    "5. PCA embedding\n",
    "6. The embedding used to calculate neighbours\n",
    "7. Neighbours\n",
    "8. UMAP embedding\n",
    "\n",
    "**what if bbknn is run instead? please list the elements that are changed in the final anndata object**\n",
    "\n",
    "**what if mnn_correct is run instead? please list the elements that are changed in the final anndata object**"
   ]
  },
  {
   "cell_type": "markdown",
   "id": "8594d5d0-acc4-4ef0-bed1-953c42eb56a2",
   "metadata": {},
   "source": [
    "---\n",
    "**Question 6: \n",
    "We know that algorithms such as mnn_correct in Python or Seurat CCA/RPCA in R can generate corrected pseudo-counts**\n",
    "\n",
    "**Discuss whether this count is suitable for performing differential expression analysis between cell types, and what are the reasons?**"
   ]
  },
  {
   "cell_type": "markdown",
   "id": "22ccf38c-ca91-4373-bbe6-386bbe1ed28e",
   "metadata": {},
   "source": [
    "#### The end"
   ]
  }
 ],
 "metadata": {
  "kernelspec": {
   "display_name": "sc_py_intg",
   "language": "python",
   "name": "sc_py_intg"
  },
  "language_info": {
   "codemirror_mode": {
    "name": "ipython",
    "version": 3
   },
   "file_extension": ".py",
   "mimetype": "text/x-python",
   "name": "python",
   "nbconvert_exporter": "python",
   "pygments_lexer": "ipython3",
   "version": "3.9.13"
  }
 },
 "nbformat": 4,
 "nbformat_minor": 5
}
