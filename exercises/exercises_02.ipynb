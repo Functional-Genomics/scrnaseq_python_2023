{
 "cells": [
  {
   "cell_type": "markdown",
   "id": "b2a03c2c",
   "metadata": {},
   "source": [
    "# Single-cell RNA-seqs analysis using Python "
   ]
  },
  {
   "cell_type": "markdown",
   "id": "7455f290",
   "metadata": {},
   "source": [
    "Adapted from:  \n",
    "Single-cell best practices  \n",
    "https://www.sc-best-practices.org/preamble.html"
   ]
  },
  {
   "cell_type": "markdown",
   "id": "f21bca12",
   "metadata": {},
   "source": [
    "## Dimensionality reduction  \n",
    "Needs conda env `sc_py_training`. "
   ]
  },
  {
   "cell_type": "code",
   "execution_count": 1,
   "id": "25cc3949-9b8f-4c1e-a0ec-ca1b6db70fe9",
   "metadata": {},
   "outputs": [],
   "source": [
    "import scanpy as sc\n",
    "\n",
    "sc.settings.verbosity = 0\n",
    "sc.settings.set_figure_params(\n",
    "    dpi=80,\n",
    "    facecolor=\"white\",\n",
    "    frameon=False,\n",
    ")"
   ]
  },
  {
   "cell_type": "code",
   "execution_count": null,
   "id": "dcff63ba",
   "metadata": {},
   "outputs": [],
   "source": [
    "##Load the data from the previous exercise (01)"
   ]
  },
  {
   "cell_type": "code",
   "execution_count": 2,
   "id": "4e087539-a363-42bb-bd20-639f92bdf587",
   "metadata": {},
   "outputs": [],
   "source": [
    "adata = sc.read(\"E-MTAB-6945_feature_selection.h5ad\")"
   ]
  },
  {
   "cell_type": "code",
   "execution_count": 3,
   "id": "abca7915",
   "metadata": {},
   "outputs": [
    {
     "data": {
      "text/plain": [
       "AnnData object with n_obs × n_vars = 5218 × 35682\n",
       "    obs: 'age', 'cell_type', 'developmental_stage', 'disease', 'genotype', 'individual', 'organism_part', 'organism', 'sex', 'strain', 'genotype.1', 'age_ontology', 'cell_type_ontology', 'developmental_stage_ontology', 'disease_ontology', 'genotype_ontology', 'individual_ontology', 'organism_part_ontology', 'organism_ontology', 'sex_ontology', 'strain_ontology', 'genotype_ontology.1'\n",
       "    var: 'gene_symbols', 'chromosome', 'start', 'end', 'width', 'source', 'type', 'score', 'phase', 'gene_version', 'gene_name', 'gene_source', 'gene_biotype', 'mito'"
      ]
     },
     "execution_count": 3,
     "metadata": {},
     "output_type": "execute_result"
    }
   ],
   "source": [
    "adata"
   ]
  },
  {
   "cell_type": "code",
   "execution_count": null,
   "id": "4dbc44c0",
   "metadata": {},
   "outputs": [],
   "source": [
    "# which layer are we going to use for dimensionality reduction/PCA? "
   ]
  },
  {
   "cell_type": "code",
   "execution_count": null,
   "id": "5a25399b-6422-486c-a746-31093a9c0e47",
   "metadata": {},
   "outputs": [],
   "source": [
    "adata.X = adata.layers[\"INSERT_LAYER\"]"
   ]
  },
  {
   "cell_type": "markdown",
   "id": "e9f2be0b-70a0-4d63-b576-b627314a69c7",
   "metadata": {},
   "source": [
    "#### 5.1 PCA"
   ]
  },
  {
   "cell_type": "code",
   "execution_count": null,
   "id": "4e168fca-6145-4f04-ba5a-97b213d3114a",
   "metadata": {},
   "outputs": [],
   "source": [
    "# setting highly variable as highly deviant to use scanpy 'use_highly_variable' argument in sc.pp.pca\n",
    "adata.var[\"highly_variable\"] = adata.var[\"highly_deviant\"]\n",
    "sc.pp.pca(adata, svd_solver=\"arpack\", use_highly_variable=True)"
   ]
  },
  {
   "cell_type": "code",
   "execution_count": null,
   "id": "332ab96f",
   "metadata": {},
   "outputs": [],
   "source": [
    "#Visualise PCA"
   ]
  },
  {
   "cell_type": "code",
   "execution_count": null,
   "id": "6fa131c4-67db-474a-8366-cec18d34ddb0",
   "metadata": {},
   "outputs": [],
   "source": [
    "sc.pl.pca_scatter(adata, color=\"total_counts\")"
   ]
  },
  {
   "cell_type": "markdown",
   "id": "37a3b41d-ed35-458b-bab9-4b6bd0123ed4",
   "metadata": {},
   "source": [
    "#### 5.2 t-SNE"
   ]
  },
  {
   "cell_type": "code",
   "execution_count": null,
   "id": "6c7ec2e8-b8fe-4f4f-b453-2225bc8ea072",
   "metadata": {},
   "outputs": [],
   "source": [
    "sc.tl.tsne(adata, use_rep=\"X_pca\")"
   ]
  },
  {
   "cell_type": "code",
   "execution_count": null,
   "id": "cb81d195-db20-4957-85f5-333f92c5e241",
   "metadata": {},
   "outputs": [],
   "source": [
    "sc.pl.tsne(adata, color=\"total_counts\")"
   ]
  },
  {
   "cell_type": "markdown",
   "id": "bf385da1-76b9-4fa6-8251-c0c7d1514d7f",
   "metadata": {},
   "source": [
    "#### 5.3 UMAP"
   ]
  },
  {
   "cell_type": "code",
   "execution_count": null,
   "id": "5abb01de-2b94-4560-83cb-48cc7f99582f",
   "metadata": {},
   "outputs": [],
   "source": [
    "sc.pp.neighbors(adata)\n",
    "sc.tl.umap(adata)"
   ]
  },
  {
   "cell_type": "code",
   "execution_count": null,
   "id": "b6fba7e1-d1bb-452a-90ff-fa4fc83b57f5",
   "metadata": {},
   "outputs": [],
   "source": [
    "sc.pl.umap(adata, color=\"total_counts\")"
   ]
  },
  {
   "cell_type": "markdown",
   "id": "9c830f3b-f1b4-4ce4-8732-4090646d1019",
   "metadata": {},
   "source": [
    "#### 5.4 Inspecting quality control metrics "
   ]
  },
  {
   "cell_type": "code",
   "execution_count": null,
   "id": "6bd83c4e-8e35-41e0-8ded-17675f3e71e5",
   "metadata": {},
   "outputs": [],
   "source": [
    "sc.pl.umap(\n",
    "    adata,\n",
    "    color=[\"total_counts\", \"pct_counts_mito\", \"scDblFinder_score\", \"scDblFinder_class\"],\n",
    ")"
   ]
  },
  {
   "cell_type": "code",
   "execution_count": null,
   "id": "73bcb2ef-f42b-44ec-aa73-f6c5fe9bc89f",
   "metadata": {},
   "outputs": [],
   "source": [
    "# adata.write(\"E-MTAB-6945_dimensionality_reduction.h5ad\")"
   ]
  },
  {
   "cell_type": "code",
   "execution_count": null,
   "id": "842bed20-4531-4105-bc1f-b78c329b47c8",
   "metadata": {},
   "outputs": [],
   "source": [
    "adata"
   ]
  },
  {
   "cell_type": "code",
   "execution_count": null,
   "id": "e5ffc5ab",
   "metadata": {},
   "outputs": [],
   "source": [
    "#Do you observe cells on the UMAP plot that should be removed ? "
   ]
  },
  {
   "cell_type": "markdown",
   "id": "0739132e-ba7b-4109-88c5-51111cda4cb9",
   "metadata": {},
   "source": [
    "### 6. Clustering"
   ]
  },
  {
   "cell_type": "code",
   "execution_count": null,
   "id": "a435ee66-7e6d-4ede-8c6b-7b3e1e4f76a6",
   "metadata": {},
   "outputs": [],
   "source": [
    "import scanpy as sc\n",
    "\n",
    "sc.settings.verbosity = 0\n",
    "sc.settings.set_figure_params(dpi=80, facecolor=\"white\", frameon=False)"
   ]
  },
  {
   "cell_type": "code",
   "execution_count": null,
   "id": "80309d37-2ba1-434f-bddd-786f5f2a38d4",
   "metadata": {},
   "outputs": [],
   "source": [
    "# del adata\n",
    "adata = sc.read(\"E-MTAB-6945_log1p_normalization.h5ad\")\n",
    "adata"
   ]
  },
  {
   "cell_type": "code",
   "execution_count": null,
   "id": "f80777b6-51fd-4ddc-bb53-654b1f115e0d",
   "metadata": {},
   "outputs": [],
   "source": [
    "# Move X to another layer\n",
    "adata.layers[\"counts_norm\"] = adata.X\n",
    "\n",
    "# Use the scran_normalization layer as the new main data layer, X\n",
    "adata.X = adata.layers[\"scran_normalization\"]\n",
    "adata"
   ]
  },
  {
   "cell_type": "code",
   "execution_count": null,
   "id": "c553dbba-bc9f-468e-bf35-2c9370b16b02",
   "metadata": {},
   "outputs": [],
   "source": [
    "sc.pp.neighbors(adata, n_pcs=30)\n",
    "sc.tl.umap(adata)"
   ]
  },
  {
   "cell_type": "code",
   "execution_count": null,
   "id": "d940e25f-4be6-45da-8abb-d533b3d14661",
   "metadata": {},
   "outputs": [],
   "source": [
    "sc.tl.leiden(adata)"
   ]
  },
  {
   "cell_type": "code",
   "execution_count": null,
   "id": "0af06033-33b3-4a25-8887-3080e56125f1",
   "metadata": {},
   "outputs": [],
   "source": [
    "sc.tl.leiden(adata, key_added=\"leiden_res0_25\", resolution=0.25)\n",
    "sc.tl.leiden(adata, key_added=\"leiden_res0_5\", resolution=0.5)\n",
    "sc.tl.leiden(adata, key_added=\"leiden_res1\", resolution=1.0)\n",
    "adata"
   ]
  },
  {
   "cell_type": "code",
   "execution_count": null,
   "id": "b95df335-4b5c-4154-92df-d6a4eb930129",
   "metadata": {},
   "outputs": [],
   "source": [
    "sc.pl.umap(\n",
    "    adata,\n",
    "    color=[\"leiden_res0_25\", \"leiden_res0_5\", \"leiden_res1\"],\n",
    "    legend_loc=\"on data\",\n",
    ")"
   ]
  },
  {
   "cell_type": "markdown",
   "id": "8d808b2b-7c78-4a00-b6dc-94e4fdb25ccf",
   "metadata": {},
   "source": [
    "#### Question:  \n",
    "1. Which Leiden resolution parameter gives a clustering that coincides best with the UMAP projections?"
   ]
  },
  {
   "cell_type": "code",
   "execution_count": null,
   "id": "f65ef90c-37f8-43a4-838f-db9b56ab3758",
   "metadata": {},
   "outputs": [],
   "source": []
  }
 ],
 "metadata": {
  "kernelspec": {
   "display_name": "Python [conda env:sc_py_training]",
   "language": "python",
   "name": "conda-env-sc_py_training-py"
  },
  "language_info": {
   "codemirror_mode": {
    "name": "ipython",
    "version": 3
   },
   "file_extension": ".py",
   "mimetype": "text/x-python",
   "name": "python",
   "nbconvert_exporter": "python",
   "pygments_lexer": "ipython3",
   "version": "3.11.4"
  }
 },
 "nbformat": 4,
 "nbformat_minor": 5
}
