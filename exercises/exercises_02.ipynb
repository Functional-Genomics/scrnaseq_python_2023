{
 "cells": [
  {
   "cell_type": "markdown",
   "id": "b2a03c2c",
   "metadata": {},
   "source": [
    "# Single-cell RNA-seqs analysis using Python "
   ]
  },
  {
   "cell_type": "markdown",
   "id": "7455f290",
   "metadata": {},
   "source": [
    "Adapted from:  \n",
    "Single-cell best practices  \n",
    "https://www.sc-best-practices.org/preamble.html"
   ]
  },
  {
   "cell_type": "markdown",
   "id": "f21bca12",
   "metadata": {},
   "source": [
    "## Dimensionality reduction  \n",
    "Needs conda env `sc_py_training`. "
   ]
  },
  {
   "cell_type": "markdown",
   "id": "61e044f0",
   "metadata": {},
   "source": [
    "#In this exercise you will perform downstream analysis ( from dimensionality reduction --> annotation )\n",
    "The data you will use come from the study above:\n",
    "Single-cell expression atlas link : \n",
    "https://www.ebi.ac.uk/gxa/sc/experiments/E-MTAB-6945/results/tsne\n",
    "\n",
    "link to the paper :https://europepmc.org/article/MED/30443254 \n",
    "\n",
    "(open these links because you might need them later) "
   ]
  },
  {
   "cell_type": "code",
   "execution_count": null,
   "id": "25cc3949-9b8f-4c1e-a0ec-ca1b6db70fe9",
   "metadata": {},
   "outputs": [],
   "source": [
    "# Import the scanpy module and set up the parameters for the general settings\n",
    "import scanpy as sc\n",
    "\n",
    "sc.settings.verbosity = 0  \n",
    "sc.settings.set_figure_params(\n",
    "    dpi=80,\n",
    "    facecolor=\"white\",\n",
    "    frameon=False,\n",
    ")"
   ]
  },
  {
   "cell_type": "code",
   "execution_count": null,
   "id": "dcff63ba",
   "metadata": {},
   "outputs": [],
   "source": [
    "##Load the data output from the previous exercise - from yesterday's session \n"
   ]
  },
  {
   "cell_type": "code",
   "execution_count": null,
   "id": "4e087539-a363-42bb-bd20-639f92bdf587",
   "metadata": {},
   "outputs": [],
   "source": [
    "adata = sc.read(\"INSERT_PATH\")"
   ]
  },
  {
   "cell_type": "code",
   "execution_count": null,
   "id": "abca7915",
   "metadata": {},
   "outputs": [],
   "source": [
    "# Q1. how many genes(features) and how many cells have we got in the anndata object? \n",
    "# A1. "
   ]
  },
  {
   "cell_type": "code",
   "execution_count": null,
   "id": "b9d24cd0",
   "metadata": {},
   "outputs": [],
   "source": [
    "adata"
   ]
  },
  {
   "cell_type": "code",
   "execution_count": null,
   "id": "4dbc44c0",
   "metadata": {},
   "outputs": [],
   "source": [
    "# Q1. which layer are you going to use for dimensionality reduction/PCA? \n",
    "#A1 "
   ]
  },
  {
   "cell_type": "code",
   "execution_count": null,
   "id": "5a25399b-6422-486c-a746-31093a9c0e47",
   "metadata": {},
   "outputs": [],
   "source": [
    "adata.X = adata.layers[\"INSERT_LAYER\"]"
   ]
  },
  {
   "cell_type": "markdown",
   "id": "e9f2be0b-70a0-4d63-b576-b627314a69c7",
   "metadata": {},
   "source": [
    "#### 5.1 PCA"
   ]
  },
  {
   "cell_type": "code",
   "execution_count": null,
   "id": "a1a62562",
   "metadata": {},
   "outputs": [],
   "source": [
    "#Before applying PCA we need to set \"highly_deviant\" genes as \"highly_variable\" genes otherwise PCA will not use the reduced features"
   ]
  },
  {
   "cell_type": "code",
   "execution_count": null,
   "id": "20ceedc8",
   "metadata": {},
   "outputs": [],
   "source": [
    "#pass the correct layer to the correct side of the command\n",
    "adata.var[\"INSERT_VAR_COLUMN_NAME\"] = adata.var[\"INSERT_VAR_COLUMN_NAME_2\"]"
   ]
  },
  {
   "cell_type": "markdown",
   "id": "15155de1",
   "metadata": {},
   "source": [
    "#Now you are almost ready to run the pca, got to the scanpy documentation and read through the parameters: \n",
    "https://scanpy.readthedocs.io/en/stable/generated/scanpy.pp.pca.html\n",
    "\n",
    "Next choose a parameter for svd_solver based on the practical session from before, are there other parameters that might be relevant ? "
   ]
  },
  {
   "cell_type": "code",
   "execution_count": null,
   "id": "4e168fca-6145-4f04-ba5a-97b213d3114a",
   "metadata": {},
   "outputs": [],
   "source": [
    "sc.pp.pca(adata, svd_solver=\"INSERT_PARAMETER\", use_highly_variable=\"INSERT BOOLEAN\")"
   ]
  },
  {
   "cell_type": "code",
   "execution_count": null,
   "id": "332ab96f",
   "metadata": {},
   "outputs": [],
   "source": [
    "#Visualise PCA, try different inputs(except for \"total_counts\") for the parameter color from the adata.obs columns \n",
    "#e.g sc.pl.pca_scatter(adata, color=\"total_counts\") "
   ]
  },
  {
   "cell_type": "code",
   "execution_count": null,
   "id": "6fa131c4-67db-474a-8366-cec18d34ddb0",
   "metadata": {},
   "outputs": [],
   "source": [
    "sc.pl.pca_scatter(adata, color=[\"COLUMN_NAME\",\"COLUMN_NAME\",\"COLUMN_NAME\"])"
   ]
  },
  {
   "cell_type": "markdown",
   "id": "37a3b41d-ed35-458b-bab9-4b6bd0123ed4",
   "metadata": {},
   "source": [
    "#### 5.2 t-SNE"
   ]
  },
  {
   "cell_type": "markdown",
   "id": "ddea9ab5",
   "metadata": {},
   "source": [
    "Continue to tsne calculation, again got to the respective documentation at scanpy website read through the parameters \n",
    "and select the correct for \"use_rep\""
   ]
  },
  {
   "cell_type": "code",
   "execution_count": null,
   "id": "6c7ec2e8-b8fe-4f4f-b453-2225bc8ea072",
   "metadata": {},
   "outputs": [],
   "source": [
    "sc.tl.tsne(adata, use_rep=\"INSERT_adata.obsm\")"
   ]
  },
  {
   "cell_type": "raw",
   "id": "70985687",
   "metadata": {},
   "source": [
    "Plot the tsne representation.What do you see? Can you see clusters? What do you see when you plot the total counts?\n",
    "Are there \"genotype specific\" clusters forming? "
   ]
  },
  {
   "cell_type": "code",
   "execution_count": null,
   "id": "cb81d195-db20-4957-85f5-333f92c5e241",
   "metadata": {},
   "outputs": [],
   "source": [
    "sc.pl.tsne(adata, color=[\"COLUMN_NAME\",\"COLUMN_NAME\",\"COLUMN_NAME\"])"
   ]
  },
  {
   "cell_type": "markdown",
   "id": "bf385da1-76b9-4fa6-8251-c0c7d1514d7f",
   "metadata": {},
   "source": [
    "#### 5.3 UMAP"
   ]
  },
  {
   "cell_type": "code",
   "execution_count": null,
   "id": "5abb01de-2b94-4560-83cb-48cc7f99582f",
   "metadata": {},
   "outputs": [],
   "source": [
    "sc.pp.neighbors(adata)\n",
    "sc.tl.umap(adata)"
   ]
  },
  {
   "cell_type": "raw",
   "id": "f897d1f1",
   "metadata": {},
   "source": [
    "# choose again different metadata from adata.obs columns to plot your umap.\n",
    "Can you observe genotype specific regions in the UMAP as well?\n",
    "\n"
   ]
  },
  {
   "cell_type": "code",
   "execution_count": null,
   "id": "b6fba7e1-d1bb-452a-90ff-fa4fc83b57f5",
   "metadata": {},
   "outputs": [],
   "source": [
    "sc.pl.umap(adata, color=[\"COLUMN_NAME\",\"COLUMN_NAME\",\"COLUMN_NAME\"])"
   ]
  },
  {
   "cell_type": "markdown",
   "id": "9c830f3b-f1b4-4ce4-8732-4090646d1019",
   "metadata": {},
   "source": [
    "#### 5.4 Inspecting quality control metrics "
   ]
  },
  {
   "cell_type": "code",
   "execution_count": null,
   "id": "40e1c5d4",
   "metadata": {},
   "outputs": [],
   "source": [
    "# Can you plot the percentage of mitohondrial counts and the predicted doublets in the UMAP plot?What do you see?"
   ]
  },
  {
   "cell_type": "code",
   "execution_count": null,
   "id": "6bd83c4e-8e35-41e0-8ded-17675f3e71e5",
   "metadata": {},
   "outputs": [],
   "source": [
    "sc.pl.umap(\n",
    "    adata,\n",
    "    color=[\"COLUMN_NAME\",\"COLUMN_NAME\",\"COLUMN_NAME\"],\n",
    ")"
   ]
  },
  {
   "cell_type": "raw",
   "id": "8620070a",
   "metadata": {},
   "source": [
    "Congratulations! you finished the first part of the exercise. Now save your data. Give an appropriate name and save it at the training data file"
   ]
  },
  {
   "cell_type": "code",
   "execution_count": null,
   "id": "73bcb2ef-f42b-44ec-aa73-f6c5fe9bc89f",
   "metadata": {},
   "outputs": [],
   "source": [
    "adata.write(\"INSERT_PATH\")"
   ]
  },
  {
   "cell_type": "markdown",
   "id": "0ba976d5",
   "metadata": {},
   "source": [
    "#Do you observe cells on the UMAP plot that should be removed ? \n",
    "\n"
   ]
  },
  {
   "cell_type": "markdown",
   "id": "0739132e-ba7b-4109-88c5-51111cda4cb9",
   "metadata": {},
   "source": [
    "### 6. Clustering"
   ]
  },
  {
   "cell_type": "code",
   "execution_count": null,
   "id": "a435ee66-7e6d-4ede-8c6b-7b3e1e4f76a6",
   "metadata": {},
   "outputs": [],
   "source": [
    "import scanpy as sc\n",
    "\n",
    "sc.settings.verbosity = 0\n",
    "sc.settings.set_figure_params(dpi=80, facecolor=\"white\", frameon=False)"
   ]
  },
  {
   "cell_type": "code",
   "execution_count": null,
   "id": "80309d37-2ba1-434f-bddd-786f5f2a38d4",
   "metadata": {},
   "outputs": [],
   "source": [
    "adata"
   ]
  },
  {
   "cell_type": "code",
   "execution_count": null,
   "id": "3ad71d1c",
   "metadata": {},
   "outputs": [],
   "source": [
    "#Select a layer of the anndata object that is appropriate for clustering #we want to use scran normalisation"
   ]
  },
  {
   "cell_type": "code",
   "execution_count": null,
   "id": "f80777b6-51fd-4ddc-bb53-654b1f115e0d",
   "metadata": {},
   "outputs": [],
   "source": [
    "# Move X to another layer\n",
    "adata.layers[\"counts_norm\"] = adata.X\n",
    "\n",
    "# Use the scran_normalization layer as the new main data layer, X\n",
    "adata.X = adata.layers[\"INSERT_LAYER\"]\n",
    "adata"
   ]
  },
  {
   "cell_type": "code",
   "execution_count": null,
   "id": "c4936cc5",
   "metadata": {},
   "outputs": [],
   "source": [
    "#Calculate the UMAP, choose a number of PCs for the calculation of the neighborhood graph"
   ]
  },
  {
   "cell_type": "code",
   "execution_count": null,
   "id": "c553dbba-bc9f-468e-bf35-2c9370b16b02",
   "metadata": {},
   "outputs": [],
   "source": [
    "sc.pp.neighbors(adata, n_pcs=INSERT_NUMBER)\n",
    "sc.tl.umap(adata)"
   ]
  },
  {
   "cell_type": "raw",
   "id": "4d640501",
   "metadata": {},
   "source": [
    "Now you are ready to apply the clustering, please choose different resolutions.What do you observe in the UMAP plot as you increase the resolution parameter?"
   ]
  },
  {
   "cell_type": "code",
   "execution_count": null,
   "id": "0af06033-33b3-4a25-8887-3080e56125f1",
   "metadata": {},
   "outputs": [],
   "source": [
    "sc.tl.leiden(adata, key_added=\"leiden_res0_25\", resolution=INSERT_NUMBER)\n",
    "sc.tl.leiden(adata, key_added=\"leiden_res0_5\", resolution=INSERT_NUMBER)\n",
    "sc.tl.leiden(adata, key_added=\"leiden_res1\", resolution=INSERT_NUMBER)\n",
    "adata"
   ]
  },
  {
   "cell_type": "code",
   "execution_count": null,
   "id": "b95df335-4b5c-4154-92df-d6a4eb930129",
   "metadata": {},
   "outputs": [],
   "source": [
    "sc.pl.umap(\n",
    "    adata,\n",
    "    color=[\"leiden_res0_25\", \"leiden_res0_5\", \"leiden_res1\"],\n",
    "    legend_loc=\"on data\",\n",
    ")"
   ]
  },
  {
   "cell_type": "markdown",
   "id": "8d808b2b-7c78-4a00-b6dc-94e4fdb25ccf",
   "metadata": {},
   "source": [
    " Hopefully you now see nice UMAP plot and you have completed 2/3 of the exercise. Now it's time for the annotation"
   ]
  },
  {
   "cell_type": "code",
   "execution_count": null,
   "id": "f65ef90c-37f8-43a4-838f-db9b56ab3758",
   "metadata": {},
   "outputs": [],
   "source": [
    "youmadeit = chr(0x1F603)\n",
    "print(youmadeit)"
   ]
  },
  {
   "cell_type": "code",
   "execution_count": null,
   "id": "105c47ac",
   "metadata": {},
   "outputs": [],
   "source": [
    "adata"
   ]
  },
  {
   "cell_type": "markdown",
   "id": "630ce96a",
   "metadata": {},
   "source": [
    " ### Annotation: for this part you will need to first find the marker genes for each cluster and then compare them to the known markers that you can find in the paper (link at the beggining of this notebook). "
   ]
  },
  {
   "cell_type": "code",
   "execution_count": null,
   "id": "be39ae98",
   "metadata": {},
   "outputs": [],
   "source": [
    "#remove genes that do not have a gene name[mini tutorial on data cleaning]\n",
    "adata = adata[:,adata.var['gene_symbols'].notna()]\n",
    "adata "
   ]
  },
  {
   "cell_type": "code",
   "execution_count": null,
   "id": "a158f8a6",
   "metadata": {},
   "outputs": [],
   "source": [
    "#print adata.var\n",
    "adata.var[\"gene_symbols\"]"
   ]
  },
  {
   "cell_type": "code",
   "execution_count": null,
   "id": "b6908cc8",
   "metadata": {},
   "outputs": [],
   "source": [
    "#make gene symbols the index of the anndata\n",
    "adata.var[\"ensebl_ids\"] = adata.var.index \n",
    "adata.var.index = adata.var[\"gene_symbols\"]"
   ]
  },
  {
   "cell_type": "code",
   "execution_count": null,
   "id": "65318b7d",
   "metadata": {},
   "outputs": [],
   "source": [
    "#need to make them a string and then also make them unique\n",
    "adata.var.index.astype(str)\n",
    "adata.var_names = adata.var_names.astype(str)\n",
    "adata.var_names_make_unique()"
   ]
  },
  {
   "cell_type": "code",
   "execution_count": null,
   "id": "e12552ff",
   "metadata": {},
   "outputs": [],
   "source": [
    "#now you should find the Differentially expressed genes by cluster"
   ]
  },
  {
   "cell_type": "code",
   "execution_count": null,
   "id": "27aa59f4",
   "metadata": {},
   "outputs": [],
   "source": [
    "sc.tl.rank_genes_groups(\n",
    "    adata, groupby=\"leiden_res0_5\", method=\"wilcoxon\", key_added=\"dea_leiden_0_5\"\n",
    ")"
   ]
  },
  {
   "cell_type": "code",
   "execution_count": null,
   "id": "ea0cfc4d",
   "metadata": {},
   "outputs": [],
   "source": [
    "sc.pl.rank_genes_groups_dotplot(\n",
    "    adata, groupby=\"leiden_res0_5\", n_genes=10, key=\"dea_leiden_0_5\"\n",
    ")"
   ]
  },
  {
   "cell_type": "code",
   "execution_count": null,
   "id": "7994da67",
   "metadata": {},
   "outputs": [],
   "source": [
    "# Hopefully know you can see the dotplot with the top 10 marker genes per cluster\n",
    "#Can you compare it with the known marker genes from the paper?\n",
    "#which cluster number corresponds to which differentiation stage?\n",
    "#annotate the cell types in the UMAP using the identified marker genes from you analysis,the paper and google or other marker gene resources"
   ]
  },
  {
   "cell_type": "code",
   "execution_count": null,
   "id": "626b8756",
   "metadata": {},
   "outputs": [],
   "source": [
    "#plot genes shown in the paper\n",
    "sc.pl.umap(\n",
    "    adata,\n",
    "    color=[\"leiden_res0_5\",\"genotype\",\"INSERT GENE\",\"INSERT GENE\",\"INSERT GENE\",\"INSERT GENE\",\"INSERT GENE\",\"INSERT GENE\",\n",
    "           \"INSERT GENE\"],\n",
    "    legend_loc=\"on data\",\n",
    ")"
   ]
  },
  {
   "cell_type": "code",
   "execution_count": null,
   "id": "66441be4",
   "metadata": {},
   "outputs": [],
   "source": [
    "cl_annotation = {\n",
    "    \"8\": \"INSERT CELL TYPE NAME\",\n",
    "    \"1\":\"INSERT CELL TYPE NAME\",\n",
    "    \"2\":\"INSERT CELL TYPE NAME\",\n",
    "     \"3\":\"INSERT CELL TYPE NAME\"\n",
    "}"
   ]
  },
  {
   "cell_type": "code",
   "execution_count": null,
   "id": "d4c3331d",
   "metadata": {},
   "outputs": [],
   "source": [
    "adata.obs[\"manual_celltype_annotation\"] = adata.obs.leiden_res0_5.map(cl_annotation)"
   ]
  },
  {
   "cell_type": "code",
   "execution_count": null,
   "id": "b4a26801",
   "metadata": {},
   "outputs": [],
   "source": [
    "sc.pl.umap(\n",
    "    adata,\n",
    "    color=[\"leiden_res0_5\",\"manual_celltype_annotation\",\"Il2ra\",\"Cd8b1\",\"Cd8a\",\"Cd4\",\"Ccr7\",\"Itm2a\",\"Hba-a1\"],\n",
    "    legend_loc=\"on data\",\n",
    ")"
   ]
  },
  {
   "cell_type": "markdown",
   "id": "e666656d",
   "metadata": {},
   "source": [
    "#Try to annotate as much clusters as you can. For further reading: What other type of analysis will be relavant here?\n",
    "- trajectory analysis  https://www.sc-best-practices.org/trajectories/pseudotemporal.html"
   ]
  },
  {
   "cell_type": "markdown",
   "id": "5fcd1ee5",
   "metadata": {},
   "source": [
    "🎉 🎉 🎉 🎉 🎉 🎉 Enjoy your lunch break ! "
   ]
  }
 ],
 "metadata": {
  "kernelspec": {
   "display_name": "Python [conda env:sc_py_training]",
   "language": "python",
   "name": "conda-env-sc_py_training-py"
  },
  "language_info": {
   "codemirror_mode": {
    "name": "ipython",
    "version": 3
   },
   "file_extension": ".py",
   "mimetype": "text/x-python",
   "name": "python",
   "nbconvert_exporter": "python",
   "pygments_lexer": "ipython3",
   "version": "3.11.4"
  }
 },
 "nbformat": 4,
 "nbformat_minor": 5
}
