{
 "cells": [
  {
   "cell_type": "markdown",
   "id": "b2a03c2c",
   "metadata": {},
   "source": [
    "# Single-cell RNA-seqs analysis using Python  \n",
    "## Exercises 01: Raw reads to expression matrix"
   ]
  },
  {
   "cell_type": "markdown",
   "id": "f21bca12",
   "metadata": {},
   "source": [
    "## 1. Raw data processing\n",
    "__Experiment:__ [E-MTAB-6945](https://www.ebi.ac.uk/biostudies/arrayexpress/studies/E-MTAB-6945)  \n",
    "__Dataset:__ Raw scRNA-seq reads from T-cells of mouse neonate thymus, subset of one sample (400k reads)  \n",
    "__Technology:__ Drop-seq\n",
    "\n",
    "Reads can be obtained from the links below.  \n",
    "https://zenodo.org/record/4574153/files/SLX-7632.TAAGGCGA.N701.s_1.r_1.fq-400k.fastq  \n",
    "https://zenodo.org/record/4574153/files/SLX-7632.TAAGGCGA.N701.s_1.r_2.fq-400k.fastq  \n",
    "\n",
    "Both reads and references are pre-donwloaded and saved in the following locations in the VMs:\n",
    "```\n",
    "data_dir=\"../../training_data\"\n",
    "fastq_dir=\"${data_dir}/ex_read_fastq\"\n",
    "ref_dir=\"${data_dir}/ex_mouse_ref\"\n",
    "```\n",
    "\n",
    "__Instructions:__ Write and run a script that executes raw data processing on the given data set.  One may run the full alevin-fry workflow, or the simpler `simpleaf` method.  There is no unfiltered permit list file for drop-seq experiments, so use one of the other barcode correction methods when generating a barcode permit list.  \n",
    "\n",
    "### Questions  \n",
    "1.  Which fastq file contains the cell barcodes + UMIs, and which contains the transcript sequences?  \n",
    "2.  How long is the cell barcode and how long is the UMI?  \n",
    "3.  What is the length of the transcript reads?  \n",
    "4.  How many barcodes do you end up with after quantification?  \n",
    "5.  How many genes are included in your quantification results?  "
   ]
  },
  {
   "cell_type": "markdown",
   "id": "680b3970",
   "metadata": {},
   "source": [
    "## 2.  Quality Control  \n",
    "Perform QC, use conda env `sc_py_training`.  Compose commands below as instructed, to complete the QC processing.  Answer questions at the bottom of the section.  "
   ]
  },
  {
   "cell_type": "markdown",
   "id": "a06d53a8-2e19-4a2e-bb05-871a0127b8f5",
   "metadata": {},
   "source": [
    "### 2.1 Filtering low quality barcodes"
   ]
  },
  {
   "cell_type": "code",
   "execution_count": null,
   "id": "b6c2dea2",
   "metadata": {},
   "outputs": [],
   "source": [
    "import numpy as np\n",
    "import scanpy as sc\n",
    "import seaborn as sns\n",
    "from scipy.stats import median_abs_deviation\n",
    "\n",
    "sc.settings.verbosity = 0\n",
    "sc.settings.set_figure_params(\n",
    "    dpi=80,\n",
    "    facecolor=\"white\",\n",
    "    frameon=False,\n",
    ")"
   ]
  },
  {
   "cell_type": "markdown",
   "id": "4425944b-d8f5-4bfe-accf-e853e2d9f2a1",
   "metadata": {},
   "source": [
    "Complete command below to open the dataset as an annData object.  The data is saved in `../../training_data/E-MTAB-6945.h5ad`"
   ]
  },
  {
   "cell_type": "code",
   "execution_count": null,
   "id": "b872f7d5-1129-4281-8e47-08cbc578949a",
   "metadata": {},
   "outputs": [],
   "source": [
    "# For exercises, we are using the raw counts of E-MTAB-6945 (not the subset)\n",
    "adata = sc.read()"
   ]
  },
  {
   "cell_type": "code",
   "execution_count": null,
   "id": "4aa2c99c-ae8c-4f93-b924-56f0cf3eaee0",
   "metadata": {},
   "outputs": [],
   "source": [
    "# Mitochondrial transcripts are already annotated\n",
    "adata.var.loc[adata.var.chromosome == \"MT\", [\"gene_symbols\", \"chromosome\", \"mito\"]] "
   ]
  },
  {
   "cell_type": "markdown",
   "id": "2bc5ac4b-7474-43ec-813d-b24e9315bef6",
   "metadata": {},
   "source": [
    "Below, calculate qc metrics, and include variable indicating whether or not a gene is mitochondrials as a variable to control for."
   ]
  },
  {
   "cell_type": "code",
   "execution_count": null,
   "id": "62b862e2-662f-487d-92f8-8d332219a746",
   "metadata": {},
   "outputs": [],
   "source": [
    "sc.pp.calculate_qc_metrics(\n",
    "    adata, qc_vars=[], inplace=True, percent_top=[20], log1p=True\n",
    ")\n",
    "adata"
   ]
  },
  {
   "cell_type": "markdown",
   "id": "06a9fd66-10b5-4028-a1e2-8cb593260a5e",
   "metadata": {},
   "source": [
    "In the third plot below, show the log-transformed versions of the `total_counts` and `n_genes_by_counts` in their respective axes."
   ]
  },
  {
   "cell_type": "code",
   "execution_count": null,
   "id": "e8776850-44a1-4b3a-a4d6-a5a33d267b41",
   "metadata": {},
   "outputs": [],
   "source": [
    "# Ditribution of barcodes (cells) in terms of the numbr of genes per barcode (cell)\n",
    "p1 = sns.displot(adata.obs[\"total_counts\"], bins=100, kde=False)\n",
    "# Above distribution viewed as a violon plot:\n",
    "# sc.pl.violin(adata, 'total_counts')\n",
    "\n",
    "# Distribution of barcodes (cells) in terms of the %mt of counts per barcode (cell)\n",
    "p2 = sc.pl.violin(adata, \"pct_counts_mito\")\n",
    "\n",
    "# A scatter representing total_counts (x), n_genes_by_counts (y), and %mt of counts (color) per barcode (cell)\n",
    "p3 = sc.pl.scatter(adata, \"total_counts\", \"n_genes_by_counts\", color=\"pct_counts_mito\")"
   ]
  },
  {
   "cell_type": "markdown",
   "id": "d1870f6d-4c8f-4a03-a781-6e4657dcb95d",
   "metadata": {},
   "source": [
    "Below is a function that evaluates whether or not a value is an outlier."
   ]
  },
  {
   "cell_type": "code",
   "execution_count": null,
   "id": "719658f5-ecd1-44c7-8b42-7cba3cfe6ecd",
   "metadata": {},
   "outputs": [],
   "source": [
    "def is_outlier(adata, metric: str, nmads: int):\n",
    "    M = adata.obs[metric]\n",
    "    outlier = (M < np.median(M) - nmads * median_abs_deviation(M)) | (\n",
    "        np.median(M) + nmads * median_abs_deviation(M) < M\n",
    "    )\n",
    "    return outlier"
   ]
  },
  {
   "cell_type": "markdown",
   "id": "f9a1aee3-d794-4d58-aedf-d64e0dd44a1d",
   "metadata": {},
   "source": [
    "Create a boolean series where outliers are based on metrics `log1p_total_counts`, `log1p_n_genes_by_counts`, and`pct_counts_in_top_20_genes`. Use `nmads = 5`"
   ]
  },
  {
   "cell_type": "code",
   "execution_count": null,
   "id": "4b882626-bfcb-4325-a868-968af20f0cb3",
   "metadata": {},
   "outputs": [],
   "source": [
    "adata.obs[\"outlier\"] = ()\n",
    "adata.obs.outlier.value_counts()"
   ]
  },
  {
   "cell_type": "markdown",
   "id": "4d31ceab-9b56-452d-bc22-51eabd995e9c",
   "metadata": {},
   "source": [
    "Create a series of booleans indicating whether observations or barcodes are outliers based on `nmads = 6`.  Do not save the boolean series within the annData object.  "
   ]
  },
  {
   "cell_type": "code",
   "execution_count": null,
   "id": "7230a7fd-e56c-4105-b2af-455f2399ba29",
   "metadata": {},
   "outputs": [],
   "source": [
    "outliers_6nmad = (\n",
    "    is_outlier(adata, \"log1p_total_counts\", 6)\n",
    "    | is_outlier(adata, \"log1p_n_genes_by_counts\", 6)\n",
    "    | is_outlier(adata, \"pct_counts_in_top_20_genes\", 6)\n",
    ")\n",
    "outliers_6nmad.value_counts()"
   ]
  },
  {
   "cell_type": "code",
   "execution_count": null,
   "id": "4ef98a82-b671-43bc-9db7-04b615dcd69a",
   "metadata": {},
   "outputs": [],
   "source": [
    "adata.obs[\"mt_outlier\"] = is_outlier(adata, \"pct_counts_mito\", 3) | (\n",
    "    adata.obs[\"pct_counts_mito\"] > 8\n",
    ")\n",
    "adata.obs.mt_outlier.value_counts()"
   ]
  },
  {
   "cell_type": "markdown",
   "id": "f0860e6c-1fca-418d-8e1a-7c8bde385011",
   "metadata": {},
   "source": [
    "Remove low-quality barcodes from the matrix."
   ]
  },
  {
   "cell_type": "code",
   "execution_count": null,
   "id": "c62f237e-5a5f-416e-8018-2737864bf453",
   "metadata": {},
   "outputs": [],
   "source": [
    "print(f\"Total number of cells: {adata.n_obs}\")\n",
    "adata = adata[(~adata.obs.outlier) & (~adata.obs.mt_outlier)].copy()\n",
    "print(f\"Number of cells after filtering of low quality cells: {adata.n_obs}\")"
   ]
  },
  {
   "cell_type": "markdown",
   "id": "8bccb169-5cb7-4aa5-a51e-2ebcd505c7c4",
   "metadata": {},
   "source": [
    "Edit the plotting command below, so that the plot shows the new adata, its log-transformed versions of the `total_counts` and `n_genes_by_counts` in their respective axes. Compare with the plot above."
   ]
  },
  {
   "cell_type": "code",
   "execution_count": null,
   "id": "9c9c294d-1c53-4b26-bfbd-26aed6ecb64f",
   "metadata": {},
   "outputs": [],
   "source": [
    "p4 = sc.pl.scatter(adata, \"log1p_total_counts\", \"log1p_n_genes_by_counts\", color=\"pct_counts_mito\")"
   ]
  },
  {
   "cell_type": "markdown",
   "id": "a9c27df5-507e-447a-a130-fd0df3b48572",
   "metadata": {},
   "source": [
    "#### Questions\n",
    "1. How many barcodes and genes are present in the dataset?  \n",
    "2. What variable in the annData object indicates whether a gene (`.var`) is mitochondrial or not?\n",
    "3. After `scanpy.pp.calculate_qc_metrics`, where were the calculated metrics they added?\n",
    "4. If `nmad = 6`, how many outliers are identified based on the common qc metrics.\n",
    "5. How many cells are left after filtering low quality barcodes?  "
   ]
  },
  {
   "cell_type": "markdown",
   "id": "26a0e14d-55bd-43f2-b3a3-80b789d46e9c",
   "metadata": {},
   "source": [
    "### 2.2 Correction of ambient RNA "
   ]
  },
  {
   "cell_type": "code",
   "execution_count": null,
   "id": "5d0bab8a-0b23-4a88-bfd4-87a92f0977e4",
   "metadata": {},
   "outputs": [],
   "source": [
    "import anndata2ri\n",
    "import logging\n",
    "\n",
    "import rpy2.rinterface_lib.callbacks as rcb\n",
    "import rpy2.robjects as ro\n",
    "\n",
    "rcb.logger.setLevel(logging.ERROR)\n",
    "ro.pandas2ri.activate()\n",
    "anndata2ri.activate()\n",
    "\n",
    "%load_ext rpy2.ipython"
   ]
  },
  {
   "cell_type": "code",
   "execution_count": null,
   "id": "7c2d2689-cbd5-4403-b2df-fd630b5d0612",
   "metadata": {},
   "outputs": [],
   "source": [
    "%%R\n",
    "library(SoupX)"
   ]
  },
  {
   "cell_type": "code",
   "execution_count": null,
   "id": "900f6aec-154f-4399-8ea4-c901f8124b1c",
   "metadata": {},
   "outputs": [],
   "source": [
    "# Normalise and log1p-transform the data\n",
    "adata_pp = adata.copy()\n",
    "sc.pp.normalize_per_cell(adata_pp)\n",
    "sc.pp.log1p(adata_pp)"
   ]
  },
  {
   "cell_type": "code",
   "execution_count": null,
   "id": "79d81a8a-c3e3-40ff-839a-5908cf4262fd",
   "metadata": {},
   "outputs": [],
   "source": [
    "# Compute principal components\n",
    "sc.pp.pca(adata_pp)\n",
    "sc.pp.neighbors(adata_pp)\n",
    "sc.tl.leiden(adata_pp, key_added=\"soupx_groups\")\n",
    "\n",
    "# Preprocess variables for SoupX\n",
    "soupx_groups = adata_pp.obs[\"soupx_groups\"]"
   ]
  },
  {
   "cell_type": "code",
   "execution_count": null,
   "id": "f7fbcbf4-9eff-4e3b-8f04-adbadefb145e",
   "metadata": {},
   "outputs": [],
   "source": [
    "del adata_pp"
   ]
  },
  {
   "cell_type": "code",
   "execution_count": null,
   "id": "baafb063-9133-452e-bc34-5d560389aca1",
   "metadata": {},
   "outputs": [],
   "source": [
    "cells = adata.obs_names\n",
    "genes = adata.var_names\n",
    "data = adata.X.T"
   ]
  },
  {
   "cell_type": "code",
   "execution_count": null,
   "id": "22ae1d53-7ef9-4b36-ba9e-6cee27b22f44",
   "metadata": {},
   "outputs": [],
   "source": [
    "# Load the raw again\n",
    "adata_raw = sc.read(\"../../training_data/E-MTAB-6945.h5ad\")\n",
    "data_tod = adata_raw.X.T"
   ]
  },
  {
   "cell_type": "code",
   "execution_count": null,
   "id": "e433e3f3-c25d-45d6-bf68-97e16c80b46d",
   "metadata": {},
   "outputs": [],
   "source": [
    "del adata_raw"
   ]
  },
  {
   "cell_type": "code",
   "execution_count": null,
   "id": "cd6e8e00-a21e-429f-a59d-505aff29670d",
   "metadata": {},
   "outputs": [],
   "source": [
    "%%R -i data -i data_tod -i genes -i cells -i soupx_groups -o out \n",
    "\n",
    "# specify row and column names of data\n",
    "rownames(data) = genes\n",
    "colnames(data) = cells\n",
    "# ensure correct sparse format for table of counts and table of droplets\n",
    "data <- as(data, \"sparseMatrix\")\n",
    "data_tod <- as(data_tod, \"sparseMatrix\")\n",
    "\n",
    "# Generate SoupChannel Object for SoupX \n",
    "sc = SoupChannel(data_tod, data, calcSoupProfile = FALSE)\n",
    "\n",
    "# Add extra meta data to the SoupChannel object\n",
    "soupProf = data.frame(row.names = rownames(data), est = rowSums(data)/sum(data), counts = rowSums(data))\n",
    "sc = setSoupProfile(sc, soupProf)\n",
    "# Set cluster information in SoupChannel\n",
    "sc = setClusters(sc, soupx_groups)\n",
    "\n",
    "# Estimate contamination fraction\n",
    "sc  = autoEstCont(sc, doPlot=FALSE)\n",
    "# Infer corrected table of counts and rount to integer\n",
    "out = adjustCounts(sc, roundToInt = TRUE)"
   ]
  },
  {
   "cell_type": "code",
   "execution_count": null,
   "id": "bc43a08b-7ba1-471c-b7b1-c088f398947b",
   "metadata": {},
   "outputs": [],
   "source": [
    "type(out)"
   ]
  },
  {
   "cell_type": "code",
   "execution_count": null,
   "id": "7254a4fe-c08a-401b-a33c-c2e2acebb5ac",
   "metadata": {},
   "outputs": [],
   "source": [
    "# Move counts to a layer\n",
    "adata.layers[\"counts\"] = adata.X\n",
    "\n",
    "# Put the output of soupx into a layer\n",
    "adata.layers[\"soupX_counts\"] = out.T\n",
    "\n",
    "# Use the soupx layer as the new main data layer, X\n",
    "adata.X = adata.layers[\"soupX_counts\"]"
   ]
  },
  {
   "cell_type": "code",
   "execution_count": null,
   "id": "4aefbaaf-dcc6-4b99-b3da-6f5247731c33",
   "metadata": {},
   "outputs": [],
   "source": [
    "print(f\"Total number of genes: {adata.n_vars}\")\n",
    "\n",
    "# Min 20 cells - filters out 0 count genes\n",
    "sc.pp.filter_genes(adata, min_cells=20)\n",
    "print(f\"Number of genes after cell filter: {adata.n_vars}\")"
   ]
  },
  {
   "cell_type": "code",
   "execution_count": null,
   "id": "11db6de4-b07f-4244-a0cd-99c374ba3571",
   "metadata": {},
   "outputs": [],
   "source": [
    "# Save above data, so as not to repeat all of above when kernel stops\n",
    "adata.write(\"../../training_data/E-MTAB-6945_corrected_ambient_RNA.h5ad\")"
   ]
  },
  {
   "cell_type": "markdown",
   "id": "2e565fe8-de9d-46fe-9639-a7ebd4b4c555",
   "metadata": {},
   "source": [
    "### Question\n",
    "How many genes are removed by the correction of ambient mRNA?"
   ]
  },
  {
   "cell_type": "markdown",
   "id": "d6d52632-25f7-448b-977b-bf8d914d994e",
   "metadata": {},
   "source": [
    "#### 2.3 Doublet Detection  "
   ]
  },
  {
   "cell_type": "code",
   "execution_count": null,
   "id": "e9741445-7a0d-491f-ae97-9f9be035a8e8",
   "metadata": {},
   "outputs": [],
   "source": [
    "%%R\n",
    "library(Seurat)\n",
    "library(scater)\n",
    "library(scDblFinder)\n",
    "library(BiocParallel)"
   ]
  },
  {
   "cell_type": "code",
   "execution_count": null,
   "id": "ec45c51a-fe47-4a61-bf75-2b8cac349f8d",
   "metadata": {},
   "outputs": [],
   "source": [
    "data_mat = adata.X.T"
   ]
  },
  {
   "cell_type": "code",
   "execution_count": null,
   "id": "abfbf10f-a864-4fbf-b519-11f0ec5a1cfa",
   "metadata": {},
   "outputs": [],
   "source": [
    "%%R -i data_mat -o doublet_score -o doublet_class\n",
    "\n",
    "set.seed(123)\n",
    "sce = scDblFinder(\n",
    "    SingleCellExperiment(\n",
    "        list(counts=data_mat),\n",
    "    ) \n",
    ")\n",
    "doublet_score = sce$scDblFinder.score\n",
    "doublet_class = sce$scDblFinder.class"
   ]
  },
  {
   "cell_type": "code",
   "execution_count": null,
   "id": "9e1e5dcf-de05-4f5d-bba8-42f570891977",
   "metadata": {},
   "outputs": [],
   "source": [
    "adata.obs[\"scDblFinder_score\"] = doublet_score\n",
    "adata.obs[\"scDblFinder_class\"] = doublet_class\n",
    "adata.obs.scDblFinder_class.value_counts()"
   ]
  },
  {
   "cell_type": "code",
   "execution_count": null,
   "id": "23738db2-50af-40cb-8eb1-2a88f8424d39",
   "metadata": {},
   "outputs": [],
   "source": [
    "adata.write(\"../../training_data/E-MTAB-6945_quality_control.h5ad\")"
   ]
  },
  {
   "cell_type": "markdown",
   "id": "251e13c6-8e66-4c74-9d6e-ee235b44a4ac",
   "metadata": {},
   "source": [
    "### Question\n",
    "How many barcodes are considered doublet?  "
   ]
  },
  {
   "cell_type": "markdown",
   "id": "fe5a24d0-1cfe-4d49-afc1-d5b87e60bbc9",
   "metadata": {},
   "source": [
    "## 3. Normalization"
   ]
  },
  {
   "cell_type": "code",
   "execution_count": null,
   "id": "5c613c33-9a8b-4946-a7d9-522e00934ded",
   "metadata": {},
   "outputs": [],
   "source": [
    "import scanpy as sc\n",
    "import numpy as np\n",
    "import seaborn as sns\n",
    "from matplotlib import pyplot as plt\n",
    "import anndata2ri\n",
    "import logging\n",
    "from scipy.sparse import issparse\n",
    "\n",
    "import rpy2.rinterface_lib.callbacks as rcb\n",
    "import rpy2.robjects as ro\n",
    "\n",
    "sc.settings.verbosity = 0\n",
    "sc.settings.set_figure_params(\n",
    "    dpi=80,\n",
    "    facecolor=\"white\",\n",
    "    # color_map=\"YlGnBu\",\n",
    "    frameon=False,\n",
    ")\n",
    "\n",
    "rcb.logger.setLevel(logging.ERROR)\n",
    "ro.pandas2ri.activate()\n",
    "anndata2ri.activate()\n",
    "\n",
    "%load_ext rpy2.ipython"
   ]
  },
  {
   "cell_type": "code",
   "execution_count": null,
   "id": "8b6efaca-3a5a-4dac-9107-5451383dd940",
   "metadata": {},
   "outputs": [],
   "source": [
    "adata = sc.read(\"../../training_data/E-MTAB-6945_quality_control.h5ad\")\n",
    "adata"
   ]
  },
  {
   "cell_type": "code",
   "execution_count": null,
   "id": "811ed644-83bf-472d-93a7-46f6614b9694",
   "metadata": {},
   "outputs": [],
   "source": [
    "p1 = sns.histplot(adata.obs[\"total_counts\"], bins=100, kde=False)"
   ]
  },
  {
   "cell_type": "markdown",
   "id": "24057a6a-58c9-4a2c-96c2-bb1b6c516427",
   "metadata": {},
   "source": [
    "### 3.1 Shifted logarithm"
   ]
  },
  {
   "cell_type": "code",
   "execution_count": null,
   "id": "53afdddf-095c-4d39-80f6-d0e1def0061a",
   "metadata": {},
   "outputs": [],
   "source": [
    "scales_counts = sc.pp.normalize_total(adata, target_sum=None, inplace=False)\n",
    "# log1p transform\n",
    "adata.layers[\"log1p_norm\"] = sc.pp.log1p(scales_counts[\"X\"], copy=True)"
   ]
  },
  {
   "cell_type": "code",
   "execution_count": null,
   "id": "1fae84ec-34b3-4a1a-a453-3d2238de18e4",
   "metadata": {},
   "outputs": [],
   "source": [
    "fig, axes = plt.subplots(1, 2, figsize=(10, 5))\n",
    "p1 = sns.histplot(adata.obs[\"total_counts\"], bins=100, kde=False, ax=axes[0])\n",
    "axes[0].set_title(\"Total counts\")\n",
    "p2 = sns.histplot(adata.layers[\"log1p_norm\"].sum(1), bins=100, kde=False, ax=axes[1])\n",
    "axes[1].set_title(\"Shifted logarithm\")\n",
    "plt.show()"
   ]
  },
  {
   "cell_type": "code",
   "execution_count": null,
   "id": "5f2944b1-2a32-4e1d-a193-41136c3100e4",
   "metadata": {},
   "outputs": [],
   "source": [
    "from scipy.sparse import csr_matrix, issparse"
   ]
  },
  {
   "cell_type": "code",
   "execution_count": null,
   "id": "a2ba017e-fe57-42b6-b56f-65c229e0b91e",
   "metadata": {},
   "outputs": [],
   "source": [
    "%%R\n",
    "library(scran)\n",
    "library(BiocParallel)"
   ]
  },
  {
   "cell_type": "code",
   "execution_count": null,
   "id": "6155298b-a318-4167-8f0d-b76343fba742",
   "metadata": {},
   "outputs": [],
   "source": [
    "# Preliminary clustering for differentiated normalisation\n",
    "adata_pp = adata.copy()\n",
    "sc.pp.normalize_total(adata_pp)\n",
    "sc.pp.log1p(adata_pp)\n",
    "sc.pp.pca(adata_pp, n_comps=15)\n",
    "sc.pp.neighbors(adata_pp)\n",
    "sc.tl.leiden(adata_pp, key_added=\"groups\")"
   ]
  },
  {
   "cell_type": "code",
   "execution_count": null,
   "id": "9aac1ba0-54ee-4ba9-aaaf-3f4cb4462103",
   "metadata": {},
   "outputs": [],
   "source": [
    "data_mat = adata_pp.X.T\n",
    "# convert to CSC if possible. See https://github.com/MarioniLab/scran/issues/70\n",
    "if issparse(data_mat):\n",
    "    if data_mat.nnz > 2**31 - 1:\n",
    "        data_mat = data_mat.tocoo()\n",
    "    else:\n",
    "        data_mat = data_mat.tocsc()\n",
    "ro.globalenv[\"data_mat\"] = data_mat\n",
    "ro.globalenv[\"input_groups\"] = adata_pp.obs[\"groups\"]"
   ]
  },
  {
   "cell_type": "code",
   "execution_count": null,
   "id": "213177ec-acd3-4ce8-b269-ca593f893a8a",
   "metadata": {},
   "outputs": [],
   "source": [
    "del adata_pp"
   ]
  },
  {
   "cell_type": "code",
   "execution_count": null,
   "id": "4ae1e56b-b7a2-4c8c-b219-37807a3cc461",
   "metadata": {},
   "outputs": [],
   "source": [
    "%%R -o size_factors\n",
    "\n",
    "size_factors = sizeFactors(\n",
    "    computeSumFactors(\n",
    "        SingleCellExperiment(\n",
    "            list(counts=data_mat)), \n",
    "            clusters = input_groups,\n",
    "            min.mean = 0.1,\n",
    "            BPPARAM = MulticoreParam()\n",
    "    )\n",
    ")"
   ]
  },
  {
   "cell_type": "code",
   "execution_count": null,
   "id": "01a49378-4276-4177-90eb-4367ed0596f8",
   "metadata": {},
   "outputs": [],
   "source": [
    "adata.obs[\"size_factors\"] = size_factors\n",
    "scran = adata.X / adata.obs[\"size_factors\"].values[:, None]\n",
    "adata.layers[\"scran_normalization\"] = csr_matrix(sc.pp.log1p(scran))"
   ]
  },
  {
   "cell_type": "code",
   "execution_count": null,
   "id": "1af28ea8-962c-46a2-b256-dd12b7d9dab3",
   "metadata": {},
   "outputs": [],
   "source": [
    "adata.write(\"../../training_data/E-MTAB-6945_log1p_normalization.h5ad\")"
   ]
  },
  {
   "cell_type": "code",
   "execution_count": null,
   "id": "27c46387-532f-4b14-910a-5aa613628f9c",
   "metadata": {},
   "outputs": [],
   "source": [
    "fig, axes = plt.subplots(1, 2, figsize=(10, 5))\n",
    "p1 = sns.histplot(adata.obs[\"total_counts\"], bins=100, kde=False, ax=axes[0])\n",
    "axes[0].set_title(\"Total counts\")\n",
    "p2 = sns.histplot(\n",
    "    adata.layers[\"scran_normalization\"].sum(1), bins=100, kde=False, ax=axes[1]\n",
    ")\n",
    "axes[1].set_title(\"log1p with Scran estimated size factors\")\n",
    "plt.show()"
   ]
  },
  {
   "cell_type": "markdown",
   "id": "5b28c86a-2886-47a9-97d1-f3781e11bee2",
   "metadata": {},
   "source": [
    "## 4. Feature Selection"
   ]
  },
  {
   "cell_type": "code",
   "execution_count": null,
   "id": "22f81108-f6ca-4f9d-991e-69a0382ac18a",
   "metadata": {},
   "outputs": [],
   "source": [
    "import scanpy as sc\n",
    "import anndata2ri\n",
    "import logging\n",
    "import matplotlib.pyplot as plt\n",
    "import numpy as np\n",
    "import seaborn as sns\n",
    "\n",
    "import rpy2.rinterface_lib.callbacks as rcb\n",
    "import rpy2.robjects as ro\n",
    "\n",
    "sc.settings.verbosity = 0\n",
    "sc.settings.set_figure_params(\n",
    "    dpi=80,\n",
    "    facecolor=\"white\",\n",
    "    frameon=False,\n",
    ")\n",
    "\n",
    "rcb.logger.setLevel(logging.ERROR)\n",
    "ro.pandas2ri.activate()\n",
    "anndata2ri.activate()\n",
    "\n",
    "%load_ext rpy2.ipython"
   ]
  },
  {
   "cell_type": "code",
   "execution_count": null,
   "id": "a9af4b51-9597-41ea-83b6-aadcf048e06a",
   "metadata": {},
   "outputs": [],
   "source": [
    "%%R\n",
    "library(scry)"
   ]
  },
  {
   "cell_type": "code",
   "execution_count": null,
   "id": "328a329b-67c9-4f77-a1b5-44f9b3c5950e",
   "metadata": {},
   "outputs": [],
   "source": [
    "adata = sc.read(\"../../training_data/E-MTAB-6945_log1p_normalization.h5ad\")"
   ]
  },
  {
   "cell_type": "code",
   "execution_count": null,
   "id": "cf74e814-bfbb-41b9-ab6f-e90ff771f26e",
   "metadata": {},
   "outputs": [],
   "source": [
    "ro.globalenv[\"adata\"] = adata"
   ]
  },
  {
   "cell_type": "code",
   "execution_count": null,
   "id": "1ec6941d-4824-41c7-8288-ca1e68152cd3",
   "metadata": {},
   "outputs": [],
   "source": [
    "%%R\n",
    "sce = devianceFeatureSelection(adata, assay=\"X\")"
   ]
  },
  {
   "cell_type": "code",
   "execution_count": null,
   "id": "87ae8162-4008-4d5b-922f-6f60cc452eae",
   "metadata": {},
   "outputs": [],
   "source": [
    "binomial_deviance = ro.r(\"rowData(sce)$binomial_deviance\").T"
   ]
  },
  {
   "cell_type": "markdown",
   "id": "bf236ce1-07c2-427d-b40a-0ee425345530",
   "metadata": {},
   "source": [
    "Try to select the 5000 most deviant genes."
   ]
  },
  {
   "cell_type": "code",
   "execution_count": null,
   "id": "6e1a19af-c3e5-4e9c-acf2-82e9f9081bb1",
   "metadata": {},
   "outputs": [],
   "source": [
    "idx = binomial_deviance.argsort()[]\n",
    "mask = np.zeros(adata.var_names.shape, dtype=bool)\n",
    "mask[idx] = True\n",
    "\n",
    "adata.var[\"highly_deviant\"] = mask\n",
    "adata.var[\"binomial_deviance\"] = binomial_deviance"
   ]
  },
  {
   "cell_type": "code",
   "execution_count": null,
   "id": "85c86716-8b42-4b60-a880-092cbdbdeb7b",
   "metadata": {},
   "outputs": [],
   "source": [
    "sc.pp.highly_variable_genes(adata, layer=\"scran_normalization\")"
   ]
  },
  {
   "cell_type": "code",
   "execution_count": null,
   "id": "a608f2c4-dd4a-44d3-b568-2c8ba5812396",
   "metadata": {},
   "outputs": [],
   "source": [
    "ax = sns.scatterplot(\n",
    "    data=adata.var, x=\"means\", y=\"dispersions\", hue=\"highly_deviant\", s=5\n",
    ")\n",
    "ax.set_xlim(None, 1.5)\n",
    "ax.set_ylim(None, 3)\n",
    "plt.show()"
   ]
  },
  {
   "cell_type": "code",
   "execution_count": null,
   "id": "7b158839-2699-4c35-b960-2fdae8a0408d",
   "metadata": {},
   "outputs": [],
   "source": [
    "adata.write(\"../../training_data/E-MTAB-6945_feature_selection.h5ad\")"
   ]
  },
  {
   "cell_type": "markdown",
   "id": "18920977-2f47-43ae-aefc-7ee5dfb8060e",
   "metadata": {},
   "source": [
    "### Question  \n",
    "What can you say about the genes selected (highly deviant)?"
   ]
  },
  {
   "cell_type": "code",
   "execution_count": null,
   "id": "8e257d5a-6b87-4bcb-9636-9913ab72529c",
   "metadata": {},
   "outputs": [],
   "source": []
  }
 ],
 "metadata": {
  "kernelspec": {
   "display_name": "Python 3 (ipykernel)",
   "language": "python",
   "name": "python3"
  },
  "language_info": {
   "codemirror_mode": {
    "name": "ipython",
    "version": 3
   },
   "file_extension": ".py",
   "mimetype": "text/x-python",
   "name": "python",
   "nbconvert_exporter": "python",
   "pygments_lexer": "ipython3",
   "version": "3.11.4"
  }
 },
 "nbformat": 4,
 "nbformat_minor": 5
}
