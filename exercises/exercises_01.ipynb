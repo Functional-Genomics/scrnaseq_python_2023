{
 "cells": [
  {
   "cell_type": "markdown",
   "id": "b2a03c2c",
   "metadata": {},
   "source": [
    "# Single-cell RNA-seqs analysis using Python "
   ]
  },
  {
   "cell_type": "markdown",
   "id": "f21bca12",
   "metadata": {},
   "source": [
    "## 1. Raw Data Processing\n",
    "The commands in this section are supposed to be exectued in a command-line shell terminal.  Lines that begin with a hash/pound sign are comment lines, and not meant to be run.  \n",
    "\n",
    "Needs conda env `af`. "
   ]
  },
  {
   "cell_type": "markdown",
   "id": "0ce4d4fb",
   "metadata": {},
   "source": [
    "### 1.1 Prepare the environment  \n",
    "The environment should already have everything we need, but below is how you set up the tools.  You should have conda installed (via anaconda, miniconda, or mamba)."
   ]
  },
  {
   "cell_type": "markdown",
   "id": "743ba8c0",
   "metadata": {},
   "source": [
    "```\n",
    "# For a LINUX machine\n",
    "conda create -n af -y -c bioconda simpleaf\n",
    "conda activate af\n",
    "```"
   ]
  },
  {
   "cell_type": "markdown",
   "id": "195df0d2",
   "metadata": {},
   "source": [
    "```\n",
    "# For Apple silicon-based machine\n",
    "CONDA_SUBDIR=osx-64 conda create -n af -y -c bioconda simpleaf   # create a new environment\n",
    "conda activate af\n",
    "conda env config vars set CONDA_SUBDIR=osx-64  # subsequent commands use intel packages\n",
    "\n",
    "# To make your changes take effect please reactivate your environment\n",
    "conda deactivate\n",
    "conda activate af\n",
    "```"
   ]
  },
  {
   "cell_type": "markdown",
   "id": "e3af1230",
   "metadata": {},
   "source": [
    "*Dev note: Make this work, or remove `pyroe`*   \n",
    "```\n",
    "# It seems that pyroe is no longer a part of simpleaf, and should be installed separately.\n",
    "# While inside the activated env, install pyroe via conda.\n",
    "conda install -c bioconda pyroe\n",
    "# Not yet sure if this will work becuase env solving seems to take a while and just doesn't complete\n",
    "```"
   ]
  },
  {
   "cell_type": "markdown",
   "id": "2807fc4a",
   "metadata": {},
   "source": [
    "### 1.2 Get the data  \n",
    "*Dev note: Test as is, but replace with data used in the Galaxy training here:*  \n",
    "https://training.galaxyproject.org/training-material/topics/single-cell/tutorials/scrna-case_alevin/tutorial.html   \n",
    "The subset is originally from [E-MTAB-6945](https://www.ebi.ac.uk/biostudies/arrayexpress/studies/E-MTAB-6945)"
   ]
  },
  {
   "cell_type": "markdown",
   "id": "99bc5a2b",
   "metadata": {},
   "source": [
    "```\n",
    "# Create a working dir and go to the working directory\n",
    "## The && operator helps execute two commands using a single line of code.\n",
    "mkdir ex_xmpl_run && cd ex_xmpl_run\n",
    "\n",
    "# Fetch the example dataset\n",
    "## Set destination directory of fastq files as `toy_read_fastq`.\n",
    "fastq_dir=\"toy_read_fastq\"\n",
    "mkdir $fastq_dir\n",
    "## Set destination directory of reference files as `toy_mouse_ref`.\n",
    "ref_dir=\"toy_mouse_ref\"\n",
    "mkdir $ref_dir\n",
    "\n",
    "wget -q -P $fastq_dir https://zenodo.org/record/4574153/files/SLX-7632.TAAGGCGA.N701.s_1.r_1.fq-400k.fastq\n",
    "wget -q -P $fastq_dir https://zenodo.org/record/4574153/files/SLX-7632.TAAGGCGA.N701.s_1.r_2.fq-400k.fastq\n",
    "\n",
    "# Fetch CB permit list\n",
    "## No permit list for dropseq scRNA-seq data (we use a cutoff in alevin)\n",
    "```"
   ]
  },
  {
   "cell_type": "code",
   "execution_count": null,
   "id": "d3400c81-032b-495c-8aba-7b06e9d67b5e",
   "metadata": {},
   "outputs": [],
   "source": []
  },
  {
   "cell_type": "markdown",
   "id": "80c30645",
   "metadata": {},
   "source": [
    "### 1.3 Generate a single-cell matrix with `simpleaf`\n",
    "*Dev note: Test as is, recommend the Galaxy training here for a more detailed hands-on:*  \n",
    "https://training.galaxyproject.org/training-material/topics/single-cell/tutorials/scrna-case_alevin/tutorial.html"
   ]
  },
  {
   "cell_type": "markdown",
   "id": "f439e5b6",
   "metadata": {},
   "source": [
    "```\n",
    "# simpleaf needs the environment variable ALEVIN_FRY_HOME to store configuration and data.\n",
    "# For example, the paths to the underlying programs it uses and the CB permit list\n",
    "mkdir alevin_fry_home & export ALEVIN_FRY_HOME='alevin_fry_home'\n",
    "\n",
    "# the simpleaf set-paths command finds the path to the required tools and write a configuration JSON file in the ALEVIN_FRY_HOME folder.\n",
    "simpleaf set-paths\n",
    "\n",
    "# simpleaf index\n",
    "# Usage: simpleaf index -o out_dir [-f genome_fasta -g gene_annotation_GTF|--refseq transcriptome_fasta] -r read_length -t number_of_threads\n",
    "## The -r read_lengh is the number of sequencing cycles performed by the sequencer to generate biological reads (100 bp for this dataset).\n",
    "## Publicly available datasets usually have the read length in the description. Sometimes they are called the number of cycles.\n",
    "simpleaf index \\\n",
    "-o simpleaf_index \\\n",
    "-f toy_mouse_ref/mus_musculus_genome.fa \\\n",
    "-g toy_mouse_ref/mus_musculus_genes.gtf \\\n",
    "-r 100 \\\n",
    "-t 8\n",
    "```"
   ]
  },
  {
   "cell_type": "markdown",
   "id": "d0d753ce",
   "metadata": {},
   "source": [
    "Above `simpleaf index` command should run for a few seconds.  \n",
    "Standard output is something like below.  \n",
    "\n",
    "```\n",
    "(af)[fg_atlas@hl-codon-22-01 ex_xmpl_run]$ simpleaf index -o simpleaf_index -f toy_mouse_ref/mus_musculus_genome.fa -g toy_mouse_ref/mus_musculus_genes.gtf -r 100 -t 8\n",
    "2023-08-24T15:41:52.482355Z  INFO simpleaf::simpleaf_commands::indexing: preparing to make reference with roers\n",
    "2023-08-24T15:41:59.172897Z  INFO grangers::reader::gtf: Finished parsing the input file. Found 5 comments and 889667 records.\n",
    "2023-08-24T15:42:00.587437Z  INFO roers: Built the Grangers object for 889667 records\n",
    "2023-08-24T15:42:01.382828Z  WARN roers: Found missing gene_id and/or gene_name; Imputing. If both missing, will impute using transcript_id; Otherwise, will impute using the existing one.\n",
    "2023-08-24T15:42:01.409041Z  INFO roers: Proceed 408411 exon records from 69229 transcripts\n",
    "2023-08-24T15:42:21.479623Z  INFO roers: Processing 339182 intronic records\n",
    "2023-08-24T15:42:43.410348Z  INFO roers: Done!\n",
    "2023-08-24T15:42:43.778421Z  INFO simpleaf::simpleaf_commands::indexing: salmon index cmd : /hps/nobackup/irene/ma/isl/envs_test/af/bin/salmon index -k 31 -i simpleaf_index/index -t simpleaf_index/ref/roers_ref.fa --threads 8\n",
    "2023-08-24T15:48:28.997354Z  INFO simpleaf::utils::prog_utils: command returned successfully (exit status: 0)\n",
    "```"
   ]
  },
  {
   "cell_type": "markdown",
   "id": "16d05340",
   "metadata": {},
   "source": [
    "```\n",
    "# Collecting sequencing read files (if there is more than one pair)\n",
    "# simpleaf quant\n",
    "## Usage: simpleaf quant -c chemistry -t threads -1 reads1 -2 reads2 -i index -u [unspliced permit list] -r resolution -m t2g_3col -o output_dir\n",
    "simpleaf quant \\\n",
    "-c \"1{b[12]u[8]x:}2{r:}\" \\\n",
    "-t 8 \\\n",
    "-1 $fastq_dir/SLX-7632.TAAGGCGA.N701.s_1.r_1.fq-400k.fastq \\\n",
    "-2 $fastq_dir/SLX-7632.TAAGGCGA.N701.s_1.r_2.fq-400k.fastq \\\n",
    "-i simpleaf_index/index \\\n",
    "-f 100000 \\\n",
    "-d fw \\\n",
    "-r cr-like \\\n",
    "-m simpleaf_index/index/t2g_3col.tsv \\\n",
    "-o simpleaf_quant\n",
    "```"
   ]
  },
  {
   "cell_type": "markdown",
   "id": "e97fbb86",
   "metadata": {},
   "source": [
    "Above `simpleaf quant` command should take a few seconds to run.  \n",
    "Standard output is something like below.\n",
    "\n",
    "```\n",
    "(af)[fg_atlas@hl-codon-121-03 ex_xmpl_run]$ simpleaf quant -c \"1{b[12]u[8]x:}2{r:}\" -t 8 -1 $fastq_dir/SLX-7632.TAAGGCGA.N701.s_1.r_1.fq-400k.fastq -2 $fastq_dir/SLX-7632.TAAGGCGA.N701.s_1.r_2.fq-400k.fastq -i simpleaf_index/index -f 100000 -d fw -r cr-like -m simpleaf_index/index/t2g_3col.tsv -o simpleaf_quant\n",
    "2023-08-25T14:12:03.800114Z  INFO simpleaf::simpleaf_commands::quant: salmon alevin cmd : /hps/nobackup/irene/ma/isl/envs_test/af/bin/salmon alevin --index simpleaf_index/index -l A -1 toy_read_fastq/SLX-7632.TAAGGCGA.N701.s_1.r_1.fq-400k.fastq -2 toy_read_fastq/SLX-7632.TAAGGCGA.N701.s_1.r_2.fq-400k.fastq --read-geometry 2[1-end] --bc-geometry 1[1-12] --umi-geometry 1[13-20] --threads 8 -o simpleaf_quant/af_map --sketch\n",
    "2023-08-25T14:12:10.295563Z  INFO simpleaf::utils::prog_utils: command returned successfully (exit status: 0)\n",
    "2023-08-25T14:12:10.295601Z  INFO simpleaf::simpleaf_commands::quant: alevin-fry generate-permit-list cmd : /hps/nobackup/irene/ma/isl/envs_test/af/bin/alevin-fry generate-permit-list -i simpleaf_quant/af_map -d fw --force-cells 100000 -o simpleaf_quant/af_quant\n",
    "2023-08-25T14:12:11.282405Z  INFO simpleaf::utils::prog_utils: command returned successfully (exit status: 0)\n",
    "2023-08-25T14:12:11.282435Z  INFO simpleaf::simpleaf_commands::quant: alevin-fry collate cmd : /hps/nobackup/irene/ma/isl/envs_test/af/bin/alevin-fry collate -i simpleaf_quant/af_quant -r simpleaf_quant/af_map -t 8\n",
    "2023-08-25T14:12:14.922569Z  INFO simpleaf::utils::prog_utils: command returned successfully (exit status: 0)\n",
    "2023-08-25T14:12:14.922596Z  INFO simpleaf::simpleaf_commands::quant: cmd : \"/hps/nobackup/irene/ma/isl/envs_test/af/bin/alevin-fry\" \"quant\" \"-i\" \"simpleaf_quant/af_quant\" \"-o\" \"simpleaf_quant/af_quant\" \"-t\" \"8\" \"-m\" \"simpleaf_index/index/t2g_3col.tsv\" \"-r\" \"cr-like\"\n",
    "2023-08-25T14:12:17.751579Z  INFO simpleaf::utils::prog_utils: command returned successfully (exit status: 0)\n",
    "```"
   ]
  },
  {
   "cell_type": "markdown",
   "id": "3837cf96",
   "metadata": {},
   "source": [
    "View the resulting files. Commands are preceded by `$` (the dollar sign should not be copied), and results are shown right below the commands.\n",
    "\n",
    "```\n",
    "# Each line in `quants_mat.mtx` represents\n",
    "# a non-zero entry in the format row column entry\n",
    "# values you see may be different\n",
    "$ tail -3 simpleaf_quant/af_quant/alevin/quants_mat.mtx\n",
    "61328 18849 1\n",
    "61329 9312 1\n",
    "61330 10839 1\n",
    "\n",
    "# Each line in `quants_mat_cols.txt` is a splice status\n",
    "# of a gene in the format (gene name)-(splice status)\n",
    "# values you see may be different\n",
    "$ tail -3 simpleaf_quant/af_quant/alevin/quants_mat_cols.txt\n",
    "ENSMUSG00002075482-A\n",
    "ENSMUSG00000117941-A\n",
    "ENSMUSG00000117659-A\n",
    "\n",
    "# Each line in `quants_mat_rows.txt` is a corrected\n",
    "# (and, potentially, filtered) cell barcode\n",
    "# values you see may be different\n",
    "$ tail -3 simpleaf_quant/af_quant/alevin/quants_mat_rows.txt\n",
    "AGGAACACATAG\n",
    "CCTAAGACGGTT\n",
    "CGCCTTAGGGCC\n",
    "```"
   ]
  },
  {
   "cell_type": "markdown",
   "id": "068b4a06",
   "metadata": {},
   "source": [
    "*Dev note: Check if this is necessary. If not and pyroe cannot be installed, scrap below*"
   ]
  },
  {
   "cell_type": "code",
   "execution_count": null,
   "id": "c1b769f6",
   "metadata": {},
   "outputs": [],
   "source": [
    "# import pyroe\n",
    "\n",
    "# quant_dir = 'simpleaf_quant/af_quant'\n",
    "# adata_sa = pyroe.load_fry(quant_dir)"
   ]
  },
  {
   "cell_type": "code",
   "execution_count": null,
   "id": "f258c048",
   "metadata": {},
   "outputs": [],
   "source": [
    "# import pyroe\n",
    "\n",
    "# quant_dir = 'simpleaf_quant/af_quant'\n",
    "# adata_usa = pyroe.load_fry(quant_dir, output_format={'X' : ['U','S','A']})"
   ]
  },
  {
   "cell_type": "markdown",
   "id": "fdde8664",
   "metadata": {},
   "source": [
    "### 1.4 Generate a single-cell matrix with the `alevin-fry` pipeline"
   ]
  },
  {
   "cell_type": "markdown",
   "id": "a0f4304b",
   "metadata": {},
   "source": [
    "#### 1.4.1 Using the SC book method"
   ]
  },
  {
   "cell_type": "markdown",
   "id": "28a2dfeb",
   "metadata": {},
   "source": [
    "Build the reference index"
   ]
  },
  {
   "cell_type": "markdown",
   "id": "58913a96",
   "metadata": {},
   "source": [
    "```\n",
    "# make splici reference\n",
    "## Usage: pyroe make-splici genome_file gtf_file read_length out_dir\n",
    "## The read_length is the number of sequencing cycles performed by the sequencer. Ask your technician if you are not sure about it.\n",
    "## Publicly available datasets usually have the read length in the description.\n",
    "pyroe make-splici \\\n",
    "$ref_dir/mus_musculus_genome.fa \\\n",
    "$ref_dir/mus_musculus_genes.gtf \\\n",
    "98 \\\n",
    "splici_rl98_ref\n",
    "\n",
    "# Index the reference\n",
    "## Usage: salmon index -t extend_txome.fa -i idx_out_dir -p num_threads\n",
    "## The $() expression runs the command inside and puts the output in place.\n",
    "## Please ensure that only one file ends with \".fa\" in the `splici_ref` folder.\n",
    "salmon index \\\n",
    "-t $(ls splici_rl98_ref/*\\.fa) \\\n",
    "-i salmon_index \\\n",
    "-p 8\n",
    "```"
   ]
  },
  {
   "cell_type": "markdown",
   "id": "dbd05762",
   "metadata": {},
   "source": [
    "Above commands should take seconds each to run.  \n",
    "To execute commands, had to switch between different conda envs because `pyroe` doesn't get installed with `simpleaf` via conda."
   ]
  },
  {
   "cell_type": "markdown",
   "id": "2fb631e0",
   "metadata": {},
   "source": [
    "Mapping and quantification"
   ]
  },
  {
   "cell_type": "markdown",
   "id": "c5cc2f90",
   "metadata": {},
   "source": [
    "```\n",
    "# Mapping\n",
    "## Usage: salmon alevin -i index_dir -l library_type -1 reads1_files -2 reads2_files -p num_threads -o output_dir\n",
    "salmon alevin \\\n",
    "-i salmon_index \\\n",
    "-l ISR \\\n",
    "-1 $fastq_dir/SLX-7632.TAAGGCGA.N701.s_1.r_1.fq-400k.fastq \\\n",
    "-2 $fastq_dir/SLX-7632.TAAGGCGA.N701.s_1.r_2.fq-400k.fastq \\\n",
    "-p 8 \\\n",
    "-o salmon_alevin \\\n",
    "--dropseq \\\n",
    "--sketch\n",
    "```"
   ]
  },
  {
   "cell_type": "markdown",
   "id": "4820295f",
   "metadata": {},
   "source": [
    "```\n",
    "# Cell barcode correction\n",
    "## Usage: alevin-fry generate-permit-list -u CB_permit_list -d expected_orientation -o gpl_out_dir\n",
    "## Here, the reads that map to the reverse complement strand of transcripts are filtered out by specifying `-d fw`.\n",
    "alevin-fry generate-permit-list \\\n",
    "-d fw \\\n",
    "-f 100000 \\\n",
    "-i salmon_alevin \\\n",
    "-o alevin_fry_gpl\n",
    "```"
   ]
  },
  {
   "cell_type": "markdown",
   "id": "d20dd4bd",
   "metadata": {},
   "source": [
    "Output of generating permit list\n",
    "\n",
    "```\n",
    "2023-08-27 16:48:27 INFO paired : false, ref_count : 98,778, num_chunks : 45                                                          \n",
    "2023-08-27 16:48:27 INFO read 2 file-level tags\n",
    "2023-08-27 16:48:27 INFO read 2 read-level tags\n",
    "2023-08-27 16:48:27 INFO read 1 alignemnt-level tags\n",
    "2023-08-27 16:48:27 INFO File-level tag values FileTags { bclen: 12, umilen: 8 }                                                      \n",
    "2023-08-27 16:48:27 INFO observed 202,085 reads in 45 chunks --- max ambiguity read occurs in 2,266 refs                              \n",
    "2023-08-27 16:48:28 INFO total number of distinct corrected barcodes : 61,328\n",
    "```"
   ]
  },
  {
   "cell_type": "markdown",
   "id": "1e698698",
   "metadata": {},
   "source": [
    "```\n",
    "# Filter mapping information\n",
    "## Usage: alevin-fry collate -i gpl_out_dir -r alevin_map_dir -t num_threads\n",
    "alevin-fry collate \\\n",
    "-i alevin_fry_gpl \\\n",
    "-r salmon_alevin \\\n",
    "-t 8\n",
    "```"
   ]
  },
  {
   "cell_type": "markdown",
   "id": "3ef355dc",
   "metadata": {},
   "source": [
    "Output of collate:  \n",
    "\n",
    "```\n",
    "2023-08-27 18:12:40 INFO filter_type = Filtered\n",
    "2023-08-27 18:12:40 INFO collated rad file will not be compressed\n",
    "2023-08-27 18:12:40 INFO paired : false, ref_count : 98,778, num_chunks : 45, expected_ori : Forward\n",
    "2023-08-27 18:12:40 INFO read 2 file-level tags\n",
    "2023-08-27 18:12:40 INFO read 2 read-level tags\n",
    "2023-08-27 18:12:40 INFO read 1 alignemnt-level tags\n",
    "2023-08-27 18:12:40 INFO File-level tag values FileTags { bclen: 12, umilen: 8 }\n",
    "2023-08-27 18:12:44 INFO deserialized correction map of length : 4,361,264\n",
    "2023-08-27 18:12:44 INFO Generated 1 temporary buckets.\n",
    "  [00:00:00] [╢╢╢╢╢╢╢╢╢╢╢╢╢╢╢╢╢╢╢╢╢╢╢╢╢╢╢╢╢╢╢╢╢╢╢╢╢╢╢╢]      45/45      partitioned records into temporary files.\n",
    "  [00:00:00] [╢╢╢╢╢╢╢╢╢╢╢╢╢╢╢╢╢╢╢╢╢╢╢╢╢╢╢╢╢╢╢╢╢╢╢╢╢╢╢╢]       1/1       gathered all temp files.\n",
    "2023-08-27 18:12:44 INFO writing num output chunks (61,328) to header\n",
    "2023-08-27 18:12:44 INFO expected number of output chunks 61,328\n",
    "2023-08-27 18:12:44 INFO finished collating input rad file \"salmon_alevin/map.rad\".\n",
    "```"
   ]
  },
  {
   "cell_type": "markdown",
   "id": "5f6cd4e5",
   "metadata": {},
   "source": [
    "```\n",
    "# UMI resolution + quantification\n",
    "## Usage: alevin-fry quant -r resolution -m txp_to_gene_mapping -i gpl_out_dir -o quant_out_dir -t num_threads\n",
    "## The file ends with `3col.tsv` in the splici_ref folder will be passed to the -m argument.\n",
    "## Please ensure that there is only one such file in the `splici_ref` folder.\n",
    "alevin-fry quant -r cr-like-em \\\n",
    "-m $(ls splici_rl98_ref/*3col.tsv) \\\n",
    "-i alevin_fry_gpl \\\n",
    "-o alevin_fry_quant \\\n",
    "-t 8\n",
    "```"
   ]
  },
  {
   "cell_type": "markdown",
   "id": "c78981b3",
   "metadata": {},
   "source": [
    "Output of above command:  \n",
    "\n",
    "```\n",
    "2023-08-27 18:16:01 INFO quantifying from uncompressed, collated RAD file File { fd: 4, path: \"/homes/irisyu/training/scrnaseq_python_2023/ex_xmpl_run/alevin_fry_gpl/map.collated.rad\", read: true, write: false }\n",
    "2023-08-27 18:16:01 INFO paired : false, ref_count : 98,778, num_chunks : 61,328\n",
    "2023-08-27 18:16:01 INFO tg-map contained 25,810 genes mapping to 98,778 transcripts.\n",
    "2023-08-27 18:16:01 INFO read 2 file-level tags\n",
    "2023-08-27 18:16:01 INFO read 2 read-level tags\n",
    "2023-08-27 18:16:01 INFO read 1 alignemnt-level tags\n",
    "2023-08-27 18:16:01 INFO File-level tag values FileTags { bclen: 12, umilen: 8 }\n",
    "  [00:00:02] [╢╢╢╢╢╢╢╢╢╢╢╢╢╢╢╢╢╢╢╢╢╢╢╢╢╢╢╢╢╢╢╢╢╢╢╢╢╢╢╢]   61328/61328   finished quantifying 61,328 cells.\n",
    "2023-08-27 18:16:04 INFO processed 180,774 total read records\n",
    "```"
   ]
  },
  {
   "cell_type": "markdown",
   "id": "b58e6de1",
   "metadata": {},
   "source": [
    "#### 1.4.2 Using the Atlas pipeline  \n",
    "Try and replicate the Atlas pipeline here. Below are the references:  \n",
    "[Tutorial](https://training.galaxyproject.org/training-material/topics/single-cell/tutorials/scrna-case_alevin/tutorial.html)  \n",
    "[Galaxy workflow](https://humancellatlas.usegalaxy.eu/published/workflow?id=bd7bd54eaf932585)"
   ]
  },
  {
   "cell_type": "markdown",
   "id": "b2631f65-37ff-42f2-b9da-4a036abef239",
   "metadata": {},
   "source": [
    "#### Convert from mtx to 10x  \n",
    "Below is a script that also uses pyroe, with USA mode  (use conda env `pyroe` or `parse_alevin_fry` in codon to run).\n",
    "In codon, the script is copied to `/homes/irisyu/training/scrnaseq_python_2023/bin` (add to PATH).\n",
    "\n",
    "export PATH=/homes/irisyu/training/scrnaseq_python_2023/bin:$PATH\n",
    "\n",
    "```\n",
    "(pyroe) % alevinFryMtxTo10x.py alevin_fry_quant alevin_fry_parsed single_cell \n",
    "USA mode: True\n",
    "Using pre-defined output format: scrna\n",
    "Will populate output field X with sum of counts frorm ['S', 'A'].\n",
    "```"
   ]
  },
  {
   "cell_type": "markdown",
   "id": "274ea75d-b1fa-470b-abc1-93bd2b3d13d4",
   "metadata": {},
   "source": [
    "#### Remove empty drops  \n",
    "\n",
    "Below, use conda env with `bioconductor-dropletutils` and `dropletutils-scripts`.  In codon, the scripts `/nfs/production/irene/ma/fg_atlas_sc/nextflow_scxa_test/envs/dropletutils-a2f6101409ff7f11d8d66c59f1f32ead/bin/dropletutils-*.R` are copied to `/homes/irisyu/training/scrnaseq_python_2023/bin` (add to PATH).  The scripts should also be in the dropletutils-scripts env bin.  \n",
    "\n",
    "```\n",
    "(dropletutils)[fg_atlas@hl-codon-46-03 ex_xmpl_run]$ dropletutils-read-10x-counts.R -s alevin_fry_parsed -c TRUE -o alevin_fry_parsed/matrix.rds\n",
    "..\n",
    "# Object summary\n",
    "class: SingleCellExperiment\n",
    "dim: 25810 61328\n",
    "metadata(0):\n",
    "assays(1): counts\n",
    "rownames(25810): ENSMUSG00000026315 ENSMUSG00000063558 ...\n",
    "  ENSMUSG00002075994 ENSMUSG00002075332\n",
    "rowData names(2): ID Symbol\n",
    "colnames(61328): AGATGTGCGGTC CTAAACTACTCG ... ATGACATTCAGG\n",
    "  CACCGGGGGAGG\n",
    "colData names(2): Sample Barcode\n",
    "reducedDimNames(0):\n",
    "spikeNames(0):\n",
    "\n",
    "# Metadata sample\n",
    "DataFrame with 6 rows and 2 columns\n",
    "                        Sample      Barcode\n",
    "                   <character>  <character>\n",
    "AGATGTGCGGTC alevin_fry_parsed AGATGTGCGGTC\n",
    "CTAAACTACTCG alevin_fry_parsed CTAAACTACTCG\n",
    "GTGTGACGTGTG alevin_fry_parsed GTGTGACGTGTG\n",
    "AGTGGCTTACGA alevin_fry_parsed AGTGGCTTACGA\n",
    "GCCGATTTTTAC alevin_fry_parsed GCCGATTTTTAC\n",
    "CGGAACCCCACT alevin_fry_parsed CGGAACCCCACT\n",
    "\n",
    "\n",
    "(dropletutils)[fg_atlas@hl-codon-101-03 af_xmpl_run]$ mkdir empty_drops\n",
    "(dropletutils)[fg_atlas@hl-codon-46-03 ex2_xmpl_run]$ dropletutils-empty-drops.R -i alevin_fry_parsed/matrix.rds --lower 5 --niters 100\n",
    "0 --filter-empty TRUE --filter-fdr 0.01 -o empty_drops/nonempty.rds -t empty_drops/nonempty.txt                                       \n",
    "...\n",
    "At an FDR of 0.01, estimate that 23 barcodes have cells.\n",
    "Will filter to 23 barcodes.\n",
    "\n",
    "Parameter values:\n",
    "             value\n",
    "lower            5\n",
    "niters        1000\n",
    "test_ambient FALSE\n",
    "filter_empty  TRUE\n",
    "filter_fdr    0.01\n",
    "```"
   ]
  },
  {
   "cell_type": "markdown",
   "id": "637f1d68-760c-45ae-a662-a3e6011a4f99",
   "metadata": {},
   "source": [
    "#### Convert from rds to h5ad using sceasy\n",
    "\n",
    "Below, use conda env with `r-sceasy` (e.g., `sc_py_training`).  \n",
    "\n",
    "```\n",
    "(sc_py_training)[fg_atlas@hl-codon-46-03 ex2_xmpl_run]$ Rscript -e 'library(sceasy)' \\\n",
    "> -e 'sce <- readRDS(\"empty_drops/nonempty.rds\")' \\\n",
    "> -e 'sceasy::convertFormat(sce, outFile=\"empty_drops/nonempty.h5ad\", from=\"sce\", to=\"anndata\", main_layer=\"counts\")' \\\n",
    "> -e 'print(sce)'\n",
    "During startup - Warning message:\n",
    "Setting LC_CTYPE failed, using \"C\"\n",
    "Loading required package: reticulate\n",
    "Loading required namespace: SingleCellExperiment\n",
    "/hps/nobackup/irene/ma/isl/envs_test/sc_py_training/lib/R/library/reticulate/python/rpytools/loader.py:117: FutureWarning: pandas.core$\n",
    "index is deprecated and will be removed in a future version. The public classes are available in the top-level namespace.\n",
    "  return _find_and_load(name, import_)\n",
    "/hps/software/users/ma/service/isl/conda/config/envs/r-anndata/lib/python3.11/site-packages/anndata/core/anndata.py:1328: FutureWarnin$\n",
    ": is_categorical is deprecated and will be removed in a future version. Use is_categorical_dtype instead.\n",
    "  and not is_categorical(df[key])\n",
    "/hps/software/users/ma/service/isl/conda/config/envs/r-anndata/lib/python3.11/site-packages/anndata/core/anndata.py:1328: FutureWarnin$\n",
    ": is_categorical is deprecated and will be removed in a future version. Use is_categorical_dtype instead.\n",
    "  and not is_categorical(df[key])\n",
    "/hps/software/users/ma/service/isl/conda/config/envs/r-anndata/lib/python3.11/site-packages/anndata/core/anndata.py:101: FutureWarning$\n",
    " is_categorical is deprecated and will be removed in a future version. Use is_categorical_dtype instead.\n",
    "  if is_string_dtype(df[k]) and not is_categorical(df[k]):\n",
    "/hps/software/users/ma/service/isl/conda/config/envs/r-anndata/lib/python3.11/site-packages/anndata/core/anndata.py:108: FutureWarning$\n",
    " is_categorical is deprecated and will be removed in a future version. Use is_categorical_dtype instead.\n",
    "  elif is_categorical(df[k]):\n",
    "AnnData object with n_obs <U+00D7> n_vars = 23 <U+00D7> 25810\n",
    "    obs: 'Barcode', 'emptyTotal', 'emptyLogProb', 'emptyPValue', 'emptyLimited'\n",
    "    var: 'ID', 'Symbol'\n",
    "Warning message:\n",
    "In .regularise_df(as.data.frame(SummarizedExperiment::colData(obj)),  :\n",
    "  Dropping single category variables:Sample, emptyFDR\n",
    "class: SingleCellExperiment\n",
    "dim: 25810 23\n",
    "metadata(0):\n",
    "assays(1): counts\n",
    "rownames(25810): ENSMUSG00000026315 ENSMUSG00000063558 ...\n",
    "  ENSMUSG00002075994 ENSMUSG00002075332\n",
    "rowData names(2): ID Symbol\n",
    "colnames(23): GATGCATTCCTG CCTTCCTCCTTC ... GACGAGTGTCCC CCATTCCTGTCT\n",
    "colData names(7): Sample Barcode ... emptyLimited emptyFDR\n",
    "reducedDimNames(0):\n",
    "mainExpName: NULL\n",
    "altExpNames(0):\n",
    "```"
   ]
  },
  {
   "cell_type": "markdown",
   "id": "5ac7275a-455d-49b8-8daf-7a86d961171c",
   "metadata": {},
   "source": [
    "#### Questions  \n",
    "1. How many cell barcodes do you start with?  \n",
    "2. How many cell barcodes are left after the emptyDrops treatment?  "
   ]
  },
  {
   "cell_type": "markdown",
   "id": "9d940d16-3b4f-4ec8-850c-75cd82effe64",
   "metadata": {},
   "source": [
    "### Exercises\n",
    "Answer the Questions in each section above. "
   ]
  },
  {
   "cell_type": "markdown",
   "id": "680b3970",
   "metadata": {},
   "source": [
    "### 2.  Quality Control  "
   ]
  },
  {
   "cell_type": "markdown",
   "id": "a06d53a8-2e19-4a2e-bb05-871a0127b8f5",
   "metadata": {},
   "source": [
    "#### 2.1 Filtering low quality reads"
   ]
  },
  {
   "cell_type": "code",
   "execution_count": null,
   "id": "b6c2dea2",
   "metadata": {},
   "outputs": [],
   "source": [
    "import numpy as np\n",
    "import scanpy as sc\n",
    "import seaborn as sns\n",
    "from scipy.stats import median_abs_deviation\n",
    "\n",
    "sc.settings.verbosity = 0\n",
    "sc.settings.set_figure_params(\n",
    "    dpi=80,\n",
    "    facecolor=\"white\",\n",
    "    frameon=False,\n",
    ")\n",
    "\n",
    "workdir = \"/home/training/scrnaseq_python_2023\""
   ]
  },
  {
   "cell_type": "code",
   "execution_count": null,
   "id": "b872f7d5-1129-4281-8e47-08cbc578949a",
   "metadata": {},
   "outputs": [],
   "source": [
    "# For exercises, we are using the raw counts of E-MTAB-6945 (not the subset)\n",
    "adata = sc.read(f\"{workdir}/data/E-MTAB-6945.h5ad\")\n",
    "adata"
   ]
  },
  {
   "cell_type": "code",
   "execution_count": null,
   "id": "b7a7c31c-a11f-40d7-8335-28aad5996eda",
   "metadata": {},
   "outputs": [],
   "source": [
    "# No need to make var names unique, since all are unique\n",
    "# adata.var_names_make_unique()\n",
    "adata"
   ]
  },
  {
   "cell_type": "markdown",
   "id": "9ab78449-c225-4511-a49d-d2ab35a6fd64",
   "metadata": {},
   "source": [
    "The dataset has 5,218 barcodes and 35,682 transcripts."
   ]
  },
  {
   "cell_type": "markdown",
   "id": "a95870ea-afd7-4d09-9172-1b693029271f",
   "metadata": {},
   "source": [
    "Below, we add series of booleans to identify whicy variables (transcripts) are from mitochondrial, ribosomal, or hemoglobin genes."
   ]
  },
  {
   "cell_type": "code",
   "execution_count": null,
   "id": "4aa2c99c-ae8c-4f93-b924-56f0cf3eaee0",
   "metadata": {},
   "outputs": [],
   "source": [
    "# Mitochondrial transcripts already annotated\n",
    "adata.var.loc[adata.var.chromosome == \"MT\", [\"gene_symbols\", \"chromosome\", \"mito\"]] "
   ]
  },
  {
   "cell_type": "markdown",
   "id": "2bc5ac4b-7474-43ec-813d-b24e9315bef6",
   "metadata": {},
   "source": [
    "Below, we calculate qc metrics, which will evaluate the raw observations and therefore will add data to the `adata.obs` dataframe. "
   ]
  },
  {
   "cell_type": "code",
   "execution_count": null,
   "id": "62b862e2-662f-487d-92f8-8d332219a746",
   "metadata": {},
   "outputs": [],
   "source": [
    "sc.pp.calculate_qc_metrics(\n",
    "    adata, qc_vars=[\"mito\"], inplace=True, percent_top=[20], log1p=True\n",
    ")\n",
    "adata"
   ]
  },
  {
   "cell_type": "markdown",
   "id": "06a9fd66-10b5-4028-a1e2-8cb593260a5e",
   "metadata": {},
   "source": [
    "In the third plot below, show the log-transformed versions of the `total_counts` and `n_genes_by_counts` in their respective axes."
   ]
  },
  {
   "cell_type": "code",
   "execution_count": null,
   "id": "e8776850-44a1-4b3a-a4d6-a5a33d267b41",
   "metadata": {},
   "outputs": [],
   "source": [
    "# Ditribution of barcodes (cells) in terms of the numbr of genes per barcode (cell)\n",
    "p1 = sns.displot(adata.obs[\"total_counts\"], bins=100, kde=False)\n",
    "# Above distribution viewed as a violon plot:\n",
    "# sc.pl.violin(adata, 'total_counts')\n",
    "\n",
    "# Distribution of barcodes (cells) in terms of the %mt of counts per barcode (cell)\n",
    "p2 = sc.pl.violin(adata, \"pct_counts_mito\")\n",
    "\n",
    "# A scatter representing total_counts (x), n_genes_by_counts (y), and %mt of counts (color) per barcode (cell)\n",
    "p3 = sc.pl.scatter(adata, \"total_counts\", \"n_genes_by_counts\", color=\"pct_counts_mito\")"
   ]
  },
  {
   "cell_type": "code",
   "execution_count": null,
   "id": "ff2ee876-8454-4950-9094-d13dbdafbb95",
   "metadata": {},
   "outputs": [],
   "source": [
    "adata.obs.loc[:, ['n_genes_by_counts', 'log1p_n_genes_by_counts', 'total_counts', \n",
    "                  'log1p_total_counts', 'pct_counts_in_top_20_genes']\n",
    "]"
   ]
  },
  {
   "cell_type": "markdown",
   "id": "d1870f6d-4c8f-4a03-a781-6e4657dcb95d",
   "metadata": {},
   "source": [
    "Below defines a function that checks if of an observation is an outlier based on nmads * MAD.  The output is a series of boleans.  \n",
    "`nmads` or \"number of MADs\" refers to the distance from the median in terms of MADs, outside of which a value is considered an outlier.  \n",
    "Note that MAD will always be positive."
   ]
  },
  {
   "cell_type": "code",
   "execution_count": null,
   "id": "719658f5-ecd1-44c7-8b42-7cba3cfe6ecd",
   "metadata": {},
   "outputs": [],
   "source": [
    "def is_outlier(adata, metric: str, nmads: int):\n",
    "    M = adata.obs[metric]\n",
    "    outlier = (M < np.median(M) - nmads * median_abs_deviation(M)) | (\n",
    "        np.median(M) + nmads * median_abs_deviation(M) < M\n",
    "    )\n",
    "    return outlier"
   ]
  },
  {
   "cell_type": "markdown",
   "id": "f9a1aee3-d794-4d58-aedf-d64e0dd44a1d",
   "metadata": {},
   "source": [
    "Below: `|` is a bitwise or operator comparing a 3 serieses of booleans (metrics).  If an observation (barcode) is an outlier in any of the three metrics, that barcode is tagged as an outlier."
   ]
  },
  {
   "cell_type": "code",
   "execution_count": null,
   "id": "4b882626-bfcb-4325-a868-968af20f0cb3",
   "metadata": {},
   "outputs": [],
   "source": [
    "adata.obs[\"outlier\"] = (\n",
    "    is_outlier(adata, \"log1p_total_counts\", 5)\n",
    "    | is_outlier(adata, \"log1p_n_genes_by_counts\", 5)\n",
    "    | is_outlier(adata, \"pct_counts_in_top_20_genes\", 5)\n",
    ")\n",
    "adata.obs.outlier.value_counts()"
   ]
  },
  {
   "cell_type": "markdown",
   "id": "9b7ce8f5-da08-42e2-9182-9f4b3355e04e",
   "metadata": {},
   "source": [
    "Below, observations (barcodes) are tagged as outliers based on metrics  for the presence of mitochondrial transcripts."
   ]
  },
  {
   "cell_type": "code",
   "execution_count": null,
   "id": "4ef98a82-b671-43bc-9db7-04b615dcd69a",
   "metadata": {},
   "outputs": [],
   "source": [
    "adata.obs[\"mt_outlier\"] = is_outlier(adata, \"pct_counts_mito\", 3) | (\n",
    "    adata.obs[\"pct_counts_mito\"] > 8\n",
    ")\n",
    "adata.obs.mt_outlier.value_counts()"
   ]
  },
  {
   "cell_type": "markdown",
   "id": "f0860e6c-1fca-418d-8e1a-7c8bde385011",
   "metadata": {},
   "source": [
    "Use outlier information to filter barcodes (cells).  Below, we use `~` which is a bitwise `not`, an inverse boolean mask (`True` to `False` and vice versa)."
   ]
  },
  {
   "cell_type": "code",
   "execution_count": null,
   "id": "c62f237e-5a5f-416e-8018-2737864bf453",
   "metadata": {},
   "outputs": [],
   "source": [
    "print(f\"Total number of cells: {adata.n_obs}\")\n",
    "adata = adata[(~adata.obs.outlier) & (~adata.obs.mt_outlier)].copy()\n",
    "print(f\"Number of cells after filtering of low quality cells: {adata.n_obs}\")"
   ]
  },
  {
   "cell_type": "markdown",
   "id": "8bccb169-5cb7-4aa5-a51e-2ebcd505c7c4",
   "metadata": {},
   "source": [
    "Edit the plotting command below, so that the plot shows the log-transformed versions of the `total_counts` and `n_genes_by_counts` in their respective axes. Compare with the plot above."
   ]
  },
  {
   "cell_type": "code",
   "execution_count": null,
   "id": "9c9c294d-1c53-4b26-bfbd-26aed6ecb64f",
   "metadata": {},
   "outputs": [],
   "source": [
    "p4 = sc.pl.scatter(adata, \"total_counts\", \"n_genes_by_counts\", color=\"pct_counts_mito\")"
   ]
  },
  {
   "cell_type": "markdown",
   "id": "a9c27df5-507e-447a-a130-fd0df3b48572",
   "metadata": {},
   "source": []
  },
  {
   "cell_type": "markdown",
   "id": "bb5caf5a-3750-458d-8441-97c3b6b0578e",
   "metadata": {},
   "source": [
    "#### "
   ]
  },
  {
   "cell_type": "markdown",
   "id": "26a0e14d-55bd-43f2-b3a3-80b789d46e9c",
   "metadata": {},
   "source": [
    "#### 2.2 Correction of ambient RNA "
   ]
  },
  {
   "cell_type": "code",
   "execution_count": null,
   "id": "5d0bab8a-0b23-4a88-bfd4-87a92f0977e4",
   "metadata": {},
   "outputs": [],
   "source": [
    "import anndata2ri\n",
    "import logging\n",
    "\n",
    "import rpy2.rinterface_lib.callbacks as rcb\n",
    "import rpy2.robjects as ro\n",
    "\n",
    "rcb.logger.setLevel(logging.ERROR)\n",
    "ro.pandas2ri.activate()\n",
    "anndata2ri.activate()\n",
    "\n",
    "%load_ext rpy2.ipython"
   ]
  },
  {
   "cell_type": "code",
   "execution_count": null,
   "id": "7c2d2689-cbd5-4403-b2df-fd630b5d0612",
   "metadata": {},
   "outputs": [],
   "source": [
    "%%R\n",
    "library(SoupX)"
   ]
  },
  {
   "cell_type": "code",
   "execution_count": null,
   "id": "900f6aec-154f-4399-8ea4-c901f8124b1c",
   "metadata": {},
   "outputs": [],
   "source": [
    "# Normalise and log1p-transform the data\n",
    "adata_pp = adata.copy()\n",
    "sc.pp.normalize_per_cell(adata_pp)\n",
    "sc.pp.log1p(adata_pp)"
   ]
  },
  {
   "cell_type": "code",
   "execution_count": null,
   "id": "79d81a8a-c3e3-40ff-839a-5908cf4262fd",
   "metadata": {},
   "outputs": [],
   "source": [
    "# Compute principal components\n",
    "sc.pp.pca(adata_pp)\n",
    "sc.pp.neighbors(adata_pp)\n",
    "sc.tl.leiden(adata_pp, key_added=\"soupx_groups\")\n",
    "\n",
    "# Preprocess variables for SoupX\n",
    "soupx_groups = adata_pp.obs[\"soupx_groups\"]"
   ]
  },
  {
   "cell_type": "code",
   "execution_count": null,
   "id": "f7fbcbf4-9eff-4e3b-8f04-adbadefb145e",
   "metadata": {},
   "outputs": [],
   "source": [
    "del adata_pp"
   ]
  },
  {
   "cell_type": "code",
   "execution_count": null,
   "id": "baafb063-9133-452e-bc34-5d560389aca1",
   "metadata": {},
   "outputs": [],
   "source": [
    "cells = adata.obs_names\n",
    "genes = adata.var_names\n",
    "data = adata.X.T"
   ]
  },
  {
   "cell_type": "code",
   "execution_count": null,
   "id": "22ae1d53-7ef9-4b36-ba9e-6cee27b22f44",
   "metadata": {},
   "outputs": [],
   "source": [
    "# Load the raw again, required by\n",
    "adata_raw = sc.read(f\"{workdir}/data/E-MTAB-6945.h5ad\")\n",
    "data_tod = adata_raw.X.T"
   ]
  },
  {
   "cell_type": "code",
   "execution_count": null,
   "id": "e433e3f3-c25d-45d6-bf68-97e16c80b46d",
   "metadata": {},
   "outputs": [],
   "source": [
    "del adata_raw"
   ]
  },
  {
   "cell_type": "code",
   "execution_count": null,
   "id": "cd6e8e00-a21e-429f-a59d-505aff29670d",
   "metadata": {},
   "outputs": [],
   "source": [
    "%%R -i data -i data_tod -i genes -i cells -i soupx_groups -o out \n",
    "\n",
    "# specify row and column names of data\n",
    "rownames(data) = genes\n",
    "colnames(data) = cells\n",
    "# ensure correct sparse format for table of counts and table of droplets\n",
    "data <- as(data, \"sparseMatrix\")\n",
    "data_tod <- as(data_tod, \"sparseMatrix\")\n",
    "\n",
    "# Generate SoupChannel Object for SoupX \n",
    "sc = SoupChannel(data_tod, data, calcSoupProfile = FALSE)\n",
    "\n",
    "# Add extra meta data to the SoupChannel object\n",
    "soupProf = data.frame(row.names = rownames(data), est = rowSums(data)/sum(data), counts = rowSums(data))\n",
    "sc = setSoupProfile(sc, soupProf)\n",
    "# Set cluster information in SoupChannel\n",
    "sc = setClusters(sc, soupx_groups)\n",
    "\n",
    "# Estimate contamination fraction\n",
    "sc  = autoEstCont(sc, doPlot=FALSE)\n",
    "# Infer corrected table of counts and rount to integer\n",
    "out = adjustCounts(sc, roundToInt = TRUE)"
   ]
  },
  {
   "cell_type": "code",
   "execution_count": null,
   "id": "bc43a08b-7ba1-471c-b7b1-c088f398947b",
   "metadata": {},
   "outputs": [],
   "source": [
    "type(out)"
   ]
  },
  {
   "cell_type": "code",
   "execution_count": null,
   "id": "7254a4fe-c08a-401b-a33c-c2e2acebb5ac",
   "metadata": {},
   "outputs": [],
   "source": [
    "# Move counts to a layer\n",
    "adata.layers[\"counts\"] = adata.X\n",
    "\n",
    "# Put the output of soupx into a layer\n",
    "adata.layers[\"soupX_counts\"] = out.T\n",
    "\n",
    "# Use the soupx layer as the new main data layer, X\n",
    "adata.X = adata.layers[\"soupX_counts\"]"
   ]
  },
  {
   "cell_type": "code",
   "execution_count": null,
   "id": "4aefbaaf-dcc6-4b99-b3da-6f5247731c33",
   "metadata": {},
   "outputs": [],
   "source": [
    "print(f\"Total number of genes: {adata.n_vars}\")\n",
    "\n",
    "# Min 20 cells - filters out 0 count genes\n",
    "sc.pp.filter_genes(adata, min_cells=20)\n",
    "print(f\"Number of genes after cell filter: {adata.n_vars}\")"
   ]
  },
  {
   "cell_type": "markdown",
   "id": "ef252973-c2e5-4315-8a4c-de5edb95e430",
   "metadata": {},
   "source": [
    "The QC steps above filter the data into what can be considered the real RNAs."
   ]
  },
  {
   "cell_type": "markdown",
   "id": "e9713dea-d466-40c5-a34e-015d4808cc71",
   "metadata": {},
   "source": [
    "Note: Above count for number of genes is not the same as the book. "
   ]
  },
  {
   "cell_type": "code",
   "execution_count": null,
   "id": "11db6de4-b07f-4244-a0cd-99c374ba3571",
   "metadata": {},
   "outputs": [],
   "source": [
    "# Save above data, so as not to repeat all of above when kernel stops\n",
    "# adata.write(\"E-MTAB-6945_corrected_ambient_RNA.h5ad\")"
   ]
  },
  {
   "cell_type": "markdown",
   "id": "d6d52632-25f7-448b-977b-bf8d914d994e",
   "metadata": {},
   "source": [
    "#### 2.3 Doublet Detection  "
   ]
  },
  {
   "cell_type": "code",
   "execution_count": null,
   "id": "e9741445-7a0d-491f-ae97-9f9be035a8e8",
   "metadata": {},
   "outputs": [],
   "source": [
    "%%R\n",
    "library(Seurat)\n",
    "library(scater)\n",
    "library(scDblFinder)\n",
    "library(BiocParallel)"
   ]
  },
  {
   "cell_type": "code",
   "execution_count": null,
   "id": "ec45c51a-fe47-4a61-bf75-2b8cac349f8d",
   "metadata": {},
   "outputs": [],
   "source": [
    "data_mat = adata.X.T"
   ]
  },
  {
   "cell_type": "code",
   "execution_count": null,
   "id": "abfbf10f-a864-4fbf-b519-11f0ec5a1cfa",
   "metadata": {},
   "outputs": [],
   "source": [
    "%%R -i data_mat -o doublet_score -o doublet_class\n",
    "\n",
    "set.seed(123)\n",
    "sce = scDblFinder(\n",
    "    SingleCellExperiment(\n",
    "        list(counts=data_mat),\n",
    "    ) \n",
    ")\n",
    "doublet_score = sce$scDblFinder.score\n",
    "doublet_class = sce$scDblFinder.class"
   ]
  },
  {
   "cell_type": "code",
   "execution_count": null,
   "id": "9e1e5dcf-de05-4f5d-bba8-42f570891977",
   "metadata": {},
   "outputs": [],
   "source": [
    "adata.obs[\"scDblFinder_score\"] = doublet_score\n",
    "adata.obs[\"scDblFinder_class\"] = doublet_class\n",
    "adata.obs.scDblFinder_class.value_counts()"
   ]
  },
  {
   "cell_type": "code",
   "execution_count": null,
   "id": "23738db2-50af-40cb-8eb1-2a88f8424d39",
   "metadata": {},
   "outputs": [],
   "source": [
    "# adata.write(\"E-MTAB-6945_quality_control.h5ad\")"
   ]
  },
  {
   "cell_type": "markdown",
   "id": "fe5a24d0-1cfe-4d49-afc1-d5b87e60bbc9",
   "metadata": {},
   "source": [
    "### 3. Normalization"
   ]
  },
  {
   "cell_type": "code",
   "execution_count": null,
   "id": "5c613c33-9a8b-4946-a7d9-522e00934ded",
   "metadata": {},
   "outputs": [],
   "source": [
    "import scanpy as sc\n",
    "import numpy as np\n",
    "import seaborn as sns\n",
    "from matplotlib import pyplot as plt\n",
    "import anndata2ri\n",
    "import logging\n",
    "from scipy.sparse import issparse\n",
    "\n",
    "import rpy2.rinterface_lib.callbacks as rcb\n",
    "import rpy2.robjects as ro\n",
    "\n",
    "sc.settings.verbosity = 0\n",
    "sc.settings.set_figure_params(\n",
    "    dpi=80,\n",
    "    facecolor=\"white\",\n",
    "    # color_map=\"YlGnBu\",\n",
    "    frameon=False,\n",
    ")\n",
    "\n",
    "rcb.logger.setLevel(logging.ERROR)\n",
    "ro.pandas2ri.activate()\n",
    "anndata2ri.activate()\n",
    "\n",
    "%load_ext rpy2.ipython"
   ]
  },
  {
   "cell_type": "code",
   "execution_count": null,
   "id": "8b6efaca-3a5a-4dac-9107-5451383dd940",
   "metadata": {},
   "outputs": [],
   "source": [
    "adata = sc.read(\"E-MTAB-6945_quality_control.h5ad\")\n",
    "adata"
   ]
  },
  {
   "cell_type": "code",
   "execution_count": null,
   "id": "811ed644-83bf-472d-93a7-46f6614b9694",
   "metadata": {},
   "outputs": [],
   "source": [
    "p1 = sns.histplot(adata.obs[\"total_counts\"], bins=100, kde=False)"
   ]
  },
  {
   "cell_type": "markdown",
   "id": "24057a6a-58c9-4a2c-96c2-bb1b6c516427",
   "metadata": {},
   "source": [
    "#### 3.1 Shifted logarithm"
   ]
  },
  {
   "cell_type": "code",
   "execution_count": null,
   "id": "53afdddf-095c-4d39-80f6-d0e1def0061a",
   "metadata": {},
   "outputs": [],
   "source": [
    "scales_counts = sc.pp.normalize_total(adata, target_sum=None, inplace=False)\n",
    "# log1p transform\n",
    "adata.layers[\"log1p_norm\"] = sc.pp.log1p(scales_counts[\"X\"], copy=True)"
   ]
  },
  {
   "cell_type": "code",
   "execution_count": null,
   "id": "1fae84ec-34b3-4a1a-a453-3d2238de18e4",
   "metadata": {},
   "outputs": [],
   "source": [
    "fig, axes = plt.subplots(1, 2, figsize=(10, 5))\n",
    "p1 = sns.histplot(adata.obs[\"total_counts\"], bins=100, kde=False, ax=axes[0])\n",
    "axes[0].set_title(\"Total counts\")\n",
    "p2 = sns.histplot(adata.layers[\"log1p_norm\"].sum(1), bins=100, kde=False, ax=axes[1])\n",
    "axes[1].set_title(\"Shifted logarithm\")\n",
    "plt.show()"
   ]
  },
  {
   "cell_type": "code",
   "execution_count": null,
   "id": "5f2944b1-2a32-4e1d-a193-41136c3100e4",
   "metadata": {},
   "outputs": [],
   "source": [
    "from scipy.sparse import csr_matrix, issparse"
   ]
  },
  {
   "cell_type": "code",
   "execution_count": null,
   "id": "a2ba017e-fe57-42b6-b56f-65c229e0b91e",
   "metadata": {},
   "outputs": [],
   "source": [
    "%%R\n",
    "library(scran)\n",
    "library(BiocParallel)"
   ]
  },
  {
   "cell_type": "code",
   "execution_count": null,
   "id": "6155298b-a318-4167-8f0d-b76343fba742",
   "metadata": {},
   "outputs": [],
   "source": [
    "# Preliminary clustering for differentiated normalisation\n",
    "adata_pp = adata.copy()\n",
    "sc.pp.normalize_total(adata_pp)\n",
    "sc.pp.log1p(adata_pp)\n",
    "sc.pp.pca(adata_pp, n_comps=15)\n",
    "sc.pp.neighbors(adata_pp)\n",
    "sc.tl.leiden(adata_pp, key_added=\"groups\")"
   ]
  },
  {
   "cell_type": "code",
   "execution_count": null,
   "id": "9aac1ba0-54ee-4ba9-aaaf-3f4cb4462103",
   "metadata": {},
   "outputs": [],
   "source": [
    "data_mat = adata_pp.X.T\n",
    "# convert to CSC if possible. See https://github.com/MarioniLab/scran/issues/70\n",
    "if issparse(data_mat):\n",
    "    if data_mat.nnz > 2**31 - 1:\n",
    "        data_mat = data_mat.tocoo()\n",
    "    else:\n",
    "        data_mat = data_mat.tocsc()\n",
    "ro.globalenv[\"data_mat\"] = data_mat\n",
    "ro.globalenv[\"input_groups\"] = adata_pp.obs[\"groups\"]"
   ]
  },
  {
   "cell_type": "code",
   "execution_count": null,
   "id": "213177ec-acd3-4ce8-b269-ca593f893a8a",
   "metadata": {},
   "outputs": [],
   "source": [
    "del adata_pp"
   ]
  },
  {
   "cell_type": "code",
   "execution_count": null,
   "id": "4ae1e56b-b7a2-4c8c-b219-37807a3cc461",
   "metadata": {},
   "outputs": [],
   "source": [
    "%%R -o size_factors\n",
    "\n",
    "size_factors = sizeFactors(\n",
    "    computeSumFactors(\n",
    "        SingleCellExperiment(\n",
    "            list(counts=data_mat)), \n",
    "            clusters = input_groups,\n",
    "            min.mean = 0.1,\n",
    "            BPPARAM = MulticoreParam()\n",
    "    )\n",
    ")"
   ]
  },
  {
   "cell_type": "code",
   "execution_count": null,
   "id": "01a49378-4276-4177-90eb-4367ed0596f8",
   "metadata": {},
   "outputs": [],
   "source": [
    "adata.obs[\"size_factors\"] = size_factors\n",
    "scran = adata.X / adata.obs[\"size_factors\"].values[:, None]\n",
    "adata.layers[\"scran_normalization\"] = csr_matrix(sc.pp.log1p(scran))"
   ]
  },
  {
   "cell_type": "code",
   "execution_count": null,
   "id": "1af28ea8-962c-46a2-b256-dd12b7d9dab3",
   "metadata": {},
   "outputs": [],
   "source": [
    "# adata.write(\"E-MTAB-6945_log1p_normalization.h5ad\")"
   ]
  },
  {
   "cell_type": "code",
   "execution_count": null,
   "id": "27c46387-532f-4b14-910a-5aa613628f9c",
   "metadata": {},
   "outputs": [],
   "source": [
    "fig, axes = plt.subplots(1, 2, figsize=(10, 5))\n",
    "p1 = sns.histplot(adata.obs[\"total_counts\"], bins=100, kde=False, ax=axes[0])\n",
    "axes[0].set_title(\"Total counts\")\n",
    "p2 = sns.histplot(\n",
    "    adata.layers[\"scran_normalization\"].sum(1), bins=100, kde=False, ax=axes[1]\n",
    ")\n",
    "axes[1].set_title(\"log1p with Scran estimated size factors\")\n",
    "plt.show()"
   ]
  },
  {
   "cell_type": "markdown",
   "id": "136feb5a-e382-4a5c-b842-1cf5fbdad0e5",
   "metadata": {},
   "source": [
    "#### 3.2 Analytic Pearson Residuals"
   ]
  },
  {
   "cell_type": "code",
   "execution_count": null,
   "id": "c00abb59-5013-4c12-99f0-5eac164f20e6",
   "metadata": {},
   "outputs": [],
   "source": [
    "# Run without comment below if kernel stops\n",
    "# adata = sc.read(\"E-MTAB-6945_log1p_normalization.h5ad\")"
   ]
  },
  {
   "cell_type": "code",
   "execution_count": null,
   "id": "cee651e9-49a1-4c94-9d3d-fa62ca170be3",
   "metadata": {},
   "outputs": [],
   "source": [
    "analytic_pearson = sc.experimental.pp.normalize_pearson_residuals(adata, inplace=False)\n",
    "adata.layers[\"analytic_pearson_residuals\"] = csr_matrix(analytic_pearson[\"X\"])"
   ]
  },
  {
   "cell_type": "code",
   "execution_count": null,
   "id": "ad488e32-c47d-4aee-b75e-f04fa9dc533d",
   "metadata": {},
   "outputs": [],
   "source": [
    "fig, axes = plt.subplots(1, 2, figsize=(10, 5))\n",
    "p1 = sns.histplot(adata.obs[\"total_counts\"], bins=100, kde=False, ax=axes[0])\n",
    "axes[0].set_title(\"Total counts\")\n",
    "p2 = sns.histplot(\n",
    "    adata.layers[\"analytic_pearson_residuals\"].sum(1), bins=100, kde=False, ax=axes[1]\n",
    ")\n",
    "axes[1].set_title(\"Analytic Pearson residuals\")\n",
    "plt.show()"
   ]
  },
  {
   "cell_type": "code",
   "execution_count": null,
   "id": "17aede63-78d7-4c7f-b11f-35a3e75d79fc",
   "metadata": {},
   "outputs": [],
   "source": [
    "# adata.write(\"E-MTAB-6945_normalization.h5ad\")"
   ]
  },
  {
   "cell_type": "markdown",
   "id": "5b28c86a-2886-47a9-97d1-f3781e11bee2",
   "metadata": {},
   "source": [
    "### 4. Feature Selection"
   ]
  },
  {
   "cell_type": "code",
   "execution_count": null,
   "id": "22f81108-f6ca-4f9d-991e-69a0382ac18a",
   "metadata": {},
   "outputs": [],
   "source": [
    "import scanpy as sc\n",
    "import anndata2ri\n",
    "import logging\n",
    "import matplotlib.pyplot as plt\n",
    "import numpy as np\n",
    "import seaborn as sns\n",
    "\n",
    "import rpy2.rinterface_lib.callbacks as rcb\n",
    "import rpy2.robjects as ro\n",
    "\n",
    "sc.settings.verbosity = 0\n",
    "sc.settings.set_figure_params(\n",
    "    dpi=80,\n",
    "    facecolor=\"white\",\n",
    "    frameon=False,\n",
    ")\n",
    "\n",
    "rcb.logger.setLevel(logging.ERROR)\n",
    "ro.pandas2ri.activate()\n",
    "anndata2ri.activate()\n",
    "\n",
    "%load_ext rpy2.ipython"
   ]
  },
  {
   "cell_type": "code",
   "execution_count": null,
   "id": "a9af4b51-9597-41ea-83b6-aadcf048e06a",
   "metadata": {},
   "outputs": [],
   "source": [
    "%%R\n",
    "library(scry)"
   ]
  },
  {
   "cell_type": "code",
   "execution_count": null,
   "id": "328a329b-67c9-4f77-a1b5-44f9b3c5950e",
   "metadata": {},
   "outputs": [],
   "source": [
    "adata = sc.read(\"E-MTAB-6945_normalization.h5ad\")"
   ]
  },
  {
   "cell_type": "code",
   "execution_count": null,
   "id": "cf74e814-bfbb-41b9-ab6f-e90ff771f26e",
   "metadata": {},
   "outputs": [],
   "source": [
    "ro.globalenv[\"adata\"] = adata"
   ]
  },
  {
   "cell_type": "code",
   "execution_count": null,
   "id": "1ec6941d-4824-41c7-8288-ca1e68152cd3",
   "metadata": {},
   "outputs": [],
   "source": [
    "%%R\n",
    "sce = devianceFeatureSelection(adata, assay=\"X\")"
   ]
  },
  {
   "cell_type": "code",
   "execution_count": null,
   "id": "87ae8162-4008-4d5b-922f-6f60cc452eae",
   "metadata": {},
   "outputs": [],
   "source": [
    "binomial_deviance = ro.r(\"rowData(sce)$binomial_deviance\").T"
   ]
  },
  {
   "cell_type": "code",
   "execution_count": null,
   "id": "6e1a19af-c3e5-4e9c-acf2-82e9f9081bb1",
   "metadata": {},
   "outputs": [],
   "source": [
    "idx = binomial_deviance.argsort()[-4000:]\n",
    "mask = np.zeros(adata.var_names.shape, dtype=bool)\n",
    "mask[idx] = True\n",
    "\n",
    "adata.var[\"highly_deviant\"] = mask\n",
    "adata.var[\"binomial_deviance\"] = binomial_deviance"
   ]
  },
  {
   "cell_type": "code",
   "execution_count": null,
   "id": "85c86716-8b42-4b60-a880-092cbdbdeb7b",
   "metadata": {},
   "outputs": [],
   "source": [
    "sc.pp.highly_variable_genes(adata, layer=\"scran_normalization\")"
   ]
  },
  {
   "cell_type": "code",
   "execution_count": null,
   "id": "a608f2c4-dd4a-44d3-b568-2c8ba5812396",
   "metadata": {},
   "outputs": [],
   "source": [
    "ax = sns.scatterplot(\n",
    "    data=adata.var, x=\"means\", y=\"dispersions\", hue=\"highly_deviant\", s=5\n",
    ")\n",
    "ax.set_xlim(None, 1.5)\n",
    "ax.set_ylim(None, 3)\n",
    "plt.show()"
   ]
  },
  {
   "cell_type": "code",
   "execution_count": null,
   "id": "7b158839-2699-4c35-b960-2fdae8a0408d",
   "metadata": {},
   "outputs": [],
   "source": [
    "# adata.write(\"E-MTAB-6945_feature_selection.h5ad\")"
   ]
  }
 ],
 "metadata": {
  "kernelspec": {
   "display_name": "Python 3 (ipykernel)",
   "language": "python",
   "name": "python3"
  },
  "language_info": {
   "codemirror_mode": {
    "name": "ipython",
    "version": 3
   },
   "file_extension": ".py",
   "mimetype": "text/x-python",
   "name": "python",
   "nbconvert_exporter": "python",
   "pygments_lexer": "ipython3",
   "version": "3.11.4"
  }
 },
 "nbformat": 4,
 "nbformat_minor": 5
}
