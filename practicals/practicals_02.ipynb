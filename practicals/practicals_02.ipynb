{
 "cells": [
  {
   "cell_type": "markdown",
   "id": "b2a03c2c",
   "metadata": {},
   "source": [
    "# Single-cell RNA-seqs analysis using Python  \n",
    "## Practicals 02: Dimensionality reduction, clustering, and annotation"
   ]
  },
  {
   "cell_type": "markdown",
   "id": "7455f290",
   "metadata": {},
   "source": [
    "Adapted from:  \n",
    "Single-cell best practices  \n",
    "www.sc-best-practices.org"
   ]
  },
  {
   "cell_type": "markdown",
   "id": "26135868-9b63-47f1-80da-498926b69bd7",
   "metadata": {},
   "source": [
    "## 1.  Dimensionality Reduction\n",
    "Activate `sc_py_training` with the following before opening this notebook.  \n",
    "```\n",
    "conda activate sc_py_training\n",
    "```"
   ]
  },
  {
   "cell_type": "code",
   "execution_count": null,
   "id": "25cc3949-9b8f-4c1e-a0ec-ca1b6db70fe9",
   "metadata": {},
   "outputs": [],
   "source": [
    "import scanpy as sc\n",
    "\n",
    "sc.settings.verbosity = 0\n",
    "sc.settings.set_figure_params(\n",
    "    dpi=80,\n",
    "    facecolor=\"white\",\n",
    "    frameon=False,\n",
    ")"
   ]
  },
  {
   "cell_type": "code",
   "execution_count": null,
   "id": "4e087539-a363-42bb-bd20-639f92bdf587",
   "metadata": {},
   "outputs": [],
   "source": [
    "adata = sc.read(\n",
    "    filename=\"s4d8_feature_selection.h5ad\",\n",
    "    backup_url=\"https://figshare.com/ndownloader/files/40016014\",\n",
    ")"
   ]
  },
  {
   "cell_type": "code",
   "execution_count": null,
   "id": "5a25399b-6422-486c-a746-31093a9c0e47",
   "metadata": {},
   "outputs": [],
   "source": [
    "adata.X = adata.layers[\"log1p_norm\"]"
   ]
  },
  {
   "cell_type": "markdown",
   "id": "e9f2be0b-70a0-4d63-b576-b627314a69c7",
   "metadata": {},
   "source": [
    "### 2.1 PCA"
   ]
  },
  {
   "cell_type": "code",
   "execution_count": null,
   "id": "4e168fca-6145-4f04-ba5a-97b213d3114a",
   "metadata": {},
   "outputs": [],
   "source": [
    "# setting highly variable as highly deviant to use scanpy 'use_highly_variable' argument in sc.pp.pca\n",
    "adata.var[\"highly_variable\"] = adata.var[\"highly_deviant\"]\n",
    "sc.pp.pca(adata, svd_solver=\"arpack\", use_highly_variable=True)"
   ]
  },
  {
   "cell_type": "code",
   "execution_count": null,
   "id": "6fa131c4-67db-474a-8366-cec18d34ddb0",
   "metadata": {},
   "outputs": [],
   "source": [
    "sc.pl.pca_scatter(adata, color=\"total_counts\")"
   ]
  },
  {
   "cell_type": "markdown",
   "id": "37a3b41d-ed35-458b-bab9-4b6bd0123ed4",
   "metadata": {},
   "source": [
    "## 2.2 t-SNE"
   ]
  },
  {
   "cell_type": "code",
   "execution_count": null,
   "id": "6c7ec2e8-b8fe-4f4f-b453-2225bc8ea072",
   "metadata": {},
   "outputs": [],
   "source": [
    "sc.tl.tsne(adata, use_rep=\"X_pca\")"
   ]
  },
  {
   "cell_type": "code",
   "execution_count": null,
   "id": "cb81d195-db20-4957-85f5-333f92c5e241",
   "metadata": {},
   "outputs": [],
   "source": [
    "sc.pl.tsne(adata, color=\"total_counts\")"
   ]
  },
  {
   "cell_type": "markdown",
   "id": "bf385da1-76b9-4fa6-8251-c0c7d1514d7f",
   "metadata": {},
   "source": [
    "## 2.3 UMAP"
   ]
  },
  {
   "cell_type": "code",
   "execution_count": null,
   "id": "5abb01de-2b94-4560-83cb-48cc7f99582f",
   "metadata": {},
   "outputs": [],
   "source": [
    "sc.pp.neighbors(adata)\n",
    "sc.tl.umap(adata)"
   ]
  },
  {
   "cell_type": "code",
   "execution_count": null,
   "id": "b6fba7e1-d1bb-452a-90ff-fa4fc83b57f5",
   "metadata": {},
   "outputs": [],
   "source": [
    "sc.pl.umap(adata, color=\"total_counts\")"
   ]
  },
  {
   "cell_type": "markdown",
   "id": "9c830f3b-f1b4-4ce4-8732-4090646d1019",
   "metadata": {},
   "source": [
    "#### 5.4 Inspecting quality control metrics "
   ]
  },
  {
   "cell_type": "code",
   "execution_count": null,
   "id": "6bd83c4e-8e35-41e0-8ded-17675f3e71e5",
   "metadata": {},
   "outputs": [],
   "source": [
    "sc.pl.umap(\n",
    "    adata,\n",
    "    color=[\"total_counts\", \"pct_counts_mt\", \"scDblFinder_score\", \"scDblFinder_class\"],\n",
    ")"
   ]
  },
  {
   "cell_type": "code",
   "execution_count": null,
   "id": "73bcb2ef-f42b-44ec-aa73-f6c5fe9bc89f",
   "metadata": {},
   "outputs": [],
   "source": [
    "# adata.write(\"s4d8_dimensionality_reduction.h5ad\")"
   ]
  },
  {
   "cell_type": "code",
   "execution_count": null,
   "id": "842bed20-4531-4105-bc1f-b78c329b47c8",
   "metadata": {},
   "outputs": [],
   "source": [
    "adata"
   ]
  },
  {
   "cell_type": "markdown",
   "id": "0739132e-ba7b-4109-88c5-51111cda4cb9",
   "metadata": {},
   "source": [
    "## 2. Clustering"
   ]
  },
  {
   "cell_type": "code",
   "execution_count": null,
   "id": "a435ee66-7e6d-4ede-8c6b-7b3e1e4f76a6",
   "metadata": {},
   "outputs": [],
   "source": [
    "import scanpy as sc\n",
    "\n",
    "sc.settings.verbosity = 0\n",
    "sc.settings.set_figure_params(dpi=80, facecolor=\"white\", frameon=False)"
   ]
  },
  {
   "cell_type": "code",
   "execution_count": null,
   "id": "80309d37-2ba1-434f-bddd-786f5f2a38d4",
   "metadata": {},
   "outputs": [],
   "source": [
    "# But where is s4d8_subset_gex.h5ad from?\n",
    "adata = sc.read(\"s4d8_subset_gex.h5ad\")"
   ]
  },
  {
   "cell_type": "code",
   "execution_count": null,
   "id": "f80777b6-51fd-4ddc-bb53-654b1f115e0d",
   "metadata": {},
   "outputs": [],
   "source": [
    "adata"
   ]
  },
  {
   "cell_type": "code",
   "execution_count": null,
   "id": "c553dbba-bc9f-468e-bf35-2c9370b16b02",
   "metadata": {},
   "outputs": [],
   "source": [
    "sc.pp.neighbors(adata, n_pcs=30)\n",
    "sc.tl.umap(adata)"
   ]
  },
  {
   "cell_type": "code",
   "execution_count": null,
   "id": "5b2e8ce1-f0f1-4d82-b7b9-eff6c8652622",
   "metadata": {},
   "outputs": [],
   "source": [
    "sc.tl.leiden(adata)"
   ]
  },
  {
   "cell_type": "code",
   "execution_count": null,
   "id": "b25650ad-9979-4d8f-8376-63ec739458b3",
   "metadata": {},
   "outputs": [],
   "source": [
    "sc.tl.leiden(adata, key_added=\"leiden_res0_25\", resolution=0.25)\n",
    "sc.tl.leiden(adata, key_added=\"leiden_res0_5\", resolution=0.5)\n",
    "sc.tl.leiden(adata, key_added=\"leiden_res1\", resolution=1.0)"
   ]
  },
  {
   "cell_type": "code",
   "execution_count": null,
   "id": "8965a471-be4c-43c3-ad19-476129cbcf49",
   "metadata": {},
   "outputs": [],
   "source": [
    "sc.pl.umap(\n",
    "    adata,\n",
    "    color=[\"leiden_res0_25\", \"leiden_res0_5\", \"leiden_res1\"],\n",
    "    legend_loc=\"on data\",\n",
    ")"
   ]
  },
  {
   "cell_type": "markdown",
   "id": "baaeb423-82f9-4119-b069-9374f92d810f",
   "metadata": {},
   "source": [
    "## 3. Annotation"
   ]
  },
  {
   "cell_type": "code",
   "execution_count": null,
   "id": "00d342fe-1a93-4acd-8375-5a210b4d8068",
   "metadata": {},
   "outputs": [],
   "source": [
    "import warnings\n",
    "\n",
    "warnings.filterwarnings(\"ignore\", category=DeprecationWarning)\n",
    "\n",
    "import numba\n",
    "from numba.core.errors import NumbaDeprecationWarning, NumbaPendingDeprecationWarning\n",
    "\n",
    "warnings.simplefilter(\"ignore\", category=NumbaDeprecationWarning)"
   ]
  },
  {
   "cell_type": "code",
   "execution_count": null,
   "id": "4df8fbd2-1779-4ffb-b1c7-89ce44aab222",
   "metadata": {},
   "outputs": [],
   "source": [
    "import scanpy as sc\n",
    "import pandas as pd\n",
    "import numpy as np\n",
    "import os\n",
    "from scipy.sparse import csr_matrix\n",
    "import seaborn as sns\n",
    "import matplotlib.pyplot as plt\n",
    "# import celltypist\n",
    "# from celltypist import models\n",
    "# import scarches as sca\n",
    "# import urllib.request"
   ]
  },
  {
   "cell_type": "code",
   "execution_count": null,
   "id": "9372ff88-e45b-4535-b111-fd28517a4a11",
   "metadata": {},
   "outputs": [],
   "source": [
    "warnings.filterwarnings(\"ignore\", category=pd.errors.PerformanceWarning)"
   ]
  },
  {
   "cell_type": "code",
   "execution_count": null,
   "id": "df03f0ad-1acb-441f-b439-0b9a7570f875",
   "metadata": {},
   "outputs": [],
   "source": [
    "sc.set_figure_params(figsize=(5, 5))"
   ]
  },
  {
   "cell_type": "code",
   "execution_count": null,
   "id": "4b59c7e1-9e10-4e56-b8cb-cddd56272846",
   "metadata": {},
   "outputs": [],
   "source": [
    "adata = sc.read(\n",
    "    filename=\"s4d8_clustered.h5ad\",\n",
    "    backup_url=\"https://figshare.com/ndownloader/files/41436666\",\n",
    ")"
   ]
  },
  {
   "cell_type": "code",
   "execution_count": null,
   "id": "949b5c6d-bb44-4429-ab7c-414c0496d1d3",
   "metadata": {},
   "outputs": [],
   "source": [
    "marker_genes = {\n",
    "    \"CD14+ Mono\": [\"FCN1\", \"CD14\"],\n",
    "    \"CD16+ Mono\": [\"TCF7L2\", \"FCGR3A\", \"LYN\"],\n",
    "    \"ID2-hi myeloid prog\": [\n",
    "        \"CD14\",\n",
    "        \"ID2\",\n",
    "        \"VCAN\",\n",
    "        \"S100A9\",\n",
    "        \"CLEC12A\",\n",
    "        \"KLF4\",\n",
    "        \"PLAUR\",\n",
    "    ],\n",
    "    \"cDC1\": [\"CLEC9A\", \"CADM1\"],\n",
    "    \"cDC2\": [\n",
    "        \"CST3\",\n",
    "        \"COTL1\",\n",
    "        \"LYZ\",\n",
    "        \"DMXL2\",\n",
    "        \"CLEC10A\",\n",
    "        \"FCER1A\",\n",
    "    ],  # Note: DMXL2 should be negative\n",
    "    \"Normoblast\": [\"SLC4A1\", \"SLC25A37\", \"HBB\", \"HBA2\", \"HBA1\", \"TFRC\"],\n",
    "    \"Erythroblast\": [\"MKI67\", \"HBA1\", \"HBB\"],\n",
    "    \"Proerythroblast\": [\n",
    "        \"CDK6\",\n",
    "        \"SYNGR1\",\n",
    "        \"HBM\",\n",
    "        \"GYPA\",\n",
    "    ],  # Note HBM and GYPA are negative markers\n",
    "    \"NK\": [\"GNLY\", \"NKG7\", \"CD247\", \"GRIK4\", \"FCER1G\", \"TYROBP\", \"KLRG1\", \"FCGR3A\"],\n",
    "    \"ILC\": [\"ID2\", \"PLCG2\", \"GNLY\", \"SYNE1\"],\n",
    "    \"Lymph prog\": [\n",
    "        \"VPREB1\",\n",
    "        \"MME\",\n",
    "        \"EBF1\",\n",
    "        \"SSBP2\",\n",
    "        \"BACH2\",\n",
    "        \"CD79B\",\n",
    "        \"IGHM\",\n",
    "        \"PAX5\",\n",
    "        \"PRKCE\",\n",
    "        \"DNTT\",\n",
    "        \"IGLL1\",\n",
    "    ],\n",
    "    \"Naive CD20+ B\": [\"MS4A1\", \"IL4R\", \"IGHD\", \"FCRL1\", \"IGHM\"],\n",
    "    \"B1 B\": [\n",
    "        \"MS4A1\",\n",
    "        \"SSPN\",\n",
    "        \"ITGB1\",\n",
    "        \"EPHA4\",\n",
    "        \"COL4A4\",\n",
    "        \"PRDM1\",\n",
    "        \"IRF4\",\n",
    "        \"CD38\",\n",
    "        \"XBP1\",\n",
    "        \"PAX5\",\n",
    "        \"BCL11A\",\n",
    "        \"BLK\",\n",
    "        \"IGHD\",\n",
    "        \"IGHM\",\n",
    "        \"ZNF215\",\n",
    "    ],  # Note IGHD and IGHM are negative markers\n",
    "    \"Transitional B\": [\"MME\", \"CD38\", \"CD24\", \"ACSM3\", \"MSI2\"],\n",
    "    \"Plasma cells\": [\"MZB1\", \"HSP90B1\", \"FNDC3B\", \"PRDM1\", \"IGKC\", \"JCHAIN\"],\n",
    "    \"Plasmablast\": [\"XBP1\", \"RF4\", \"PRDM1\", \"PAX5\"],  # Note PAX5 is a negative marker\n",
    "    \"CD4+ T activated\": [\"CD4\", \"IL7R\", \"TRBC2\", \"ITGB1\"],\n",
    "    \"CD4+ T naive\": [\"CD4\", \"IL7R\", \"TRBC2\", \"CCR7\"],\n",
    "    \"CD8+ T\": [\"CD8A\", \"CD8B\", \"GZMK\", \"GZMA\", \"CCL5\", \"GZMB\", \"GZMH\", \"GZMA\"],\n",
    "    \"T activation\": [\"CD69\", \"CD38\"],  # CD69 much better marker!\n",
    "    \"T naive\": [\"LEF1\", \"CCR7\", \"TCF7\"],\n",
    "    \"pDC\": [\"GZMB\", \"IL3RA\", \"COBLL1\", \"TCF4\"],\n",
    "    \"G/M prog\": [\"MPO\", \"BCL2\", \"KCNQ5\", \"CSF3R\"],\n",
    "    \"HSC\": [\"NRIP1\", \"MECOM\", \"PROM1\", \"NKAIN2\", \"CD34\"],\n",
    "    \"MK/E prog\": [\n",
    "        \"ZNF385D\",\n",
    "        \"ITGA2B\",\n",
    "        \"RYR3\",\n",
    "        \"PLCB1\",\n",
    "    ],  # Note PLCB1 is a negative marker\n",
    "}"
   ]
  },
  {
   "cell_type": "code",
   "execution_count": null,
   "id": "494640dc-7ce4-4fe3-8cc4-1536174af851",
   "metadata": {},
   "outputs": [],
   "source": [
    "marker_genes_in_data = dict()\n",
    "for ct, markers in marker_genes.items():\n",
    "    markers_found = list()\n",
    "    for marker in markers:\n",
    "        if marker in adata.var.index:\n",
    "            markers_found.append(marker)\n",
    "    marker_genes_in_data[ct] = markers_found"
   ]
  },
  {
   "cell_type": "code",
   "execution_count": null,
   "id": "4f5a30f3-fa00-4d33-81e0-5e4813caa639",
   "metadata": {},
   "outputs": [],
   "source": [
    "adata.layers[\"counts\"] = adata.X\n",
    "adata.X = adata.layers[\"scran_normalization\"]"
   ]
  },
  {
   "cell_type": "code",
   "execution_count": null,
   "id": "37506629-b773-4566-8d40-f59a07c9331d",
   "metadata": {},
   "outputs": [],
   "source": [
    "adata.var[\"highly_variable\"] = adata.var[\"highly_deviant\"]"
   ]
  },
  {
   "cell_type": "code",
   "execution_count": null,
   "id": "f4365d80-94ca-4a39-baa9-5e57d1b3a9f1",
   "metadata": {},
   "outputs": [],
   "source": [
    "sc.tl.pca(adata, n_comps=50, use_highly_variable=True)"
   ]
  },
  {
   "cell_type": "code",
   "execution_count": null,
   "id": "02d4a749-d44a-4515-9ca5-50ec63d7c932",
   "metadata": {},
   "outputs": [],
   "source": [
    "sc.pp.neighbors(adata)"
   ]
  },
  {
   "cell_type": "code",
   "execution_count": null,
   "id": "03a6ab05-b4a1-4fa1-b5ab-948318c90307",
   "metadata": {},
   "outputs": [],
   "source": [
    "sc.tl.umap(adata)"
   ]
  },
  {
   "cell_type": "code",
   "execution_count": null,
   "id": "cb565540-4f9f-4647-823c-661a5a4d15ae",
   "metadata": {},
   "outputs": [],
   "source": [
    "B_plasma_cts = [\n",
    "    \"Naive CD20+ B\",\n",
    "    \"B1 B\",\n",
    "    \"Transitional B\",\n",
    "    \"Plasma cells\",\n",
    "    \"Plasmablast\",\n",
    "]"
   ]
  },
  {
   "cell_type": "code",
   "execution_count": null,
   "id": "f60b5210-0369-4b74-8842-56522ff74158",
   "metadata": {},
   "outputs": [],
   "source": [
    "for ct in B_plasma_cts:\n",
    "    print(f\"{ct.upper()}:\")  # print cell subtype name\n",
    "    sc.pl.umap(\n",
    "        adata,\n",
    "        color=marker_genes_in_data[ct],\n",
    "        vmin=0,\n",
    "        vmax=\"p99\",  # set vmax to the 99th percentile of the gene count instead of the maximum, to prevent outliers from making expression in other cells invisible. Note that this can cause problems for extremely lowly expressed genes.\n",
    "        sort_order=False,  # do not plot highest expression on top, to not get a biased view of the mean expression among cells\n",
    "        frameon=False,\n",
    "        cmap=\"Reds\",  # or choose another color map e.g. from here: https://matplotlib.org/stable/tutorials/colors/colormaps.html\n",
    "    )\n",
    "    print(\"\\n\\n\\n\")  # print white space for legibility"
   ]
  },
  {
   "cell_type": "code",
   "execution_count": null,
   "id": "2642680d-98aa-4cc4-8a1b-ee06b2d450b7",
   "metadata": {},
   "outputs": [],
   "source": [
    "sc.tl.leiden(adata, resolution=1, key_added=\"leiden_1\")"
   ]
  },
  {
   "cell_type": "code",
   "execution_count": null,
   "id": "7476299a-6e6b-4af8-976b-e27ce0135553",
   "metadata": {},
   "outputs": [],
   "source": [
    "sc.pl.umap(adata, color=\"leiden_1\")"
   ]
  },
  {
   "cell_type": "code",
   "execution_count": null,
   "id": "52042f5e-a681-4851-ba16-dd6109984e57",
   "metadata": {},
   "outputs": [],
   "source": [
    "sc.tl.leiden(adata, resolution=2, key_added=\"leiden_2\")"
   ]
  },
  {
   "cell_type": "code",
   "execution_count": null,
   "id": "34ca4208-935f-430e-a377-dc9ff5572e72",
   "metadata": {},
   "outputs": [],
   "source": [
    "sc.pl.umap(adata, color=\"leiden_2\")"
   ]
  },
  {
   "cell_type": "code",
   "execution_count": null,
   "id": "0ad39a2e-654d-4ac2-8785-7d9a54799519",
   "metadata": {},
   "outputs": [],
   "source": [
    "sc.pl.umap(adata, color=\"leiden_2\", legend_loc=\"on data\")"
   ]
  },
  {
   "cell_type": "code",
   "execution_count": null,
   "id": "4d65910d-ba2e-4c23-a640-45a35dfee372",
   "metadata": {},
   "outputs": [],
   "source": [
    "B_plasma_markers = {\n",
    "    ct: [m for m in ct_markers if m in adata.var.index]\n",
    "    for ct, ct_markers in marker_genes.items()\n",
    "    if ct in B_plasma_cts\n",
    "}"
   ]
  },
  {
   "cell_type": "code",
   "execution_count": null,
   "id": "ee73a65d-b971-4541-8dfd-94db684611da",
   "metadata": {},
   "outputs": [],
   "source": [
    "sc.pl.dotplot(\n",
    "    adata,\n",
    "    groupby=\"leiden_2\",\n",
    "    var_names=B_plasma_markers,\n",
    "    standard_scale=\"var\",  # standard scale: normalize each gene to range from 0 to 1\n",
    ")"
   ]
  },
  {
   "cell_type": "code",
   "execution_count": null,
   "id": "9ee741fb-065f-4a00-b2a1-b401f875005c",
   "metadata": {},
   "outputs": [],
   "source": [
    "cl_annotation = {\n",
    "    \"4\": \"Naive CD20+ B\",\n",
    "    \"6\": \"Naive CD20+ B\",\n",
    "    \"8\": \"Transitional B\",\n",
    "    \"18\": \"B1 B\",  # note that IGHD and IGHM are negative markers, in this case more lowly expressed than in the other B cell clusters\n",
    "}"
   ]
  },
  {
   "cell_type": "code",
   "execution_count": null,
   "id": "93c755e9-721d-4251-b502-560e5dbd816a",
   "metadata": {},
   "outputs": [],
   "source": [
    "adata.obs[\"manual_celltype_annotation\"] = adata.obs.leiden_2.map(cl_annotation)"
   ]
  },
  {
   "cell_type": "code",
   "execution_count": null,
   "id": "e9b92d2b-73ec-49d2-bf90-0b134b5e12ce",
   "metadata": {},
   "outputs": [],
   "source": [
    "sc.pl.umap(adata, color=[\"manual_celltype_annotation\"])"
   ]
  },
  {
   "cell_type": "code",
   "execution_count": null,
   "id": "a069aa9e-87d4-417c-b51e-ea7486cdc578",
   "metadata": {},
   "outputs": [],
   "source": [
    "sc.tl.rank_genes_groups(\n",
    "    adata, groupby=\"leiden_2\", method=\"wilcoxon\", key_added=\"dea_leiden_2\"\n",
    ")"
   ]
  },
  {
   "cell_type": "code",
   "execution_count": null,
   "id": "020be76d-0a15-458b-8f10-b43863a1c194",
   "metadata": {},
   "outputs": [],
   "source": [
    "sc.pl.rank_genes_groups_dotplot(\n",
    "    adata, groupby=\"leiden_2\", standard_scale=\"var\", n_genes=5, key=\"dea_leiden_2\"\n",
    ")"
   ]
  },
  {
   "cell_type": "code",
   "execution_count": null,
   "id": "b21439a9-c35b-44fc-b230-19a8e925575c",
   "metadata": {},
   "outputs": [],
   "source": [
    "sc.tl.filter_rank_genes_groups(\n",
    "    adata,\n",
    "    min_in_group_fraction=0.2,\n",
    "    max_out_group_fraction=0.2,\n",
    "    key=\"dea_leiden_2\",\n",
    "    key_added=\"dea_leiden_2_filtered\",\n",
    ")"
   ]
  },
  {
   "cell_type": "code",
   "execution_count": null,
   "id": "1f850973-57ca-4240-8367-4f7aa87c8141",
   "metadata": {},
   "outputs": [],
   "source": [
    "sc.pl.rank_genes_groups_dotplot(\n",
    "    adata,\n",
    "    groupby=\"leiden_2\",\n",
    "    standard_scale=\"var\",\n",
    "    n_genes=5,\n",
    "    key=\"dea_leiden_2_filtered\",\n",
    ")"
   ]
  },
  {
   "cell_type": "code",
   "execution_count": null,
   "id": "63def09b-e9c1-4eb5-8d8c-3241fdc0fab3",
   "metadata": {},
   "outputs": [],
   "source": [
    "sc.pl.umap(\n",
    "    adata,\n",
    "    color=[\"CDK6\", \"ETV6\", \"NKAIN2\", \"GNAQ\", \"leiden_2\"],\n",
    "    vmax=\"p99\",\n",
    "    legend_loc=\"on data\",\n",
    "    frameon=False,\n",
    "    cmap=\"Reds\",\n",
    ")"
   ]
  },
  {
   "cell_type": "code",
   "execution_count": null,
   "id": "cffd6262-e435-4e7c-b891-d6cc680540de",
   "metadata": {
    "scrolled": true
   },
   "outputs": [],
   "source": [
    "sc.pl.umap(\n",
    "    adata,\n",
    "    color=[\n",
    "        \"ZNF385D\",\n",
    "        \"ITGA2B\",\n",
    "        \"RYR3\",\n",
    "        \"PLCB1\",\n",
    "    ],\n",
    "    vmax=\"p99\",\n",
    "    legend_loc=\"on data\",\n",
    "    frameon=False,\n",
    "    cmap=\"Reds\",\n",
    ")"
   ]
  },
  {
   "cell_type": "code",
   "execution_count": null,
   "id": "e95dc0d2-114b-4259-938b-bdb7e2cb61c8",
   "metadata": {},
   "outputs": [],
   "source": [
    "cl_annotation[\"12\"] = \"HSCs + MK/E prog (?)\""
   ]
  },
  {
   "cell_type": "code",
   "execution_count": null,
   "id": "b1b7123c-e1b3-427a-850d-0739bd42163f",
   "metadata": {},
   "outputs": [],
   "source": [
    "adata.obs[\"manual_celltype_annotation\"] = adata.obs.leiden_2.map(cl_annotation)"
   ]
  }
 ],
 "metadata": {
  "kernelspec": {
   "display_name": "Python 3 (ipykernel)",
   "language": "python",
   "name": "python3"
  },
  "language_info": {
   "codemirror_mode": {
    "name": "ipython",
    "version": 3
   },
   "file_extension": ".py",
   "mimetype": "text/x-python",
   "name": "python",
   "nbconvert_exporter": "python",
   "pygments_lexer": "ipython3",
   "version": "3.11.4"
  }
 },
 "nbformat": 4,
 "nbformat_minor": 5
}
