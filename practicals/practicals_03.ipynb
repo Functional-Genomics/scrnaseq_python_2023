{
 "cells": [
  {
   "cell_type": "markdown",
   "id": "b2a03c2c",
   "metadata": {},
   "source": [
    "# Single-cell RNA-seqs analysis using Python  \n",
    "## Practicals 03: Batch correction and data integration"
   ]
  },
  {
   "cell_type": "markdown",
   "id": "7455f290",
   "metadata": {},
   "source": [
    "Adapted from:  \n",
    "Single-cell best practices  \n",
    "www.sc-best-practices.org"
   ]
  },
  {
   "cell_type": "markdown",
   "id": "26135868-9b63-47f1-80da-498926b69bd7",
   "metadata": {},
   "source": [
    "## 1.  Data integration\n",
    "Activate the conda environment `sc_integration` to run this notebook.  \n",
    "```\n",
    "conda activate sc_integration\n",
    "```"
   ]
  },
  {
   "cell_type": "code",
   "execution_count": null,
   "id": "be5d698b-04d4-4962-8c65-9116cc8576d1",
   "metadata": {},
   "outputs": [],
   "source": [
    "# Python packages\n",
    "import scanpy as sc\n",
    "import scvi\n",
    "import bbknn\n",
    "import scib\n",
    "import numpy as np\n",
    "import pandas as pd\n",
    "import matplotlib.pyplot as plt\n",
    "import matplotlib\n",
    "\n",
    "# R interface\n",
    "from rpy2.robjects import pandas2ri\n",
    "from rpy2.robjects import r\n",
    "import rpy2.rinterface_lib.callbacks\n",
    "import anndata2ri\n",
    "\n",
    "pandas2ri.activate()\n",
    "anndata2ri.activate()\n",
    "\n",
    "%load_ext rpy2.ipython"
   ]
  },
  {
   "cell_type": "code",
   "execution_count": null,
   "id": "242e454e-6a01-461e-8ea8-d3a2b90c089e",
   "metadata": {},
   "outputs": [],
   "source": [
    "%%R\n",
    "# R packages\n",
    "library(Seurat)"
   ]
  },
  {
   "cell_type": "code",
   "execution_count": null,
   "id": "c62c42f7-d9f7-473a-bbb3-e8a0b4716097",
   "metadata": {},
   "outputs": [],
   "source": [
    "adata_raw = sc.read_h5ad(\n",
    "    \"openproblems_bmmc_multiome_genes_filtered.h5ad\"\n",
    ")\n",
    "adata_raw.layers[\"logcounts\"] = adata_raw.X\n",
    "adata_raw"
   ]
  },
  {
   "cell_type": "code",
   "execution_count": null,
   "id": "ed468284-f7f4-497b-b838-0528a70ee055",
   "metadata": {},
   "outputs": [],
   "source": [
    "label_key = \"cell_type\"\n",
    "batch_key = \"batch\""
   ]
  },
  {
   "cell_type": "code",
   "execution_count": null,
   "id": "87b1e2ef-a7db-40ba-93fe-2ff877aace11",
   "metadata": {},
   "outputs": [],
   "source": [
    "adata_raw.obs[batch_key].value_counts()"
   ]
  },
  {
   "cell_type": "code",
   "execution_count": null,
   "id": "9dc51633-737e-42c6-b14a-38051529ceec",
   "metadata": {},
   "outputs": [],
   "source": [
    "keep_batches = [\"s1d3\", \"s2d1\", \"s3d7\"]\n",
    "adata = adata_raw[adata_raw.obs[batch_key].isin(keep_batches)].copy()\n",
    "adata"
   ]
  },
  {
   "cell_type": "code",
   "execution_count": null,
   "id": "62155e53-8e8b-4339-8eb5-8254a19612c4",
   "metadata": {},
   "outputs": [],
   "source": [
    "adata.var[\"feature_types\"].value_counts()"
   ]
  },
  {
   "cell_type": "code",
   "execution_count": null,
   "id": "aefc3d18-e937-4cfa-91fc-aad5bb7b69e2",
   "metadata": {},
   "outputs": [],
   "source": [
    "adata = adata[:, adata.var[\"feature_types\"] == \"GEX\"].copy()\n",
    "sc.pp.filter_genes(adata, min_cells=1)\n",
    "adata"
   ]
  },
  {
   "cell_type": "code",
   "execution_count": null,
   "id": "6defb293-0fe4-4d1b-a0a5-96387fbf18b5",
   "metadata": {},
   "outputs": [],
   "source": []
  },
  {
   "cell_type": "code",
   "execution_count": null,
   "id": "c950ecad-e3d9-4912-80b8-647dc59aba70",
   "metadata": {},
   "outputs": [],
   "source": []
  },
  {
   "cell_type": "code",
   "execution_count": null,
   "id": "80a0f6a3-df95-46b3-ae4b-a878d553b920",
   "metadata": {},
   "outputs": [],
   "source": []
  },
  {
   "cell_type": "code",
   "execution_count": null,
   "id": "c73ab190-c2df-4668-ac09-df9fe3a657d8",
   "metadata": {},
   "outputs": [],
   "source": []
  }
 ],
 "metadata": {
  "kernelspec": {
   "display_name": "Python 3 (ipykernel)",
   "language": "python",
   "name": "python3"
  },
  "language_info": {
   "codemirror_mode": {
    "name": "ipython",
    "version": 3
   },
   "file_extension": ".py",
   "mimetype": "text/x-python",
   "name": "python",
   "nbconvert_exporter": "python",
   "pygments_lexer": "ipython3",
   "version": "3.11.4"
  }
 },
 "nbformat": 4,
 "nbformat_minor": 5
}
