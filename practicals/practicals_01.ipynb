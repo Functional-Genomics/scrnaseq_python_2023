{
 "cells": [
  {
   "cell_type": "markdown",
   "id": "b2a03c2c",
   "metadata": {},
   "source": [
    "# Single-cell RNA-seqs analysis using Python  \n",
    "## Practicals 01: Raw reads to expression matrix"
   ]
  },
  {
   "cell_type": "markdown",
   "id": "7455f290",
   "metadata": {},
   "source": [
    "Adapted from:  \n",
    "Single-cell best practices  \n",
    "www.sc-best-practices.org"
   ]
  },
  {
   "cell_type": "markdown",
   "id": "f21bca12",
   "metadata": {},
   "source": [
    "## 1. Raw data processing\n",
    "The commands in this section are supposed to be exectued in a command-line shell terminal.  Lines that begin with a hash/pound sign are comment lines, and not meant to be run.  \n",
    "\n",
    "Needs conda env `af`. "
   ]
  },
  {
   "cell_type": "markdown",
   "id": "0ce4d4fb",
   "metadata": {},
   "source": [
    "### 1.1 Prepare the environment  \n",
    "The environment should already have everything we need, but below is how you set up the tools.  You should have conda installed (via anaconda, miniconda, or mamba)."
   ]
  },
  {
   "cell_type": "markdown",
   "id": "743ba8c0",
   "metadata": {},
   "source": [
    "```\n",
    "# For a LINUX machine\n",
    "conda create -n af -y -c bioconda simpleaf\n",
    "conda activate af\n",
    "```"
   ]
  },
  {
   "cell_type": "markdown",
   "id": "195df0d2",
   "metadata": {},
   "source": [
    "```\n",
    "# For Apple silicon-based machine\n",
    "CONDA_SUBDIR=osx-64 conda create -n af -y -c bioconda simpleaf   # create a new environment\n",
    "conda activate af\n",
    "conda env config vars set CONDA_SUBDIR=osx-64  # subsequent commands use intel packages\n",
    "\n",
    "# To make your changes take effect please reactivate your environment\n",
    "conda deactivate\n",
    "conda activate af\n",
    "```"
   ]
  },
  {
   "cell_type": "markdown",
   "id": "e3af1230",
   "metadata": {},
   "source": [
    "*Dev note: Make this work, or remove `pyroe`*   \n",
    "```\n",
    "# It seems that pyroe is no longer a part of simpleaf, and should be installed separately.\n",
    "# While inside the activated env, install pyroe via conda.\n",
    "conda install -c bioconda pyroe\n",
    "# Not yet sure if this will work becuase env solving seems to take a while and just doesn't complete\n",
    "```"
   ]
  },
  {
   "cell_type": "markdown",
   "id": "2807fc4a",
   "metadata": {},
   "source": [
    "### 1.2 Get the data  \n",
    "The data for this training are already provided."
   ]
  },
  {
   "cell_type": "markdown",
   "id": "99bc5a2b",
   "metadata": {},
   "source": [
    "```\n",
    "# Create a working dir and go to the working directory\n",
    "## The && operator helps execute two commands using a single line of code.\n",
    "mkdir af_xmpl_run && cd af_xmpl_run\n",
    "\n",
    "# Fetch the example dataset and CB permit list and decompress them\n",
    "## The pipe operator (|) passes the output of the wget command to the tar command.\n",
    "## The dash operator (-) after `tar xzf` captures the output of the first command.\n",
    "## - example dataset\n",
    "wget -qO- https://umd.box.com/shared/static/lx2xownlrhz3us8496tyu9c4dgade814.gz | tar xzf - --strip-components=1 -C .\n",
    "## The fetched folder containing the fastq files are called toy_read_fastq.\n",
    "fastq_dir=\"toy_read_fastq\"\n",
    "## The fetched folder containing the human ref files is called toy_human_ref.\n",
    "ref_dir=\"toy_human_ref\"\n",
    "\n",
    "# Fetch CB permit list\n",
    "## the right chevron (>) redirects the STDOUT to a file.\n",
    "wget -qO- https://raw.githubusercontent.com/10XGenomics/cellranger/master/lib/python/cellranger/barcodes/3M-february-2018.txt.gz | gunzip - > 3M-february-2018.txt\n",
    "```"
   ]
  },
  {
   "cell_type": "markdown",
   "id": "80c30645",
   "metadata": {},
   "source": [
    "### 1.3 Generate a single-cell matrix with `simpleaf`\n",
    "*Dev note: Test as is, recommend the Galaxy training here for a more detailed hands-on:*  \n",
    "https://training.galaxyproject.org/training-material/topics/single-cell/tutorials/scrna-case_alevin/tutorial.html"
   ]
  },
  {
   "cell_type": "markdown",
   "id": "f439e5b6",
   "metadata": {},
   "source": [
    "```\n",
    "# simpleaf needs the environment variable ALEVIN_FRY_HOME to store configuration and data.\n",
    "# For example, the paths to the underlying programs it uses and the CB permit list\n",
    "mkdir alevin_fry_home & export ALEVIN_FRY_HOME='alevin_fry_home'\n",
    "\n",
    "# the simpleaf set-paths command finds the path to the required tools and write a configuration JSON file in the ALEVIN_FRY_HOME folder.\n",
    "simpleaf set-paths\n",
    "\n",
    "# simpleaf index\n",
    "# Usage: simpleaf index -o out_dir [-f genome_fasta -g gene_annotation_GTF|--refseq transcriptome_fasta] -r read_length -t number_of_threads\n",
    "## The -r read_lengh is the number of sequencing cycles performed by the sequencer to generate biological reads (read2 in Illumina).\n",
    "## Publicly available datasets usually have the read length in the description. Sometimes they are called the number of cycles.\n",
    "simpleaf index \\\n",
    "-o simpleaf_index \\\n",
    "-f toy_human_ref/fasta/genome.fa \\\n",
    "-g toy_human_ref/genes/genes.gtf \\\n",
    "-r 90 \\\n",
    "-t 8\n",
    "```"
   ]
  },
  {
   "cell_type": "markdown",
   "id": "d0d753ce",
   "metadata": {},
   "source": [
    "Above `simpleaf index` command should run for a few seconds.  \n",
    "Standard output is something like below.  \n",
    "\n",
    "```\n",
    "2023-08-10T07:25:52.640381Z  INFO simpleaf::simpleaf_commands::indexing: preparing to make reference with roers\n",
    "2023-08-10T07:25:52.647140Z  INFO grangers::reader::gtf: Finished parsing the input file. Found 3 comments and 2439 records.\n",
    "2023-08-10T07:25:52.647874Z  INFO roers: Built the Grangers object for 2439 records\n",
    "2023-08-10T07:25:52.652823Z  WARN grangers::grangers_info: The exon_number column contains null values. Will compute the exon number from exon start position .\n",
    "2023-08-10T07:25:52.656748Z  INFO roers: Proceed 2148 exon records from 271 transcripts\n",
    "2023-08-10T07:25:52.850408Z  INFO roers: Processing 1877 intronic records\n",
    "2023-08-10T07:25:53.088741Z  INFO roers: Done!\n",
    "2023-08-10T07:25:53.088977Z  INFO simpleaf::simpleaf_commands::indexing: salmon index cmd : /opt/anaconda3/envs/af/bin/salmon index -k 31 -i simpleaf_index/index -t simpleaf_index/ref/roers_ref.fa --threads 8\n",
    "2023-08-10T07:25:54.089091Z  INFO simpleaf::utils::prog_utils: command returned successfully (exit status: 0)\n",
    "```"
   ]
  },
  {
   "cell_type": "markdown",
   "id": "16d05340",
   "metadata": {},
   "source": [
    "```\n",
    "# Collecting sequencing read files\n",
    "## The reads1 and reads2 variables are defined by finding the filenames with the pattern \"_R1_\" and \"_R2_\" from the toy_read_fastq directory.\n",
    "reads1_pat=\"_R1_\"\n",
    "reads2_pat=\"_R2_\"\n",
    "\n",
    "## The read files must be sorted and separated by a comma.\n",
    "### The find command finds the files in the fastq_dir with the name pattern\n",
    "### The sort command sorts the file names\n",
    "### The awk command and the paste command together convert the file names into a comma-separated string.\n",
    "reads1=\"$(find -L ${fastq_dir} -name \"*$reads1_pat*\" -type f | sort | awk -v OFS=, '{$1=$1;print}' | paste -sd,)\"\n",
    "reads2=\"$(find -L ${fastq_dir} -name \"*$reads2_pat*\" -type f | sort | awk -v OFS=, '{$1=$1;print}' | paste -sd,)\"\n",
    "### If above doesn't work, try below (- was added in the paste command, possibly needed for macOSX non-GNU paste)\n",
    "reads1=\"$(find -L ${fastq_dir} -name \"*$reads1_pat*\" -type f | sort | awk -v OFS=, '{$1=$1;print}' | paste -sd, -)\"\n",
    "reads2=\"$(find -L ${fastq_dir} -name \"*$reads2_pat*\" -type f | sort | awk -v OFS=, '{$1=$1;print}' | paste -sd, -)\"\n",
    "\n",
    "# simpleaf quant\n",
    "## Usage: simpleaf quant -c chemistry -t threads -1 reads1 -2 reads2 -i index -u [unspliced permit list] -r resolution -m t2g_3col -o output_dir\n",
    "simpleaf quant \\\n",
    "-c 10xv3 -t 8 \\\n",
    "-1 $reads1 -2 $reads2 \\\n",
    "-i simpleaf_index/index \\\n",
    "-u -r cr-like \\\n",
    "-m simpleaf_index/index/t2g_3col.tsv \\\n",
    "-o simpleaf_quant\n",
    "```"
   ]
  },
  {
   "cell_type": "markdown",
   "id": "e97fbb86",
   "metadata": {},
   "source": [
    "Above `simpleaf quant` command should take a few seconds to run.  \n",
    "Standard output is something like below.\n",
    "\n",
    "```\n",
    "2023-08-10T08:52:33.893470Z  INFO simpleaf::simpleaf_commands::quant: salmon alevin cmd : /opt/anaconda3/envs/af/bin/salmon alevin --index simpleaf_index/index -l A -1 toy_read_fastq/selected_R1_reads.fastq -2 toy_read_fastq/selected_R2_reads.fastq --chromiumV3 --threads 8 -o simpleaf_quant/af_map --sketch\n",
    "2023-08-10T08:52:35.061947Z  INFO simpleaf::utils::prog_utils: command returned successfully (exit status: 0)\n",
    "2023-08-10T08:52:35.062094Z  INFO simpleaf::simpleaf_commands::quant: alevin-fry generate-permit-list cmd : /opt/anaconda3/envs/af/bin/alevin-fry generate-permit-list -i simpleaf_quant/af_map -d fw --unfiltered-pl alevin_fry_home/plist/10x_v3_permit.txt --min-reads 10 -o simpleaf_quant/af_quant\n",
    "2023-08-10T08:52:37.178490Z  INFO simpleaf::utils::prog_utils: command returned successfully (exit status: 0)\n",
    "2023-08-10T08:52:37.178539Z  INFO simpleaf::simpleaf_commands::quant: alevin-fry collate cmd : /opt/anaconda3/envs/af/bin/alevin-fry collate -i simpleaf_quant/af_quant -r simpleaf_quant/af_map -t 8\n",
    "2023-08-10T08:52:37.196041Z  INFO simpleaf::utils::prog_utils: command returned successfully (exit status: 0)\n",
    "2023-08-10T08:52:37.196077Z  INFO simpleaf::simpleaf_commands::quant: cmd : \"/opt/anaconda3/envs/af/bin/alevin-fry\" \"quant\" \"-i\" \"simpleaf_quant/af_quant\" \"-o\" \"simpleaf_quant/af_quant\" \"-t\" \"8\" \"-m\" \"simpleaf_index/index/t2g_3col.tsv\" \"-r\" \"cr-like\"\n",
    "2023-08-10T08:52:37.213916Z  INFO simpleaf::utils::prog_utils: command returned successfully (exit status: 0)\n",
    "```"
   ]
  },
  {
   "cell_type": "markdown",
   "id": "3837cf96",
   "metadata": {},
   "source": [
    "View the resulting files. Commands are preceded by `$` (the dollar sign should not be copied), and results are shown right below the commands.\n",
    "\n",
    "```\n",
    "# Each line in `quants_mat.mtx` represents\n",
    "# a non-zero entry in the format row column entry\n",
    "# values you see may be different\n",
    "$ tail -3 simpleaf_quant/af_quant/alevin/quants_mat.mtx\n",
    "138 58 1\n",
    "139 9 1\n",
    "139 37 1\n",
    "\n",
    "# Each line in `quants_mat_cols.txt` is a splice status\n",
    "# of a gene in the format (gene name)-(splice status)\n",
    "# values you see may be different\n",
    "$ tail -3 simpleaf_quant/af_quant/alevin/quants_mat_cols.txt\n",
    "ENSG00000120705-A\n",
    "ENSG00000198961-A\n",
    "ENSG00000245526-A\n",
    "\n",
    "# Each line in `quants_mat_rows.txt` is a corrected\n",
    "# (and, potentially, filtered) cell barcode\n",
    "# values you see may be different\n",
    "$ tail -3 simpleaf_quant/af_quant/alevin/quants_mat_rows.txt\n",
    "TTCGATTTCTGAATCG\n",
    "TGCTCGTGTTCGAAGG\n",
    "ACTGTGAAGAAATTGC\n",
    "```"
   ]
  },
  {
   "cell_type": "markdown",
   "id": "068b4a06",
   "metadata": {},
   "source": [
    "*Dev note: Check if this is necessary. If not and pyroe cannot be installed, scrap below*"
   ]
  },
  {
   "cell_type": "code",
   "execution_count": null,
   "id": "c1b769f6",
   "metadata": {},
   "outputs": [],
   "source": [
    "# import pyroe\n",
    "\n",
    "# quant_dir = 'simpleaf_quant/af_quant'\n",
    "# adata_sa = pyroe.load_fry(quant_dir)"
   ]
  },
  {
   "cell_type": "code",
   "execution_count": null,
   "id": "f258c048",
   "metadata": {},
   "outputs": [],
   "source": [
    "# import pyroe\n",
    "\n",
    "# quant_dir = 'simpleaf_quant/af_quant'\n",
    "# adata_usa = pyroe.load_fry(quant_dir, output_format={'X' : ['U','S','A']})"
   ]
  },
  {
   "cell_type": "markdown",
   "id": "fdde8664",
   "metadata": {},
   "source": [
    "### 1.4 Generate a single-cell matrix with the `alevin-fry` pipeline"
   ]
  },
  {
   "cell_type": "markdown",
   "id": "a0f4304b",
   "metadata": {},
   "source": [
    "#### 1.4.1 Using the SC book method"
   ]
  },
  {
   "cell_type": "markdown",
   "id": "28a2dfeb",
   "metadata": {},
   "source": [
    "Build the reference index"
   ]
  },
  {
   "cell_type": "markdown",
   "id": "58913a96",
   "metadata": {},
   "source": [
    "```\n",
    "# make splici reference\n",
    "## Usage: pyroe make-splici genome_file gtf_file read_length out_dir\n",
    "## The read_length is the number of sequencing cycles performed by the sequencer. Ask your technician if you are not sure about it.\n",
    "## Publicly available datasets usually have the read length in the description.\n",
    "pyroe make-splici \\\n",
    "${ref_dir}/fasta/genome.fa \\\n",
    "${ref_dir}/genes/genes.gtf \\\n",
    "90 \\\n",
    "splici_rl90_ref\n",
    "\n",
    "# Index the reference\n",
    "## Usage: salmon index -t extend_txome.fa -i idx_out_dir -p num_threads\n",
    "## The $() expression runs the command inside and puts the output in place.\n",
    "## Please ensure that only one file ends with \".fa\" in the `splici_ref` folder.\n",
    "salmon index \\\n",
    "-t $(ls splici_rl90_ref/*\\.fa) \\\n",
    "-i salmon_index \\\n",
    "-p 8\n",
    "```"
   ]
  },
  {
   "cell_type": "markdown",
   "id": "dbd05762",
   "metadata": {},
   "source": [
    "Above commands should take seconds each to run.  \n",
    "To execute commands, had to switch between different conda envs because `pyroe` doesn't get installed with `simpleaf` via conda."
   ]
  },
  {
   "cell_type": "markdown",
   "id": "2fb631e0",
   "metadata": {},
   "source": [
    "Mapping and quantification"
   ]
  },
  {
   "cell_type": "markdown",
   "id": "c5cc2f90",
   "metadata": {},
   "source": [
    "```\n",
    "# Collect FASTQ files\n",
    "## The filenames are sorted and separated by space.\n",
    "reads1=\"$(find -L $fastq_dir -name \"*$reads1_pat*\" -type f | sort | awk '{$1=$1;print}' | paste -sd' ')\"\n",
    "reads2=\"$(find -L $fastq_dir -name \"*$reads2_pat*\" -type f | sort | awk '{$1=$1;print}' | paste -sd' ')\"\n",
    "## Non-GNU paste (OSX)\n",
    "reads1=\"$(find -L $fastq_dir -name \"*$reads1_pat*\" -type f | sort | awk '{$1=$1;print}' | paste -sd' ' -)\"\n",
    "reads2=\"$(find -L $fastq_dir -name \"*$reads2_pat*\" -type f | sort | awk '{$1=$1;print}' | paste -sd' ' -)\"\n",
    "\n",
    "# Mapping\n",
    "## Usage: salmon alevin -i index_dir -l library_type -1 reads1_files -2 reads2_files -p num_threads -o output_dir\n",
    "## The variable reads1 and reads2 defined above are passed in using ${}.\n",
    "salmon alevin \\\n",
    "-i salmon_index \\\n",
    "-l ISR \\\n",
    "-1 ${reads1} \\\n",
    "-2 ${reads2} \\\n",
    "-p 8 \\\n",
    "-o salmon_alevin \\\n",
    "--chromiumV3 \\\n",
    "--sketch\n",
    "```"
   ]
  },
  {
   "cell_type": "markdown",
   "id": "4820295f",
   "metadata": {},
   "source": [
    "```\n",
    "# Cell barcode correction\n",
    "## Usage: alevin-fry generate-permit-list -u CB_permit_list -d expected_orientation -o gpl_out_dir\n",
    "## Here, the reads that map to the reverse complement strand of transcripts are filtered out by specifying `-d fw`.\n",
    "alevin-fry generate-permit-list \\\n",
    "-u 3M-february-2018.txt \\\n",
    "-d fw \\\n",
    "-i salmon_alevin \\\n",
    "-o alevin_fry_gpl\n",
    "```"
   ]
  },
  {
   "cell_type": "markdown",
   "id": "d20dd4bd",
   "metadata": {},
   "source": [
    "Output of generating permit list\n",
    "\n",
    "```\n",
    "2023-08-11 10:55:18 INFO number of unfiltered bcs read = 6,794,880\n",
    "2023-08-11 10:55:18 INFO paired : false, ref_count : 337, num_chunks : 7\n",
    "2023-08-11 10:55:18 INFO read 2 file-level tags\n",
    "2023-08-11 10:55:18 INFO read 2 read-level tags\n",
    "2023-08-11 10:55:18 INFO read 1 alignemnt-level tags\n",
    "2023-08-11 10:55:18 INFO File-level tag values FileTags { bclen: 16, umilen: 12 }\n",
    "2023-08-11 10:55:18 INFO observed 33,206 reads (18,985 orientation consistent) in 7 chunks --- max ambiguity read occurs in 24 refs\n",
    "2023-08-11 10:55:18 INFO minimum num reads for barcode pass = 10\n",
    "2023-08-11 10:55:18 INFO num_passing = 139\n",
    "2023-08-11 10:55:18 INFO found 139 cells with non-trivial number of reads by exact barcode match\n",
    "2023-08-11 10:55:18 INFO There were 893 distinct unmatched barcodes, and 151 that can be recovered\n",
    "2023-08-11 10:55:18 INFO Matching unmatched barcodes to retained barcodes took 175.209µs\n",
    "2023-08-11 10:55:18 INFO Of the unmatched barcodes\n",
    "============\n",
    "2023-08-11 10:55:18 INFO \t195 had exactly 1 single-edit neighbor in the retained list\n",
    "2023-08-11 10:55:18 INFO \t49 had >1 single-edit neighbor in the retained list\n",
    "2023-08-11 10:55:18 INFO \t1,586 had no neighbor in the retained list\n",
    "2023-08-11 10:55:18 INFO total number of distinct corrected barcodes : 151\n",
    "```"
   ]
  },
  {
   "cell_type": "markdown",
   "id": "1e698698",
   "metadata": {},
   "source": [
    "```\n",
    "# Filter mapping information\n",
    "## Usage: alevin-fry collate -i gpl_out_dir -r alevin_map_dir -t num_threads\n",
    "alevin-fry collate \\\n",
    "-i alevin_fry_gpl \\\n",
    "-r salmon_alevin \\\n",
    "-t 8\n",
    "```"
   ]
  },
  {
   "cell_type": "markdown",
   "id": "3ef355dc",
   "metadata": {},
   "source": [
    "Output for filter mapping:  \n",
    "\n",
    "```\n",
    "2023-08-11 10:56:58 INFO filter_type = Unfiltered\n",
    "2023-08-11 10:56:58 INFO collated rad file will not be compressed\n",
    "2023-08-11 10:56:58 INFO paired : false, ref_count : 337, num_chunks : 7, expected_ori : Forward\n",
    "2023-08-11 10:56:58 INFO read 2 file-level tags\n",
    "2023-08-11 10:56:58 INFO read 2 read-level tags\n",
    "2023-08-11 10:56:58 INFO read 1 alignemnt-level tags\n",
    "2023-08-11 10:56:58 INFO File-level tag values FileTags { bclen: 16, umilen: 12 }\n",
    "2023-08-11 10:56:58 INFO deserialized correction map of length : 290\n",
    "2023-08-11 10:56:58 INFO Generated 1 temporary buckets.\n",
    "  [00:00:00] [╢╢╢╢╢╢╢╢╢╢╢╢╢╢╢╢╢╢╢╢╢╢╢╢╢╢╢╢╢╢╢╢╢╢╢╢╢╢╢╢]       7/7       partitioned records into temporary files.                                                                                                       [00:00:00] [╢╢╢╢╢╢╢╢╢╢╢╢╢╢╢╢╢╢╢╢╢╢╢╢╢╢╢╢╢╢╢╢╢╢╢╢╢╢╢╢]       1/1       gathered all temp files.                                                                                                                      2023-08-11 10:56:58 INFO writing num output chunks (139) to header\n",
    "2023-08-11 10:56:58 INFO expected number of output chunks 139\n",
    "2023-08-11 10:56:58 INFO finished collating input rad file \"salmon_alevin/map.rad\".\n",
    "```"
   ]
  },
  {
   "cell_type": "markdown",
   "id": "5f6cd4e5",
   "metadata": {},
   "source": [
    "```\n",
    "# UMI resolution + quantification\n",
    "## Usage: alevin-fry quant -r resolution -m txp_to_gene_mapping -i gpl_out_dir -o quant_out_dir -t num_threads\n",
    "## The file ends with `3col.tsv` in the splici_ref folder will be passed to the -m argument.\n",
    "## Please ensure that there is only one such file in the `splici_ref` folder.\n",
    "alevin-fry quant -r cr-like \\\n",
    "-m $(ls splici_rl90_ref/*3col.tsv) \\\n",
    "-i alevin_fry_gpl \\\n",
    "-o alevin_fry_quant \\\n",
    "-t 8\n",
    "```"
   ]
  },
  {
   "cell_type": "markdown",
   "id": "c78981b3",
   "metadata": {},
   "source": [
    "Output of above command:  \n",
    "\n",
    "```\n",
    "2023-08-11 10:57:48 INFO quantifying from uncompressed, collated RAD file File { fd: 4, path: \"/Users/irisyu/Library/CloudStorage/GoogleDrive-irisyu@ebi.ac.uk/My Drive/Notes/Notebooks/trainings/scrnaseq_python_2023/af_xmpl_run/alevin_fry_gpl/map.collated.rad\", read: true, write: false }\n",
    "2023-08-11 10:57:48 INFO paired : false, ref_count : 337, num_chunks : 139\n",
    "2023-08-11 10:57:48 INFO tg-map contained 20 genes mapping to 337 transcripts.\n",
    "2023-08-11 10:57:48 INFO read 2 file-level tags\n",
    "2023-08-11 10:57:48 INFO read 2 read-level tags\n",
    "2023-08-11 10:57:48 INFO read 1 alignemnt-level tags\n",
    "2023-08-11 10:57:48 INFO File-level tag values FileTags { bclen: 16, umilen: 12 }\n",
    "  [00:00:00] [╢╢╢╢╢╢╢╢╢╢╢╢╢╢╢╢╢╢╢╢╢╢╢╢╢╢╢╢╢╢╢╢╢╢╢╢╢╢╢╢]     139/139     finished quantifying 139 cells.                                                                                                               2023-08-11 10:57:48 INFO processed 17,350 total read records\n",
    "```"
   ]
  },
  {
   "cell_type": "markdown",
   "id": "b58e6de1",
   "metadata": {},
   "source": [
    "#### 1.4.2 Using the Atlas pipeline  \n",
    "Try and replicate the Atlas pipeline here. Below are the references:  \n",
    "[Tutorial](https://training.galaxyproject.org/training-material/topics/single-cell/tutorials/scrna-case_alevin/tutorial.html)  \n",
    "[Galaxy workflow](https://humancellatlas.usegalaxy.eu/published/workflow?id=bd7bd54eaf932585)"
   ]
  },
  {
   "cell_type": "markdown",
   "id": "b2631f65-37ff-42f2-b9da-4a036abef239",
   "metadata": {},
   "source": [
    "#### Convert from mtx to 10x  \n",
    "Below is a script that also uses pyroe, with USA mode  (use conda env `pyroe` or `parse_alevin_fry` in codon to run).\n",
    "In codon, the script is copied to `/homes/irisyu/training/scrnaseq_python_2023/bin` (add to PATH).\n",
    "\n",
    "export PATH=/homes/irisyu/training/scrnaseq_python_2023/bin:$PATH\n",
    "\n",
    "```\n",
    "(pyroe) % alevinFryMtxTo10x.py alevin_fry_quant alevin_fry_parsed single_cell \n",
    "USA mode: True\n",
    "Using pre-defined output format: scrna\n",
    "Will populate output field X with sum of counts frorm ['S', 'A'].\n",
    "Will combine ['U'] into output layer unspliced.\n",
    "```"
   ]
  },
  {
   "cell_type": "markdown",
   "id": "274ea75d-b1fa-470b-abc1-93bd2b3d13d4",
   "metadata": {},
   "source": [
    "#### Remove empty drops  \n",
    "\n",
    "Below, use conda env with `bioconductor-dropletutils` and `dropletutils-scripts`.  In codon, the scripts `/nfs/production/irene/ma/fg_atlas_sc/nextflow_scxa_test/envs/dropletutils-a2f6101409ff7f11d8d66c59f1f32ead/bin/dropletutils-*.R` are copied to `/homes/irisyu/training/scrnaseq_python_2023/bin` (add to PATH).  The scripts should also be in the dropletutils-scripts env bin.  \n",
    "\n",
    "```\n",
    "(dropletutils)[fg_atlas@hl-codon-101-03 af_xmpl_run]$ dropletutils-read-10x-counts.R -s alevin_fry_parsed -c TRUE -o alevin_fry_parsed/matrix.rds\n",
    "...\n",
    "# Object summary\n",
    "class: SingleCellExperiment\n",
    "dim: 20 139\n",
    "metadata(0):\n",
    "assays(1): counts\n",
    "rownames(20): ENSG00000131507 ENSG00000131508 ... ENSG00000198961                                        \n",
    "  ENSG00000245526\n",
    "rowData names(2): ID Symbol\n",
    "colnames(139): ACTTTCAAGATCACCT GTGGAGACAATTAGGA ... TGCTCGTGTTCGAAGG                                    \n",
    "  ACTGTGAAGAAATTGC\n",
    "colData names(2): Sample Barcode\n",
    "reducedDimNames(0):\n",
    "spikeNames(0):\n",
    "\n",
    "# Metadata sample\n",
    "DataFrame with 6 rows and 2 columns\n",
    "                            Sample          Barcode\n",
    "                       <character>      <character>\n",
    "ACTTTCAAGATCACCT alevin_fry_parsed ACTTTCAAGATCACCT\n",
    "GTGGAGACAATTAGGA alevin_fry_parsed GTGGAGACAATTAGGA\n",
    "GTGTGGCGTAGTGTGG alevin_fry_parsed GTGTGGCGTAGTGTGG\n",
    "GTGGAGATCTTCCTAA alevin_fry_parsed GTGGAGATCTTCCTAA\n",
    "TTACAGGAGCTCTGTA alevin_fry_parsed TTACAGGAGCTCTGTA\n",
    "AGACACTTCGACGCGT alevin_fry_parsed AGACACTTCGACGCGT\n",
    "\n",
    "\n",
    "(dropletutils)[fg_atlas@hl-codon-101-03 af_xmpl_run]$ dropletutils-empty-drops.R -i alevin_fry_parsed/matrix.rds --lower 5 --niters 1000 --filter-empty TRUE --filter-fdr 0.01 -o empty_drops/nonempty.rds -t empty_drops/nonempty.txt                                               ...\n",
    "At an FDR of 0.01, estimate that 34 barcodes have cells.                                                 \n",
    "Will filter to 34 barcodes.\n",
    "\n",
    "Parameter values:\n",
    "             value\n",
    "lower            5\n",
    "niters        1000\n",
    "test_ambient FALSE\n",
    "filter_empty  TRUE\n",
    "filter_fdr    0.01\n",
    "```"
   ]
  },
  {
   "cell_type": "markdown",
   "id": "637f1d68-760c-45ae-a662-a3e6011a4f99",
   "metadata": {},
   "source": [
    "#### Convert from rds to h5ad using sceasy\n",
    "\n",
    "Below, use conda env with `r-sceasy` (e.g., `sc_py_training`).  \n",
    "\n",
    "```\n",
    "(sc_py_training)[fg_atlas@codon-slurm-login-02 af_xmpl_run]$ Rscript -e 'library(sceasy)' \\              \n",
    "> -e 'sce <- readRDS(\"empty_drops/nonempty.rds\")' \\\n",
    "> -e 'sceasy::convertFormat(sce, outFile=\"empty_drops/nonempty.h5ad\", from=\"sce\", to=\"anndata\", main_layer\n",
    "=\"counts\")' \\\n",
    "> -e 'print(sce)'\n",
    "...\n",
    "Loading required package: reticulate\n",
    "Loading required namespace: SingleCellExperiment\n",
    "/hps/nobackup/irene/ma/isl/envs_test/sc_py_training/lib/R/library/reticulate/python/rpytools/loader.py:117\n",
    ": FutureWarning: pandas.core.index is deprecated and will be removed in a future version. The public class\n",
    "es are available in the top-level namespace.\n",
    "  return _find_and_load(name, import_)\n",
    "/hps/software/users/ma/service/isl/conda/config/envs/r-anndata/lib/python3.11/site-packages/anndata/core/a\n",
    "nndata.py:1328: FutureWarning: is_categorical is deprecated and will be removed in a future version. Use i\n",
    "s_categorical_dtype instead.\n",
    "  and not is_categorical(df[key])\n",
    "/hps/software/users/ma/service/isl/conda/config/envs/r-anndata/lib/python3.11/site-packages/anndata/core/a\n",
    "nndata.py:1328: FutureWarning: is_categorical is deprecated and will be removed in a future version. Use i\n",
    "s_categorical_dtype instead.\n",
    "  and not is_categorical(df[key])\n",
    "/hps/software/users/ma/service/isl/conda/config/envs/r-anndata/lib/python3.11/site-packages/anndata/core/a\n",
    "nndata.py:101: FutureWarning: is_categorical is deprecated and will be removed in a future version. Use is\n",
    "_categorical_dtype instead.\n",
    "  if is_string_dtype(df[k]) and not is_categorical(df[k]):                                               \n",
    "/hps/software/users/ma/service/isl/conda/config/envs/r-anndata/lib/python3.11/site-packages/anndata/core/a\n",
    "nndata.py:108: FutureWarning: is_categorical is deprecated and will be removed in a future version. Use is\n",
    "_categorical_dtype instead.\n",
    "  elif is_categorical(df[k]):\n",
    "AnnData object with n_obs <U+00D7> n_vars = 34 <U+00D7> 20                                               \n",
    "    obs: 'Barcode', 'emptyTotal', 'emptyLogProb', 'emptyPValue', 'emptyLimited', 'emptyFDR'              \n",
    "    var: 'ID', 'Symbol'\n",
    "Warning message:\n",
    "In .regularise_df(as.data.frame(SummarizedExperiment::colData(obj)),  :                                  \n",
    "  Dropping single category variables:Sample\n",
    "class: SingleCellExperiment\n",
    "dim: 20 34\n",
    "metadata(0):\n",
    "assays(1): counts\n",
    "rownames(20): ENSG00000131507 ENSG00000131508 ... ENSG00000198961                                        \n",
    "  ENSG00000245526\n",
    "rowData names(2): ID Symbol\n",
    "colnames(34): TCACGCTAGTCCCAAT TGTCCTGCAAGTCGTT ... CAGCAGCGTACGGGAT                                     \n",
    "  CACAGATCACTAAACC\n",
    "colData names(7): Sample Barcode ... emptyLimited emptyFDR                                               \n",
    "reducedDimNames(0):\n",
    "mainExpName: NULL\n",
    "altExpNames(0):\n",
    "```"
   ]
  },
  {
   "cell_type": "markdown",
   "id": "5ac7275a-455d-49b8-8daf-7a86d961171c",
   "metadata": {},
   "source": [
    "#### Questions  \n",
    "How many cell barcodes are left after the emptyDrops treatment?  "
   ]
  },
  {
   "cell_type": "markdown",
   "id": "9d940d16-3b4f-4ec8-850c-75cd82effe64",
   "metadata": {},
   "source": [
    "### Exercises\n",
    "Answer the Questions in each section above. "
   ]
  },
  {
   "cell_type": "markdown",
   "id": "680b3970",
   "metadata": {},
   "source": [
    "### 2.  Quality Control  \n",
    "Activate `sc_py_training` with the following before opening this notebook.  \n",
    "```\n",
    "conda activate sc_py_training\n",
    "```"
   ]
  },
  {
   "cell_type": "markdown",
   "id": "a06d53a8-2e19-4a2e-bb05-871a0127b8f5",
   "metadata": {},
   "source": [
    "#### 2.1 Filtering low quality reads"
   ]
  },
  {
   "cell_type": "code",
   "execution_count": null,
   "id": "b6c2dea2",
   "metadata": {},
   "outputs": [],
   "source": [
    "import numpy as np\n",
    "import scanpy as sc\n",
    "import seaborn as sns\n",
    "from scipy.stats import median_abs_deviation\n",
    "\n",
    "sc.settings.verbosity = 0\n",
    "sc.settings.set_figure_params(\n",
    "    dpi=80,\n",
    "    facecolor=\"white\",\n",
    "    frameon=False,\n",
    ")"
   ]
  },
  {
   "cell_type": "code",
   "execution_count": null,
   "id": "b872f7d5-1129-4281-8e47-08cbc578949a",
   "metadata": {},
   "outputs": [],
   "source": [
    "adata = sc.read_10x_h5(\n",
    "    filename=\"../../training_data/filtered_feature_bc_matrix.h5\",\n",
    "    backup_url=\"https://figshare.com/ndownloader/files/39546196\",\n",
    ")\n",
    "adata"
   ]
  },
  {
   "cell_type": "code",
   "execution_count": null,
   "id": "b7a7c31c-a11f-40d7-8335-28aad5996eda",
   "metadata": {},
   "outputs": [],
   "source": [
    "adata.var_names_make_unique()\n",
    "adata"
   ]
  },
  {
   "cell_type": "markdown",
   "id": "9ab78449-c225-4511-a49d-d2ab35a6fd64",
   "metadata": {},
   "source": [
    "The dataset has 16,934 barcodes and 36,601 transcripts."
   ]
  },
  {
   "cell_type": "markdown",
   "id": "a95870ea-afd7-4d09-9172-1b693029271f",
   "metadata": {},
   "source": [
    "Below, we add series of booleans to identify which variables (transcripts) are from mitochondrial, ribosomal, or hemoglobin genes."
   ]
  },
  {
   "cell_type": "code",
   "execution_count": null,
   "id": "4aa2c99c-ae8c-4f93-b924-56f0cf3eaee0",
   "metadata": {},
   "outputs": [],
   "source": [
    "# mitochondrial genes\n",
    "adata.var[\"mt\"] = adata.var_names.str.startswith(\"MT-\")\n",
    "# ribosomal genes\n",
    "adata.var[\"ribo\"] = adata.var_names.str.startswith((\"RPS\", \"RPL\"))\n",
    "# hemoglobin genes.\n",
    "adata.var[\"hb\"] = adata.var_names.str.contains((\"^HB[^(P)]\"))\n",
    "adata"
   ]
  },
  {
   "cell_type": "markdown",
   "id": "2bc5ac4b-7474-43ec-813d-b24e9315bef6",
   "metadata": {},
   "source": [
    "Below, we calculate qc metrics, which will evaluate the raw observations and therefore will add data to the `adata.obs` dataframe. "
   ]
  },
  {
   "cell_type": "code",
   "execution_count": null,
   "id": "62b862e2-662f-487d-92f8-8d332219a746",
   "metadata": {},
   "outputs": [],
   "source": [
    "sc.pp.calculate_qc_metrics(\n",
    "    adata, qc_vars=[\"mt\", \"ribo\", \"hb\"], inplace=True, percent_top=[20], log1p=True\n",
    ")\n",
    "adata"
   ]
  },
  {
   "cell_type": "code",
   "execution_count": null,
   "id": "334e21e9-a3c7-44bc-914e-73dc94103841",
   "metadata": {},
   "outputs": [],
   "source": [
    "adata.obs.columns"
   ]
  },
  {
   "cell_type": "code",
   "execution_count": null,
   "id": "e8776850-44a1-4b3a-a4d6-a5a33d267b41",
   "metadata": {},
   "outputs": [],
   "source": [
    "# Ditribution of barcodes (cells) in terms of the numbr of genes per barcode (cell)\n",
    "p1 = sns.displot(adata.obs[\"total_counts\"], bins=100, kde=False)\n",
    "# Above distribution viewed as a violon plot:\n",
    "# sc.pl.violin(adata, 'total_counts')\n",
    "\n",
    "# Distribution of barcodes (cells) in terms of the %mt of counts per barcode (cell)\n",
    "p2 = sc.pl.violin(adata, \"pct_counts_mt\")\n",
    "\n",
    "# A scatter representing total_counts (x), n_genes_by_counts (y), and %mt of counts (color) per barcode (cell)\n",
    "p3 = sc.pl.scatter(adata, \"total_counts\", \"n_genes_by_counts\", color=\"pct_counts_mt\")"
   ]
  },
  {
   "cell_type": "markdown",
   "id": "d1870f6d-4c8f-4a03-a781-6e4657dcb95d",
   "metadata": {},
   "source": [
    "Below defines a function that checks if of an observation is an outlier based on namad * MAD.  The output is a series of boleans."
   ]
  },
  {
   "cell_type": "code",
   "execution_count": null,
   "id": "719658f5-ecd1-44c7-8b42-7cba3cfe6ecd",
   "metadata": {},
   "outputs": [],
   "source": [
    "def is_outlier(adata, metric: str, nmads: int):\n",
    "    M = adata.obs[metric]\n",
    "    outlier = (M < np.median(M) - nmads * median_abs_deviation(M)) | (\n",
    "        np.median(M) + nmads * median_abs_deviation(M) < M\n",
    "    )\n",
    "    return outlier"
   ]
  },
  {
   "cell_type": "markdown",
   "id": "f9a1aee3-d794-4d58-aedf-d64e0dd44a1d",
   "metadata": {},
   "source": [
    "Below: `|` is a bitwise or operator comparing a 3 serieses of booleans (metrics).  If an observation (barcode) is an outlier in any of the three metrics, that barcode is tagged as an outlier."
   ]
  },
  {
   "cell_type": "code",
   "execution_count": null,
   "id": "4b882626-bfcb-4325-a868-968af20f0cb3",
   "metadata": {},
   "outputs": [],
   "source": [
    "adata.obs[\"outlier\"] = (\n",
    "    is_outlier(adata, \"log1p_total_counts\", 5)\n",
    "    | is_outlier(adata, \"log1p_n_genes_by_counts\", 5)\n",
    "    | is_outlier(adata, \"pct_counts_in_top_20_genes\", 5)\n",
    ")\n",
    "adata.obs.outlier.value_counts()"
   ]
  },
  {
   "cell_type": "markdown",
   "id": "9b7ce8f5-da08-42e2-9182-9f4b3355e04e",
   "metadata": {},
   "source": [
    "Below, observations (barcodes) are tagged as outliers based on metrics  for the presence of mitochondrial transcripts."
   ]
  },
  {
   "cell_type": "code",
   "execution_count": null,
   "id": "4ef98a82-b671-43bc-9db7-04b615dcd69a",
   "metadata": {},
   "outputs": [],
   "source": [
    "adata.obs[\"mt_outlier\"] = is_outlier(adata, \"pct_counts_mt\", 3) | (\n",
    "    adata.obs[\"pct_counts_mt\"] > 8\n",
    ")\n",
    "adata.obs.mt_outlier.value_counts()"
   ]
  },
  {
   "cell_type": "markdown",
   "id": "f0860e6c-1fca-418d-8e1a-7c8bde385011",
   "metadata": {},
   "source": [
    "Use outlier information to filter barcodes (cells).  Below, we use `~` which is a bitwise `not`, an inverse boolean mask (`True` to `False` and vice versa)."
   ]
  },
  {
   "cell_type": "code",
   "execution_count": null,
   "id": "c62f237e-5a5f-416e-8018-2737864bf453",
   "metadata": {},
   "outputs": [],
   "source": [
    "print(f\"Total number of cells: {adata.n_obs}\")\n",
    "adata = adata[(~adata.obs.outlier) & (~adata.obs.mt_outlier)].copy()\n",
    "print(f\"Number of cells after filtering of low quality cells: {adata.n_obs}\")"
   ]
  },
  {
   "cell_type": "code",
   "execution_count": null,
   "id": "9c9c294d-1c53-4b26-bfbd-26aed6ecb64f",
   "metadata": {},
   "outputs": [],
   "source": [
    "p4 = sc.pl.scatter(adata, \"total_counts\", \"n_genes_by_counts\", color=\"pct_counts_mt\")"
   ]
  },
  {
   "cell_type": "markdown",
   "id": "a9c27df5-507e-447a-a130-fd0df3b48572",
   "metadata": {},
   "source": [
    "*Dev note: If needed, save anndata to hda5 and change conda env to one that can process the rest of the stuff.*"
   ]
  },
  {
   "cell_type": "markdown",
   "id": "26a0e14d-55bd-43f2-b3a3-80b789d46e9c",
   "metadata": {},
   "source": [
    "#### 2.2 Correction of ambient RNA "
   ]
  },
  {
   "cell_type": "code",
   "execution_count": null,
   "id": "5d0bab8a-0b23-4a88-bfd4-87a92f0977e4",
   "metadata": {},
   "outputs": [],
   "source": [
    "import anndata2ri\n",
    "import logging\n",
    "\n",
    "import rpy2.rinterface_lib.callbacks as rcb\n",
    "import rpy2.robjects as ro\n",
    "\n",
    "rcb.logger.setLevel(logging.ERROR)\n",
    "ro.pandas2ri.activate()\n",
    "anndata2ri.activate()\n",
    "\n",
    "%load_ext rpy2.ipython"
   ]
  },
  {
   "cell_type": "code",
   "execution_count": null,
   "id": "7c2d2689-cbd5-4403-b2df-fd630b5d0612",
   "metadata": {},
   "outputs": [],
   "source": [
    "%%R\n",
    "library(SoupX)"
   ]
  },
  {
   "cell_type": "code",
   "execution_count": null,
   "id": "900f6aec-154f-4399-8ea4-c901f8124b1c",
   "metadata": {},
   "outputs": [],
   "source": [
    "adata_pp = adata.copy()\n",
    "sc.pp.normalize_per_cell(adata_pp)\n",
    "sc.pp.log1p(adata_pp)"
   ]
  },
  {
   "cell_type": "code",
   "execution_count": null,
   "id": "79d81a8a-c3e3-40ff-839a-5908cf4262fd",
   "metadata": {},
   "outputs": [],
   "source": [
    "sc.pp.pca(adata_pp)\n",
    "sc.pp.neighbors(adata_pp)\n",
    "sc.tl.leiden(adata_pp, key_added=\"soupx_groups\")\n",
    "\n",
    "# Preprocess variables for SoupX\n",
    "soupx_groups = adata_pp.obs[\"soupx_groups\"]"
   ]
  },
  {
   "cell_type": "code",
   "execution_count": null,
   "id": "f7fbcbf4-9eff-4e3b-8f04-adbadefb145e",
   "metadata": {},
   "outputs": [],
   "source": [
    "del adata_pp"
   ]
  },
  {
   "cell_type": "code",
   "execution_count": null,
   "id": "baafb063-9133-452e-bc34-5d560389aca1",
   "metadata": {},
   "outputs": [],
   "source": [
    "cells = adata.obs_names\n",
    "genes = adata.var_names\n",
    "data = adata.X.T"
   ]
  },
  {
   "cell_type": "code",
   "execution_count": null,
   "id": "22ae1d53-7ef9-4b36-ba9e-6cee27b22f44",
   "metadata": {},
   "outputs": [],
   "source": [
    "adata_raw = sc.read_10x_h5(\n",
    "    filename=\"raw_feature_bc_matrix.h5\",\n",
    "    backup_url=\"https://figshare.com/ndownloader/files/39546217\",\n",
    ")\n",
    "adata_raw.var_names_make_unique()\n",
    "data_tod = adata_raw.X.T"
   ]
  },
  {
   "cell_type": "code",
   "execution_count": null,
   "id": "e433e3f3-c25d-45d6-bf68-97e16c80b46d",
   "metadata": {},
   "outputs": [],
   "source": [
    "del adata_raw"
   ]
  },
  {
   "cell_type": "code",
   "execution_count": null,
   "id": "cd6e8e00-a21e-429f-a59d-505aff29670d",
   "metadata": {},
   "outputs": [],
   "source": [
    "%%R -i data -i data_tod -i genes -i cells -i soupx_groups -o out \n",
    "\n",
    "# specify row and column names of data\n",
    "rownames(data) = genes\n",
    "colnames(data) = cells\n",
    "# ensure correct sparse format for table of counts and table of droplets\n",
    "data <- as(data, \"sparseMatrix\")\n",
    "data_tod <- as(data_tod, \"sparseMatrix\")\n",
    "\n",
    "# Generate SoupChannel Object for SoupX \n",
    "sc = SoupChannel(data_tod, data, calcSoupProfile = FALSE)\n",
    "\n",
    "# Add extra meta data to the SoupChannel object\n",
    "soupProf = data.frame(row.names = rownames(data), est = rowSums(data)/sum(data), counts = rowSums(data))\n",
    "sc = setSoupProfile(sc, soupProf)\n",
    "# Set cluster information in SoupChannel\n",
    "sc = setClusters(sc, soupx_groups)\n",
    "\n",
    "# Estimate contamination fraction\n",
    "sc  = autoEstCont(sc, doPlot=FALSE)\n",
    "# Infer corrected table of counts and rount to integer\n",
    "out = adjustCounts(sc, roundToInt = TRUE)"
   ]
  },
  {
   "cell_type": "code",
   "execution_count": null,
   "id": "7254a4fe-c08a-401b-a33c-c2e2acebb5ac",
   "metadata": {},
   "outputs": [],
   "source": [
    "adata.layers[\"counts\"] = adata.X\n",
    "adata.layers[\"soupX_counts\"] = out.T\n",
    "adata.X = adata.layers[\"soupX_counts\"]"
   ]
  },
  {
   "cell_type": "code",
   "execution_count": null,
   "id": "4aefbaaf-dcc6-4b99-b3da-6f5247731c33",
   "metadata": {},
   "outputs": [],
   "source": [
    "print(f\"Total number of genes: {adata.n_vars}\")\n",
    "\n",
    "# Min 20 cells - filters out 0 count genes\n",
    "sc.pp.filter_genes(adata, min_cells=20)\n",
    "print(f\"Number of genes after cell filter: {adata.n_vars}\")"
   ]
  },
  {
   "cell_type": "markdown",
   "id": "e9713dea-d466-40c5-a34e-015d4808cc71",
   "metadata": {},
   "source": [
    "Note: Above count for number of genes is not the same as the book. "
   ]
  },
  {
   "cell_type": "code",
   "execution_count": null,
   "id": "11db6de4-b07f-4244-a0cd-99c374ba3571",
   "metadata": {},
   "outputs": [],
   "source": [
    "# Save above data, so as not to repeat all of above when kernel stops\n",
    "adata.write(\"../../training_data/s4d8_corrected_ambient_RNA.h5ad\")"
   ]
  },
  {
   "cell_type": "markdown",
   "id": "d6d52632-25f7-448b-977b-bf8d914d994e",
   "metadata": {},
   "source": [
    "#### 2.3 Doublet Detection  "
   ]
  },
  {
   "cell_type": "code",
   "execution_count": null,
   "id": "e9741445-7a0d-491f-ae97-9f9be035a8e8",
   "metadata": {},
   "outputs": [],
   "source": [
    "%%R\n",
    "library(Seurat)\n",
    "library(scater)\n",
    "library(scDblFinder)\n",
    "library(BiocParallel)"
   ]
  },
  {
   "cell_type": "code",
   "execution_count": null,
   "id": "ec45c51a-fe47-4a61-bf75-2b8cac349f8d",
   "metadata": {},
   "outputs": [],
   "source": [
    "data_mat = adata.X.T"
   ]
  },
  {
   "cell_type": "code",
   "execution_count": null,
   "id": "abfbf10f-a864-4fbf-b519-11f0ec5a1cfa",
   "metadata": {},
   "outputs": [],
   "source": [
    "%%R -i data_mat -o doublet_score -o doublet_class\n",
    "\n",
    "set.seed(123)\n",
    "sce = scDblFinder(\n",
    "    SingleCellExperiment(\n",
    "        list(counts=data_mat),\n",
    "    ) \n",
    ")\n",
    "doublet_score = sce$scDblFinder.score\n",
    "doublet_class = sce$scDblFinder.class"
   ]
  },
  {
   "cell_type": "code",
   "execution_count": null,
   "id": "9e1e5dcf-de05-4f5d-bba8-42f570891977",
   "metadata": {},
   "outputs": [],
   "source": [
    "adata.obs[\"scDblFinder_score\"] = doublet_score\n",
    "adata.obs[\"scDblFinder_class\"] = doublet_class\n",
    "adata.obs.scDblFinder_class.value_counts()"
   ]
  },
  {
   "cell_type": "code",
   "execution_count": null,
   "id": "23738db2-50af-40cb-8eb1-2a88f8424d39",
   "metadata": {},
   "outputs": [],
   "source": [
    "adata.write(\"../../training_data/s4d8_quality_control.h5ad\")"
   ]
  },
  {
   "cell_type": "markdown",
   "id": "fe5a24d0-1cfe-4d49-afc1-d5b87e60bbc9",
   "metadata": {},
   "source": [
    "### 3. Normalization"
   ]
  },
  {
   "cell_type": "code",
   "execution_count": null,
   "id": "5c613c33-9a8b-4946-a7d9-522e00934ded",
   "metadata": {},
   "outputs": [],
   "source": [
    "import scanpy as sc\n",
    "import numpy as np\n",
    "import seaborn as sns\n",
    "from matplotlib import pyplot as plt\n",
    "import anndata2ri\n",
    "import logging\n",
    "from scipy.sparse import issparse\n",
    "\n",
    "import rpy2.rinterface_lib.callbacks as rcb\n",
    "import rpy2.robjects as ro\n",
    "\n",
    "sc.settings.verbosity = 0\n",
    "sc.settings.set_figure_params(\n",
    "    dpi=80,\n",
    "    facecolor=\"white\",\n",
    "    # color_map=\"YlGnBu\",\n",
    "    frameon=False,\n",
    ")\n",
    "\n",
    "rcb.logger.setLevel(logging.ERROR)\n",
    "ro.pandas2ri.activate()\n",
    "anndata2ri.activate()\n",
    "\n",
    "%load_ext rpy2.ipython"
   ]
  },
  {
   "cell_type": "code",
   "execution_count": null,
   "id": "8b6efaca-3a5a-4dac-9107-5451383dd940",
   "metadata": {},
   "outputs": [],
   "source": [
    "adata = sc.read(\n",
    "    filename=\"../../training_data/s4d8_quality_control.h5ad\",\n",
    "    backup_url=\"https://figshare.com/ndownloader/files/40014331\",\n",
    ")"
   ]
  },
  {
   "cell_type": "code",
   "execution_count": null,
   "id": "811ed644-83bf-472d-93a7-46f6614b9694",
   "metadata": {},
   "outputs": [],
   "source": [
    "p1 = sns.histplot(adata.obs[\"total_counts\"], bins=100, kde=False)"
   ]
  },
  {
   "cell_type": "markdown",
   "id": "24057a6a-58c9-4a2c-96c2-bb1b6c516427",
   "metadata": {},
   "source": [
    "#### 3.1 Shifted logarithm"
   ]
  },
  {
   "cell_type": "code",
   "execution_count": null,
   "id": "53afdddf-095c-4d39-80f6-d0e1def0061a",
   "metadata": {},
   "outputs": [],
   "source": [
    "scales_counts = sc.pp.normalize_total(adata, target_sum=None, inplace=False)\n",
    "# log1p transform\n",
    "adata.layers[\"log1p_norm\"] = sc.pp.log1p(scales_counts[\"X\"], copy=True)"
   ]
  },
  {
   "cell_type": "code",
   "execution_count": null,
   "id": "1fae84ec-34b3-4a1a-a453-3d2238de18e4",
   "metadata": {},
   "outputs": [],
   "source": [
    "fig, axes = plt.subplots(1, 2, figsize=(10, 5))\n",
    "p1 = sns.histplot(adata.obs[\"total_counts\"], bins=100, kde=False, ax=axes[0])\n",
    "axes[0].set_title(\"Total counts\")\n",
    "p2 = sns.histplot(adata.layers[\"log1p_norm\"].sum(1), bins=100, kde=False, ax=axes[1])\n",
    "axes[1].set_title(\"Shifted logarithm\")\n",
    "plt.show()"
   ]
  },
  {
   "cell_type": "code",
   "execution_count": null,
   "id": "5f2944b1-2a32-4e1d-a193-41136c3100e4",
   "metadata": {},
   "outputs": [],
   "source": [
    "from scipy.sparse import csr_matrix, issparse"
   ]
  },
  {
   "cell_type": "code",
   "execution_count": null,
   "id": "a2ba017e-fe57-42b6-b56f-65c229e0b91e",
   "metadata": {},
   "outputs": [],
   "source": [
    "%%R\n",
    "library(scran)\n",
    "library(BiocParallel)"
   ]
  },
  {
   "cell_type": "code",
   "execution_count": null,
   "id": "6155298b-a318-4167-8f0d-b76343fba742",
   "metadata": {},
   "outputs": [],
   "source": [
    "# Preliminary clustering for differentiated normalisation\n",
    "adata_pp = adata.copy()\n",
    "sc.pp.normalize_total(adata_pp)\n",
    "sc.pp.log1p(adata_pp)\n",
    "sc.pp.pca(adata_pp, n_comps=15)\n",
    "sc.pp.neighbors(adata_pp)\n",
    "sc.tl.leiden(adata_pp, key_added=\"groups\")"
   ]
  },
  {
   "cell_type": "code",
   "execution_count": null,
   "id": "9aac1ba0-54ee-4ba9-aaaf-3f4cb4462103",
   "metadata": {},
   "outputs": [],
   "source": [
    "data_mat = adata_pp.X.T\n",
    "# convert to CSC if possible. See https://github.com/MarioniLab/scran/issues/70\n",
    "if issparse(data_mat):\n",
    "    if data_mat.nnz > 2**31 - 1:\n",
    "        data_mat = data_mat.tocoo()\n",
    "    else:\n",
    "        data_mat = data_mat.tocsc()\n",
    "ro.globalenv[\"data_mat\"] = data_mat\n",
    "ro.globalenv[\"input_groups\"] = adata_pp.obs[\"groups\"]"
   ]
  },
  {
   "cell_type": "code",
   "execution_count": null,
   "id": "213177ec-acd3-4ce8-b269-ca593f893a8a",
   "metadata": {},
   "outputs": [],
   "source": [
    "del adata_pp"
   ]
  },
  {
   "cell_type": "code",
   "execution_count": null,
   "id": "4ae1e56b-b7a2-4c8c-b219-37807a3cc461",
   "metadata": {},
   "outputs": [],
   "source": [
    "%%R -o size_factors\n",
    "\n",
    "size_factors = sizeFactors(\n",
    "    computeSumFactors(\n",
    "        SingleCellExperiment(\n",
    "            list(counts=data_mat)), \n",
    "            clusters = input_groups,\n",
    "            min.mean = 0.1,\n",
    "            BPPARAM = MulticoreParam()\n",
    "    )\n",
    ")"
   ]
  },
  {
   "cell_type": "code",
   "execution_count": null,
   "id": "01a49378-4276-4177-90eb-4367ed0596f8",
   "metadata": {},
   "outputs": [],
   "source": [
    "adata.obs[\"size_factors\"] = size_factors\n",
    "scran = adata.X / adata.obs[\"size_factors\"].values[:, None]\n",
    "adata.layers[\"scran_normalization\"] = csr_matrix(sc.pp.log1p(scran))"
   ]
  },
  {
   "cell_type": "code",
   "execution_count": null,
   "id": "1af28ea8-962c-46a2-b256-dd12b7d9dab3",
   "metadata": {},
   "outputs": [],
   "source": [
    "adata.write(\"../../training_data/s4d8_log1p_normalization.h5ad\")"
   ]
  },
  {
   "cell_type": "code",
   "execution_count": null,
   "id": "27c46387-532f-4b14-910a-5aa613628f9c",
   "metadata": {},
   "outputs": [],
   "source": [
    "fig, axes = plt.subplots(1, 2, figsize=(10, 5))\n",
    "p1 = sns.histplot(adata.obs[\"total_counts\"], bins=100, kde=False, ax=axes[0])\n",
    "axes[0].set_title(\"Total counts\")\n",
    "p2 = sns.histplot(\n",
    "    adata.layers[\"scran_normalization\"].sum(1), bins=100, kde=False, ax=axes[1]\n",
    ")\n",
    "axes[1].set_title(\"log1p with Scran estimated size factors\")\n",
    "plt.show()"
   ]
  },
  {
   "cell_type": "markdown",
   "id": "136feb5a-e382-4a5c-b842-1cf5fbdad0e5",
   "metadata": {},
   "source": [
    "#### 3.2 Analytic Pearson Residuals"
   ]
  },
  {
   "cell_type": "code",
   "execution_count": 1,
   "id": "c00abb59-5013-4c12-99f0-5eac164f20e6",
   "metadata": {},
   "outputs": [],
   "source": [
    "# Run this if kernel stops below\n",
    "# adata = sc.read(\"../../training_data/s4d8_log1p_normalization.h5ad\")"
   ]
  },
  {
   "cell_type": "markdown",
   "id": "55b6159a-6266-4331-bde2-f6030e46e342",
   "metadata": {},
   "source": [
    "Cell below is memory-intensive"
   ]
  },
  {
   "cell_type": "code",
   "execution_count": null,
   "id": "cee651e9-49a1-4c94-9d3d-fa62ca170be3",
   "metadata": {},
   "outputs": [],
   "source": [
    "analytic_pearson = sc.experimental.pp.normalize_pearson_residuals(adata, inplace=False)\n",
    "adata.layers[\"analytic_pearson_residuals\"] = csr_matrix(analytic_pearson[\"X\"])"
   ]
  },
  {
   "cell_type": "code",
   "execution_count": null,
   "id": "ad488e32-c47d-4aee-b75e-f04fa9dc533d",
   "metadata": {},
   "outputs": [],
   "source": [
    "fig, axes = plt.subplots(1, 2, figsize=(10, 5))\n",
    "p1 = sns.histplot(adata.obs[\"total_counts\"], bins=100, kde=False, ax=axes[0])\n",
    "axes[0].set_title(\"Total counts\")\n",
    "p2 = sns.histplot(\n",
    "    adata.layers[\"analytic_pearson_residuals\"].sum(1), bins=100, kde=False, ax=axes[1]\n",
    ")\n",
    "axes[1].set_title(\"Analytic Pearson residuals\")\n",
    "plt.show()"
   ]
  },
  {
   "cell_type": "code",
   "execution_count": null,
   "id": "17aede63-78d7-4c7f-b11f-35a3e75d79fc",
   "metadata": {},
   "outputs": [],
   "source": [
    "adata.write(\"../../training_data/s4d8_normalization.h5ad\")"
   ]
  },
  {
   "cell_type": "markdown",
   "id": "5b28c86a-2886-47a9-97d1-f3781e11bee2",
   "metadata": {},
   "source": [
    "### 4. Feature Selection"
   ]
  },
  {
   "cell_type": "markdown",
   "id": "66081511-57ac-4f7e-bbdd-fe782b938f53",
   "metadata": {},
   "source": [
    "One of the commands below is memory-intensive (goes over the VM limit).  Export notebook with results to HTML first, then restart kernel before proceeding below. "
   ]
  },
  {
   "cell_type": "code",
   "execution_count": null,
   "id": "22f81108-f6ca-4f9d-991e-69a0382ac18a",
   "metadata": {},
   "outputs": [],
   "source": [
    "import scanpy as sc\n",
    "import anndata2ri\n",
    "import logging\n",
    "import matplotlib.pyplot as plt\n",
    "import numpy as np\n",
    "import seaborn as sns\n",
    "\n",
    "import rpy2.rinterface_lib.callbacks as rcb\n",
    "import rpy2.robjects as ro\n",
    "\n",
    "sc.settings.verbosity = 0\n",
    "sc.settings.set_figure_params(\n",
    "    dpi=80,\n",
    "    facecolor=\"white\",\n",
    "    frameon=False,\n",
    ")\n",
    "\n",
    "rcb.logger.setLevel(logging.ERROR)\n",
    "ro.pandas2ri.activate()\n",
    "anndata2ri.activate()\n",
    "\n",
    "%load_ext rpy2.ipython"
   ]
  },
  {
   "cell_type": "code",
   "execution_count": null,
   "id": "a9af4b51-9597-41ea-83b6-aadcf048e06a",
   "metadata": {},
   "outputs": [],
   "source": [
    "%%R\n",
    "library(scry)"
   ]
  },
  {
   "cell_type": "code",
   "execution_count": null,
   "id": "328a329b-67c9-4f77-a1b5-44f9b3c5950e",
   "metadata": {},
   "outputs": [],
   "source": [
    "adata = sc.read(\n",
    "    filename=\"../../training_data/s4d8_normalization.h5ad\",\n",
    "    backup_url=\"https://figshare.com/ndownloader/files/40015741\",\n",
    ")"
   ]
  },
  {
   "cell_type": "code",
   "execution_count": null,
   "id": "cf74e814-bfbb-41b9-ab6f-e90ff771f26e",
   "metadata": {},
   "outputs": [],
   "source": [
    "ro.globalenv[\"adata\"] = adata"
   ]
  },
  {
   "cell_type": "code",
   "execution_count": null,
   "id": "1ec6941d-4824-41c7-8288-ca1e68152cd3",
   "metadata": {},
   "outputs": [],
   "source": [
    "%%R\n",
    "sce = devianceFeatureSelection(adata, assay=\"X\")"
   ]
  },
  {
   "cell_type": "code",
   "execution_count": null,
   "id": "87ae8162-4008-4d5b-922f-6f60cc452eae",
   "metadata": {},
   "outputs": [],
   "source": [
    "binomial_deviance = ro.r(\"rowData(sce)$binomial_deviance\").T"
   ]
  },
  {
   "cell_type": "code",
   "execution_count": null,
   "id": "6e1a19af-c3e5-4e9c-acf2-82e9f9081bb1",
   "metadata": {},
   "outputs": [],
   "source": [
    "idx = binomial_deviance.argsort()[-4000:]\n",
    "mask = np.zeros(adata.var_names.shape, dtype=bool)\n",
    "mask[idx] = True\n",
    "\n",
    "adata.var[\"highly_deviant\"] = mask\n",
    "adata.var[\"binomial_deviance\"] = binomial_deviance"
   ]
  },
  {
   "cell_type": "code",
   "execution_count": null,
   "id": "85c86716-8b42-4b60-a880-092cbdbdeb7b",
   "metadata": {},
   "outputs": [],
   "source": [
    "sc.pp.highly_variable_genes(adata, layer=\"scran_normalization\")"
   ]
  },
  {
   "cell_type": "code",
   "execution_count": null,
   "id": "a608f2c4-dd4a-44d3-b568-2c8ba5812396",
   "metadata": {},
   "outputs": [],
   "source": [
    "ax = sns.scatterplot(\n",
    "    data=adata.var, x=\"means\", y=\"dispersions\", hue=\"highly_deviant\", s=5\n",
    ")\n",
    "ax.set_xlim(None, 1.5)\n",
    "ax.set_ylim(None, 3)\n",
    "plt.show()"
   ]
  },
  {
   "cell_type": "code",
   "execution_count": null,
   "id": "7b158839-2699-4c35-b960-2fdae8a0408d",
   "metadata": {},
   "outputs": [],
   "source": [
    "adata.write(\"../../training_data/s4d8_feature_selection.h5ad\")"
   ]
  }
 ],
 "metadata": {
  "kernelspec": {
   "display_name": "Python 3 (ipykernel)",
   "language": "python",
   "name": "python3"
  },
  "language_info": {
   "codemirror_mode": {
    "name": "ipython",
    "version": 3
   },
   "file_extension": ".py",
   "mimetype": "text/x-python",
   "name": "python",
   "nbconvert_exporter": "python",
   "pygments_lexer": "ipython3",
   "version": "3.11.4"
  }
 },
 "nbformat": 4,
 "nbformat_minor": 5
}
